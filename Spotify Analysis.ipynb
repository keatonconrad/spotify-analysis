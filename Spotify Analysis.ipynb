{
 "cells": [
  {
   "cell_type": "code",
   "execution_count": null,
   "source": [
    "import os\n",
    "import pandas as pd\n",
    "import spotipy\n",
    "import billboard\n",
    "from spotipy.oauth2 import SpotifyClientCredentials\n",
    "from spotipy.cache_handler import CacheFileHandler\n",
    "\n",
    "spotify = spotipy.Spotify(client_credentials_manager=SpotifyClientCredentials(client_id=os.environ['SPOTIFY_CLIENT_ID'], client_secret=os.environ['SPOTIFY_CLIENT_SECRET'], cache_handler=CacheFileHandler(username='keatonconrad')))"
   ],
   "outputs": [],
   "metadata": {}
  },
  {
   "cell_type": "code",
   "execution_count": null,
   "source": [
    "import lyricsgenius\n",
    "genius = lyricsgenius.Genius(os.environ['GENIUS_TOKEN'], verbose=False, remove_section_headers=True)"
   ],
   "outputs": [],
   "metadata": {}
  },
  {
   "cell_type": "code",
   "execution_count": null,
   "source": [
    "chart = billboard.ChartData('hot-100')\n",
    "\n",
    "tracks_scraped = [] # Used to avoid searching for same song twice, since peak chart position won't change\n",
    "track_positions = {}\n",
    "weeks = 0\n",
    "\n",
    "while chart.previousDate and weeks < 100:\n",
    "    for song in chart:\n",
    "        if song.title + ' ' + song.artist in tracks_scraped:\n",
    "            continue\n",
    "            \n",
    "        artist = song.artist.replace('Featuring ', '').replace('feat. ', '').replace('feat ', '').replace('& ', '')\n",
    "        search_results = spotify.search(q=song.title + ' ' + artist, limit=1, type='track', market='US')\n",
    "        tracks_scraped.append(song.title + ' ' + song.artist)\n",
    "        \n",
    "        try:\n",
    "            uri = search_results['tracks']['items'][0]['uri']\n",
    "            track_positions[uri] = int(song.peakPos)\n",
    "        except IndexError: # If search didn't return anything\n",
    "            print(search_results)\n",
    "            continue\n",
    "            \n",
    "    chart = billboard.ChartData('hot-100', chart.previousDate)\n",
    "    weeks += 1\n",
    "\n",
    "len(track_positions)"
   ],
   "outputs": [],
   "metadata": {
    "scrolled": true
   }
  },
  {
   "cell_type": "code",
   "execution_count": null,
   "source": [
    "features = []\n",
    "for track in track_positions.keys():\n",
    "    features.append(spotify.audio_features(tracks=track)[0])"
   ],
   "outputs": [],
   "metadata": {
    "scrolled": true
   }
  },
  {
   "cell_type": "code",
   "execution_count": null,
   "source": [
    "full_df = pd.DataFrame(features)\n",
    "print(full_df.columns)\n",
    "full_df.drop(['type', 'id', 'uri', 'track_href', 'analysis_url'], axis=1, inplace=True)\n",
    "full_df['chart_position'] = track_positions.values()"
   ],
   "outputs": [],
   "metadata": {}
  },
  {
   "cell_type": "code",
   "execution_count": null,
   "source": [
    "full_df['polarity'] = polarity\n",
    "full_df['subjectivity'] = subjectivity\n",
    "full_df['lyrics'] = lyrics\n",
    "full_df.head()"
   ],
   "outputs": [],
   "metadata": {}
  },
  {
   "cell_type": "code",
   "execution_count": null,
   "source": [
    "top_10_df = full_df.loc[full_df['chart_position'] <= 10]\n",
    "top_10_df.describe()"
   ],
   "outputs": [],
   "metadata": {}
  },
  {
   "cell_type": "code",
   "execution_count": null,
   "source": [
    "bottom_90_df = full_df.loc[full_df['chart_position'] > 10]\n",
    "bottom_90_df.describe()"
   ],
   "outputs": [],
   "metadata": {}
  },
  {
   "cell_type": "code",
   "execution_count": null,
   "source": [
    "for column in full_df.columns:\n",
    "    t = ttest_ind(top_10_df[column].astype(float), bottom_90_df[column].astype(float))\n",
    "    print(column + ' - T: ' + str(t[0]) + ', p: ' + str(t[1]))"
   ],
   "outputs": [],
   "metadata": {}
  },
  {
   "cell_type": "code",
   "execution_count": null,
   "source": [
    "import re\n",
    "from textblob import TextBlob\n",
    "\n",
    "polarity = []\n",
    "subjectivity = []\n",
    "lyrics = []\n",
    "\n",
    "for i, song in full_df.iterrows():\n",
    "    try:\n",
    "        song = genius.search_song(song['song'], song['artist'])\n",
    "        song_lyrics = re.sub(r'\\[.*?\\]\\n', '', song.lyrics).replace('\\n', ' ')\n",
    "        blob = TextBlob(song_lyrics)\n",
    "        polarity.append(blob.sentiment[0])\n",
    "        subjectivity.append(blob.sentiment[1])\n",
    "        lyrics.apppend(song_lyrics)\n",
    "    except:\n",
    "        polarity.append(None)\n",
    "        subjectivity.append(None)\n",
    "        lyrics.apppend(None)\n",
    "\n",
    "full_df['polarity'] = polarity\n",
    "full_df['subjectivity'] = subjectivity\n",
    "full_df['lyrics'] = lyrics"
   ],
   "outputs": [],
   "metadata": {
    "scrolled": false
   }
  },
  {
   "cell_type": "code",
   "execution_count": null,
   "source": [
    "import re\n",
    "from textblob import TextBlob\n",
    "\n",
    "song = genius.search_song('Nicotine', 'Keaton Conrad')\n",
    "lyrics = re.sub(r'\\[.*?\\]\\n', '', song.lyrics)\n",
    "\n",
    "blob = TextBlob(lyrics)\n",
    "print(blob.sentiment)"
   ],
   "outputs": [],
   "metadata": {}
  },
  {
   "cell_type": "code",
   "execution_count": null,
   "source": [],
   "outputs": [],
   "metadata": {}
  }
 ],
 "metadata": {
  "kernelspec": {
   "display_name": "Python 3",
   "language": "python",
   "name": "python3"
  },
  "language_info": {
   "codemirror_mode": {
    "name": "ipython",
    "version": 3
   },
   "file_extension": ".py",
   "mimetype": "text/x-python",
   "name": "python",
   "nbconvert_exporter": "python",
   "pygments_lexer": "ipython3",
   "version": "3.9.2"
  }
 },
 "nbformat": 4,
 "nbformat_minor": 5
}