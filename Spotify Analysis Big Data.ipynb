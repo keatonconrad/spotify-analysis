{
 "cells": [
  {
   "cell_type": "code",
   "execution_count": 9,
   "source": [
    "%pip install spotipy --upgrade\n",
    "%pip install lyricsgenius\n",
    "%pip install textblob"
   ],
   "outputs": [
    {
     "output_type": "stream",
     "name": "stdout",
     "text": [
      "Requirement already satisfied: spotipy in /usr/local/lib/python3.7/site-packages (2.18.0)\n",
      "Requirement already satisfied: urllib3>=1.26.0 in /usr/local/lib/python3.7/site-packages (from spotipy) (1.26.4)\n",
      "Requirement already satisfied: requests>=2.25.0 in /usr/local/lib/python3.7/site-packages (from spotipy) (2.25.1)\n",
      "Requirement already satisfied: six>=1.15.0 in /usr/local/lib/python3.7/site-packages (from spotipy) (1.15.0)\n",
      "Requirement already satisfied: idna<3,>=2.5 in /usr/local/lib/python3.7/site-packages (from requests>=2.25.0->spotipy) (2.10)\n",
      "Requirement already satisfied: chardet<5,>=3.0.2 in /usr/local/lib/python3.7/site-packages (from requests>=2.25.0->spotipy) (3.0.4)\n",
      "Requirement already satisfied: certifi>=2017.4.17 in /usr/local/lib/python3.7/site-packages (from requests>=2.25.0->spotipy) (2020.12.5)\n",
      "\u001b[33mWARNING: You are using pip version 21.0.1; however, version 21.1 is available.\n",
      "You should consider upgrading via the '/usr/local/bin/python -m pip install --upgrade pip' command.\u001b[0m\n",
      "Note: you may need to restart the kernel to use updated packages.\n",
      "Requirement already satisfied: lyricsgenius in /usr/local/lib/python3.7/site-packages (3.0.1)\n",
      "Requirement already satisfied: beautifulsoup4>=4.6.0 in /usr/local/lib/python3.7/site-packages (from lyricsgenius) (4.9.3)\n",
      "Requirement already satisfied: requests>=2.20.0 in /usr/local/lib/python3.7/site-packages (from lyricsgenius) (2.25.1)\n",
      "Requirement already satisfied: soupsieve>1.2 in /usr/local/lib/python3.7/site-packages (from beautifulsoup4>=4.6.0->lyricsgenius) (2.2.1)\n",
      "Requirement already satisfied: certifi>=2017.4.17 in /usr/local/lib/python3.7/site-packages (from requests>=2.20.0->lyricsgenius) (2020.12.5)\n",
      "Requirement already satisfied: idna<3,>=2.5 in /usr/local/lib/python3.7/site-packages (from requests>=2.20.0->lyricsgenius) (2.10)\n",
      "Requirement already satisfied: chardet<5,>=3.0.2 in /usr/local/lib/python3.7/site-packages (from requests>=2.20.0->lyricsgenius) (3.0.4)\n",
      "Requirement already satisfied: urllib3<1.27,>=1.21.1 in /usr/local/lib/python3.7/site-packages (from requests>=2.20.0->lyricsgenius) (1.26.4)\n",
      "\u001b[33mWARNING: You are using pip version 21.0.1; however, version 21.1 is available.\n",
      "You should consider upgrading via the '/usr/local/bin/python -m pip install --upgrade pip' command.\u001b[0m\n",
      "Note: you may need to restart the kernel to use updated packages.\n",
      "Requirement already satisfied: textblob in /usr/local/lib/python3.7/site-packages (0.15.3)\n",
      "Requirement already satisfied: nltk>=3.1 in /usr/local/lib/python3.7/site-packages (from textblob) (3.6.2)\n",
      "Requirement already satisfied: regex in /usr/local/lib/python3.7/site-packages (from nltk>=3.1->textblob) (2021.4.4)\n",
      "Requirement already satisfied: tqdm in /usr/local/lib/python3.7/site-packages (from nltk>=3.1->textblob) (4.60.0)\n",
      "Requirement already satisfied: click in /usr/local/lib/python3.7/site-packages (from nltk>=3.1->textblob) (7.1.2)\n",
      "Requirement already satisfied: joblib in /usr/local/lib/python3.7/site-packages (from nltk>=3.1->textblob) (1.0.1)\n",
      "\u001b[33mWARNING: You are using pip version 21.0.1; however, version 21.1 is available.\n",
      "You should consider upgrading via the '/usr/local/bin/python -m pip install --upgrade pip' command.\u001b[0m\n",
      "Note: you may need to restart the kernel to use updated packages.\n"
     ]
    }
   ],
   "metadata": {
    "collapsed": true,
    "jupyter": {
     "outputs_hidden": true
    }
   }
  },
  {
   "cell_type": "code",
   "execution_count": 12,
   "source": [
    "import os\n",
    "import pandas as pd\n",
    "import spotipy\n",
    "from spotipy.oauth2 import SpotifyClientCredentials\n",
    "from spotipy.cache_handler import CacheFileHandler\n",
    "\n",
    "spotify = spotipy.Spotify(client_credentials_manager=SpotifyClientCredentials(client_id=os.environ['SPOTIFY_CLIENT_ID'], client_secret=os.environ['SPOTIFY_CLIENT_SECRET'], cache_handler=CacheFileHandler(username='keatonconrad')))"
   ],
   "outputs": [
    {
     "output_type": "error",
     "ename": "ModuleNotFoundError",
     "evalue": "No module named 'spotipy'",
     "traceback": [
      "\u001b[0;31m---------------------------------------------------------------------------\u001b[0m",
      "\u001b[0;31mModuleNotFoundError\u001b[0m                       Traceback (most recent call last)",
      "\u001b[0;32m<ipython-input-12-8d2279168870>\u001b[0m in \u001b[0;36m<module>\u001b[0;34m\u001b[0m\n\u001b[1;32m      1\u001b[0m \u001b[0;32mimport\u001b[0m \u001b[0mpandas\u001b[0m \u001b[0;32mas\u001b[0m \u001b[0mpd\u001b[0m\u001b[0;34m\u001b[0m\u001b[0;34m\u001b[0m\u001b[0m\n\u001b[0;32m----> 2\u001b[0;31m \u001b[0;32mimport\u001b[0m \u001b[0mspotipy\u001b[0m\u001b[0;34m\u001b[0m\u001b[0;34m\u001b[0m\u001b[0m\n\u001b[0m\u001b[1;32m      3\u001b[0m \u001b[0;32mfrom\u001b[0m \u001b[0mspotipy\u001b[0m\u001b[0;34m.\u001b[0m\u001b[0moauth2\u001b[0m \u001b[0;32mimport\u001b[0m \u001b[0mSpotifyClientCredentials\u001b[0m\u001b[0;34m\u001b[0m\u001b[0;34m\u001b[0m\u001b[0m\n\u001b[1;32m      4\u001b[0m \u001b[0;32mfrom\u001b[0m \u001b[0mspotipy\u001b[0m\u001b[0;34m.\u001b[0m\u001b[0mcache_handler\u001b[0m \u001b[0;32mimport\u001b[0m \u001b[0mCacheFileHandler\u001b[0m\u001b[0;34m\u001b[0m\u001b[0;34m\u001b[0m\u001b[0m\n\u001b[1;32m      5\u001b[0m \u001b[0;34m\u001b[0m\u001b[0m\n",
      "\u001b[0;31mModuleNotFoundError\u001b[0m: No module named 'spotipy'"
     ]
    }
   ],
   "metadata": {}
  },
  {
   "cell_type": "markdown",
   "source": [
    "# Importing Data\n",
    "\n",
    "## Million Song Dataset\n",
    "\n",
    "To start, we import a subset of the [Million Song Dataset](http://millionsongdataset.com/) and read it into a DataFrame with pandas for easy processing. The dataset contains random songs of various genres from 1922 to 2011. We'll use this to collect non-hit songs.\n",
    "\n",
    "The DataFrame is shuffled to mitigate any bias in the order."
   ],
   "metadata": {}
  },
  {
   "cell_type": "code",
   "execution_count": null,
   "source": [
    "song_data = pd.read_csv('./song-list.txt', sep='<SEP>', engine='python')\n",
    "song_data = song_data.sample(frac=1)\n",
    "song_data.describe()"
   ],
   "outputs": [],
   "metadata": {}
  },
  {
   "cell_type": "markdown",
   "source": [
    "## Spotify and Billboard Data\n",
    "\n",
    "We import a dataset that contains historical Billboard Hot 100 data mapped to each song's Spotify ID. This is incredibly useful as it helps us collect the audio features later. This dataset will be used to collect features from hit songs.\n",
    "\n",
    "Like the previous dataset, we shuffle it to avoid any ordering bias."
   ],
   "metadata": {}
  },
  {
   "cell_type": "code",
   "execution_count": null,
   "source": [
    "spotify_billboard_data = pd.read_csv('./spotify-billboard-data.csv')\n",
    "spotify_billboard_data = spotify_billboard_data.sample(frac=1)\n",
    "print(spotify_billboard_data.columns)\n",
    "hit_track_ids = spotify_billboard_data['spotify_track_id'].tolist()\n",
    "spotify_billboard_data.describe()"
   ],
   "outputs": [],
   "metadata": {
    "scrolled": true
   }
  },
  {
   "cell_type": "markdown",
   "source": [
    "# Data Enrichment"
   ],
   "metadata": {}
  },
  {
   "cell_type": "code",
   "execution_count": null,
   "source": [
    "def get_track_info(track, hit):\n",
    "    # Helper function to clean up code later\n",
    "    \n",
    "    explicit = 1 if track['explicit'] else 0\n",
    "    try:\n",
    "        isrc = track['external_ids']['isrc']\n",
    "    except KeyError:\n",
    "        isrc = None\n",
    "        \n",
    "    return {\n",
    "        'spotify_track_id': track['id'],\n",
    "        'isrc': isrc,\n",
    "        'artist': track['artists'][0]['name'],\n",
    "        'artist_id': track['artists'][0]['id'],\n",
    "        'song': track['name'],\n",
    "        'spotify_track_album': track['album']['name'],\n",
    "        'year': track['album']['release_date'][:4],\n",
    "        'explicit': explicit,\n",
    "        'hit': hit,\n",
    "        'current_popularity': track['popularity'] # As of 4/20/21\n",
    "    }"
   ],
   "outputs": [],
   "metadata": {}
  },
  {
   "cell_type": "markdown",
   "source": [
    "## Non-Hit Songs\n",
    "\n",
    "We can't do much with just the song title and artist, as given in the Million Song Dataset. Here, we do a search on Spotify to find the closest matching song and retrieve the track ID, album, and explicit information, among other data.\n",
    "\n",
    "It should be noted that this step has some inherent inaccuracy due to its reliance on Spotify's search feature. There is no guarantee the correct song will be returned."
   ],
   "metadata": {}
  },
  {
   "cell_type": "code",
   "execution_count": null,
   "source": [
    "from tqdm import tqdm\n",
    "\n",
    "no_hit_arr = []\n",
    "song_data_sample = song_data.head(len(spotify_billboard_data))\n",
    "\n",
    "for i, song in tqdm(song_data_sample.iterrows(), total=song_data_sample.shape[0]):\n",
    "    artist = song['Performer'].replace('Featuring ', '').replace('feat. ', '').replace('feat ', '').replace('& ', '')\n",
    "    search_results = spotify.search(q=song['Song'] + ' ' + artist, limit=1, type='track', market='US')\n",
    "    try:\n",
    "        track = search_results['tracks']['items'][0]\n",
    "    except IndexError: # If search didn't return anything\n",
    "        continue\n",
    "        \n",
    "    if track['id'] not in hit_track_ids:\n",
    "        no_hit_arr.append(get_track_info(track, hit=0))"
   ],
   "outputs": [],
   "metadata": {}
  },
  {
   "cell_type": "markdown",
   "source": [
    "The data is consolidated into a DataFrame for ease of processing."
   ],
   "metadata": {}
  },
  {
   "cell_type": "code",
   "execution_count": null,
   "source": [
    "no_hit_basic_song_data_df = pd.DataFrame(no_hit_arr)\n",
    "no_hit_basic_song_data_df.describe()"
   ],
   "outputs": [],
   "metadata": {}
  },
  {
   "cell_type": "markdown",
   "source": [
    "## Hit Songs\n",
    "\n",
    "While the Spotify and Billboard dataset provides more data than the Million Song Dataset we are using, we still collect more information from Spotify about the album and release year.\n",
    "\n",
    "This step isn't necessarily required, as the album name isn't used for much. However, it is quick due to already having the track IDs."
   ],
   "metadata": {}
  },
  {
   "cell_type": "code",
   "execution_count": null,
   "source": [
    "hit_arr = []\n",
    "track_ids = []\n",
    "\n",
    "for i, song in tqdm(spotify_billboard_data.iterrows(), total=spotify_billboard_data.shape[0]):\n",
    "    track_ids.append(song['spotify_track_id'])\n",
    "    \n",
    "    if len(track_ids) == 50 or i == spotify_billboard_data.shape[0]:\n",
    "        results = spotify.tracks(tracks=track_ids)['tracks']\n",
    "        for track in results:            \n",
    "            hit_arr.append(get_track_info(track, hit=1))\n",
    "        track_ids.clear()"
   ],
   "outputs": [],
   "metadata": {}
  },
  {
   "cell_type": "markdown",
   "source": [
    "As before, the data is turned into a DataFrame."
   ],
   "metadata": {}
  },
  {
   "cell_type": "code",
   "execution_count": null,
   "source": [
    "hit_basic_song_data_df = pd.DataFrame(hit_arr)\n",
    "hit_basic_song_data_df.describe()"
   ],
   "outputs": [],
   "metadata": {}
  },
  {
   "cell_type": "markdown",
   "source": [
    "Now that we have basic information (and more importantly, the Spotify track IDs) from our dataset, we concatenate both the non-hits and the hits together into one larger dataset."
   ],
   "metadata": {}
  },
  {
   "cell_type": "code",
   "execution_count": null,
   "source": [
    "basic_song_data_df = pd.concat([no_hit_basic_song_data_df, hit_basic_song_data_df])\n",
    "basic_song_data_df = basic_song_data_df.sample(frac=1)\n",
    "basic_song_data_df.head()"
   ],
   "outputs": [],
   "metadata": {}
  },
  {
   "cell_type": "markdown",
   "source": [
    "## Feature Collection\n",
    "\n",
    "We collect the audio features for each track using the Spotify API and the track IDs from the newly created DataFrame.\n",
    "\n",
    "Due to how the code makes API calls in batches of 100, it will ignore the last few tracks."
   ],
   "metadata": {}
  },
  {
   "cell_type": "code",
   "execution_count": null,
   "source": [
    "features = []\n",
    "track_ids = []\n",
    "\n",
    "for track_id in tqdm(basic_song_data_df['spotify_track_id']):\n",
    "    track_ids.append(track_id)\n",
    "    if len(track_ids) == 100:\n",
    "        results = spotify.audio_features(tracks=track_ids)\n",
    "        for result in results:\n",
    "            if result is None:\n",
    "                # Sometimes it returns None, this sets a default so we can still add it to a df\n",
    "                features.append({\n",
    "                    'danceability': None,\n",
    "                    'energy': None,\n",
    "                    'key': None,\n",
    "                    'loudness': None,\n",
    "                    'mode': None,\n",
    "                    'speechiness': None,\n",
    "                    'acousticness': None,\n",
    "                    'instrumentalness': None,\n",
    "                    'liveness': None,\n",
    "                    'valence': None,\n",
    "                    'tempo': None,\n",
    "                    'type': None,\n",
    "                    'id': None,\n",
    "                    'uri': None,\n",
    "                    'track_href': None,\n",
    "                    'analysis_url': None,\n",
    "                    'duration_ms': None,\n",
    "                    'time_signature': None\n",
    "                })\n",
    "            else:\n",
    "                features.append(result)\n",
    "        track_ids.clear()"
   ],
   "outputs": [],
   "metadata": {}
  },
  {
   "cell_type": "code",
   "execution_count": null,
   "source": [
    "features_df = pd.DataFrame(features)\n",
    "features_df.describe()"
   ],
   "outputs": [],
   "metadata": {}
  },
  {
   "cell_type": "markdown",
   "source": [
    "Due to the rounding-off of the last few songs as mentioned above, we ensure both the `basic_song_data_df` and the `features_df` are of equal length.\n",
    "\n",
    "Finally, we concatenate them, forming one DataFrame with basic song information and the audio features of each track."
   ],
   "metadata": {}
  },
  {
   "cell_type": "code",
   "execution_count": null,
   "source": [
    "print(len(basic_song_data_df))\n",
    "print(len(features_df))\n",
    "\n",
    "# features_df.drop(features_df.tail(24).index, inplace=True)\n",
    "\n",
    "print(len(basic_song_data_df))\n",
    "print(len(features_df))\n",
    "\n",
    "basic_data = basic_song_data_df.reset_index(drop=True, inplace=False)\n",
    "feature_data = features_df.reset_index(drop=True, inplace=False)\n",
    "\n",
    "full_df = pd.concat([basic_data, feature_data], axis=1)\n",
    "full_df.head()"
   ],
   "outputs": [],
   "metadata": {}
  },
  {
   "cell_type": "code",
   "execution_count": null,
   "source": [
    "from scipy.stats import ttest_ind\n",
    "\n",
    "\"\"\"\n",
    "for column in full_df.columns:\n",
    "    try:\n",
    "        t = ttest_ind(hit_df[column].astype(float), no_hit_df[column].astype(float))\n",
    "        print(column + ' - T: ' + str(t[0]) + ', p: ' + str(t[1]))\n",
    "    except ValueError:\n",
    "        continue\n",
    "\"\"\""
   ],
   "outputs": [],
   "metadata": {}
  },
  {
   "cell_type": "markdown",
   "source": [
    "For sanity's sake, we save the DataFrame for easy loading later."
   ],
   "metadata": {}
  },
  {
   "cell_type": "code",
   "execution_count": null,
   "source": [
    "import pickle\n",
    "\n",
    "df = full_df\n",
    "with open('all_song_data_new.pickle', 'wb') as f:\n",
    "    pickle.dump(pd.DataFrame(df), f)"
   ],
   "outputs": [],
   "metadata": {}
  },
  {
   "cell_type": "code",
   "execution_count": null,
   "source": [
    "with open('all_song_data_new.pickle', 'rb') as f:\n",
    "    df = pickle.load(f)"
   ],
   "outputs": [],
   "metadata": {}
  },
  {
   "cell_type": "markdown",
   "source": [
    "## Lyric Collection\n",
    "\n",
    "Using the Genius API, we collect the lyrics of every song in our dataset. The polarity and subjectivity of the lyrics are also saved to an array.\n",
    "\n",
    "Similar to above, this step has inherent inaccuracies due to its reliance on Genius's search feature.\n",
    "\n",
    "The polariy, subjectivity, and lyrics are pickled and saved for easy loading later."
   ],
   "metadata": {}
  },
  {
   "cell_type": "code",
   "execution_count": null,
   "source": [
    "import lyricsgenius\n",
    "genius = lyricsgenius.Genius(os.environ['GENIUS_TOKEN'], verbose=False, remove_section_headers=True)"
   ],
   "outputs": [],
   "metadata": {}
  },
  {
   "cell_type": "code",
   "execution_count": null,
   "source": [
    "import pickle\n",
    "from tqdm import tqdm\n",
    "\n",
    "lyrics = []\n",
    "\n",
    "for i, song in tqdm(df.iterrows(), total=df.shape[0]):\n",
    "    try:\n",
    "        song = genius.search_song(song['song'], song['artist'], get_full_info=False)\n",
    "        song_lyrics = song.lyrics.replace('\\n', ' ')\n",
    "        lyrics.append(song_lyrics)\n",
    "    except:\n",
    "        lyrics.append(None)\n",
    "        \n",
    "with open('lyrics.pickle', 'wb') as f:\n",
    "    pickle.dump(lyrics, f)"
   ],
   "outputs": [],
   "metadata": {
    "scrolled": true
   }
  },
  {
   "cell_type": "code",
   "execution_count": null,
   "source": [
    "#%pip install demoji\n",
    "import pickle\n",
    "import utils\n",
    "from tqdm import tqdm\n",
    "\n",
    "with open('lyrics.pickle', 'rb') as f:\n",
    "    lyrics = pickle.load(f)\n",
    "\n",
    "# lyrics = [utils.strip_stop_words(lyric) for lyric in tqdm(lyrics)]"
   ],
   "outputs": [],
   "metadata": {}
  },
  {
   "cell_type": "code",
   "execution_count": null,
   "source": [
    "from textblob import TextBlob\n",
    "\n",
    "polarity = []\n",
    "subjectivity = []\n",
    "\n",
    "for lyric in tqdm(lyrics):\n",
    "    try:\n",
    "        blob = TextBlob(lyric)\n",
    "        polarity.append(blob.sentiment[0])\n",
    "        subjectivity.append(blob.sentiment[1])\n",
    "    except:\n",
    "        polarity.append(None)\n",
    "        subjectivity.append(None)\n",
    "\n",
    "with open('polarity.pickle', 'wb') as f:\n",
    "    pickle.dump(polarity, f)\n",
    "with open('subjectivity.pickle', 'wb') as f:\n",
    "    pickle.dump(subjectivity, f)"
   ],
   "outputs": [],
   "metadata": {}
  },
  {
   "cell_type": "code",
   "execution_count": null,
   "source": [
    "import pickle\n",
    "\n",
    "with open('polarity.pickle', 'rb') as f:\n",
    "    polarity = pickle.load(f)\n",
    "with open('subjectivity.pickle', 'rb') as f:\n",
    "    subjectivity = pickle.load(f)"
   ],
   "outputs": [],
   "metadata": {}
  },
  {
   "cell_type": "markdown",
   "source": [
    "## Artist Popularity\n",
    "\n",
    "This gets the popularity of every artist"
   ],
   "metadata": {}
  },
  {
   "cell_type": "code",
   "execution_count": null,
   "source": [
    "popularities = []\n",
    "artist_ids = []\n",
    "\n",
    "for i, artist_id in tqdm(enumerate(df['artist_id']), total=len(df['artist_id'])):\n",
    "    artist_ids.append(artist_id)\n",
    "    if len(artist_ids) == 50 or i == len(df[['artist_id']]):\n",
    "        results = spotify.artists(artist_ids)\n",
    "        for result in results['artists']:\n",
    "            popularities.append(result['popularity'])\n",
    "        artist_ids.clear()"
   ],
   "outputs": [],
   "metadata": {}
  },
  {
   "cell_type": "code",
   "execution_count": null,
   "source": [
    "df_backup = df.copy()\n",
    "df.drop(df.tail(26).index, inplace=True)\n",
    "df['artist_popularity'] = popularities"
   ],
   "outputs": [],
   "metadata": {}
  },
  {
   "cell_type": "markdown",
   "source": [
    "## Previous Artist Hits\n",
    "\n",
    "This gets an artist's previous hits. It adds up all the artist's hit songs in the dataset that are in the same year or previous years, not counting that song, if it's a hit."
   ],
   "metadata": {}
  },
  {
   "cell_type": "code",
   "execution_count": null,
   "source": [
    "num_hits = []\n",
    "\n",
    "# NOTE: This is an incredibly inefficient way to do this\n",
    "\n",
    "for i, row in tqdm(df.iterrows(), total=df.shape[0]):\n",
    "    subset_df = df[df['year'] <= row['year']]\n",
    "    artist_hits = subset_df.groupby(['artist_id'])['hit'].agg('sum').reset_index()\n",
    "    hits = artist_hits.loc[artist_hits.artist_id==row['artist_id'], 'hit'].values[0]\n",
    "    if hits > 0 and row['hit'] == 1: # Don't count this song if it's a hit\n",
    "        hits-=1\n",
    "    num_hits.append(hits)\n",
    "    \n",
    "df['artist_num_hits'] = num_hits"
   ],
   "outputs": [],
   "metadata": {}
  },
  {
   "cell_type": "markdown",
   "source": [
    "The polarity, subjectivity, and lyric arrays are added to our dataset as columns. Rows with incomplete data are dropped."
   ],
   "metadata": {}
  },
  {
   "cell_type": "code",
   "execution_count": null,
   "source": [
    "df['polarity'] = polarity[:-26]\n",
    "df['subjectivity'] = subjectivity[:-26]\n",
    "df['lyrics'] = lyrics[:-26]\n",
    "df['lyric_length'] = df['lyrics'].str.len()"
   ],
   "outputs": [],
   "metadata": {}
  },
  {
   "cell_type": "code",
   "execution_count": null,
   "source": [
    "dupl_df = df[df.duplicated(subset='id')].sort_values(by='id', axis=0)\n",
    "print(len(set(df['id'].tolist())))\n",
    "print(len(df['id'].tolist()))\n",
    "df.drop_duplicates(subset='id', inplace=True)"
   ],
   "outputs": [],
   "metadata": {}
  },
  {
   "cell_type": "code",
   "execution_count": null,
   "source": [
    "with open('all_data.pickle', 'wb') as f:\n",
    "    pickle.dump(df, f)"
   ],
   "outputs": [],
   "metadata": {}
  },
  {
   "cell_type": "code",
   "execution_count": 49,
   "source": [
    "import pickle\n",
    "\n",
    "with open('all_data.pickle', 'rb') as f:\n",
    "    df = pickle.load(f)[:-1]"
   ],
   "outputs": [],
   "metadata": {}
  },
  {
   "cell_type": "code",
   "execution_count": 50,
   "source": [
    "# This drops rows without every value (drops rows that don't have lyrics)\n",
    "# This is necessary for doing embeddings\n",
    "\n",
    "# df.dropna(subset=[n for n in df if n != 'isrc'], inplace=True)"
   ],
   "outputs": [],
   "metadata": {}
  },
  {
   "cell_type": "code",
   "execution_count": 51,
   "source": [
    "df['lyric_length'] = df['lyric_length'].fillna(0)\n",
    "df['lyrics'] = df['lyrics'].fillna('')\n",
    "df.dropna(subset=['danceability'], inplace=True) # Drops all rows that don't have basic features for whatever reason"
   ],
   "outputs": [],
   "metadata": {}
  },
  {
   "cell_type": "code",
   "execution_count": 52,
   "source": [
    "df = df[(df.year.astype(int) < 2011) & (df.year.astype(int) > 1957)]"
   ],
   "outputs": [],
   "metadata": {}
  },
  {
   "cell_type": "markdown",
   "source": [
    "We now have our completed dataset."
   ],
   "metadata": {}
  },
  {
   "cell_type": "code",
   "execution_count": 53,
   "source": [
    "df.describe()"
   ],
   "outputs": [
    {
     "output_type": "execute_result",
     "data": {
      "text/html": [
       "<div>\n",
       "<style scoped>\n",
       "    .dataframe tbody tr th:only-of-type {\n",
       "        vertical-align: middle;\n",
       "    }\n",
       "\n",
       "    .dataframe tbody tr th {\n",
       "        vertical-align: top;\n",
       "    }\n",
       "\n",
       "    .dataframe thead th {\n",
       "        text-align: right;\n",
       "    }\n",
       "</style>\n",
       "<table border=\"1\" class=\"dataframe\">\n",
       "  <thead>\n",
       "    <tr style=\"text-align: right;\">\n",
       "      <th></th>\n",
       "      <th>explicit</th>\n",
       "      <th>hit</th>\n",
       "      <th>current_popularity</th>\n",
       "      <th>danceability</th>\n",
       "      <th>energy</th>\n",
       "      <th>key</th>\n",
       "      <th>loudness</th>\n",
       "      <th>mode</th>\n",
       "      <th>speechiness</th>\n",
       "      <th>acousticness</th>\n",
       "      <th>...</th>\n",
       "      <th>liveness</th>\n",
       "      <th>valence</th>\n",
       "      <th>tempo</th>\n",
       "      <th>duration_ms</th>\n",
       "      <th>time_signature</th>\n",
       "      <th>artist_popularity</th>\n",
       "      <th>artist_num_hits</th>\n",
       "      <th>polarity</th>\n",
       "      <th>subjectivity</th>\n",
       "      <th>lyric_length</th>\n",
       "    </tr>\n",
       "  </thead>\n",
       "  <tbody>\n",
       "    <tr>\n",
       "      <th>count</th>\n",
       "      <td>34129.000000</td>\n",
       "      <td>34129.000000</td>\n",
       "      <td>34129.000000</td>\n",
       "      <td>34129.000000</td>\n",
       "      <td>34129.000000</td>\n",
       "      <td>34129.000000</td>\n",
       "      <td>34129.000000</td>\n",
       "      <td>34129.000000</td>\n",
       "      <td>34129.000000</td>\n",
       "      <td>34129.000000</td>\n",
       "      <td>...</td>\n",
       "      <td>34129.000000</td>\n",
       "      <td>34129.000000</td>\n",
       "      <td>34129.000000</td>\n",
       "      <td>3.412900e+04</td>\n",
       "      <td>34129.000000</td>\n",
       "      <td>34129.000000</td>\n",
       "      <td>34129.000000</td>\n",
       "      <td>28100.000000</td>\n",
       "      <td>28100.000000</td>\n",
       "      <td>34129.00000</td>\n",
       "    </tr>\n",
       "    <tr>\n",
       "      <th>mean</th>\n",
       "      <td>0.050895</td>\n",
       "      <td>0.514958</td>\n",
       "      <td>25.798265</td>\n",
       "      <td>0.567016</td>\n",
       "      <td>0.625231</td>\n",
       "      <td>5.300185</td>\n",
       "      <td>-8.989901</td>\n",
       "      <td>0.699962</td>\n",
       "      <td>0.076110</td>\n",
       "      <td>0.290651</td>\n",
       "      <td>...</td>\n",
       "      <td>0.200764</td>\n",
       "      <td>0.556518</td>\n",
       "      <td>120.897675</td>\n",
       "      <td>2.326789e+05</td>\n",
       "      <td>3.911805</td>\n",
       "      <td>48.318527</td>\n",
       "      <td>3.875267</td>\n",
       "      <td>0.112348</td>\n",
       "      <td>0.487829</td>\n",
       "      <td>18473.60664</td>\n",
       "    </tr>\n",
       "    <tr>\n",
       "      <th>std</th>\n",
       "      <td>0.219787</td>\n",
       "      <td>0.499784</td>\n",
       "      <td>21.179935</td>\n",
       "      <td>0.168909</td>\n",
       "      <td>0.227075</td>\n",
       "      <td>3.574362</td>\n",
       "      <td>4.175198</td>\n",
       "      <td>0.458281</td>\n",
       "      <td>0.092491</td>\n",
       "      <td>0.304564</td>\n",
       "      <td>...</td>\n",
       "      <td>0.171735</td>\n",
       "      <td>0.256254</td>\n",
       "      <td>28.685350</td>\n",
       "      <td>9.084049e+04</td>\n",
       "      <td>0.386895</td>\n",
       "      <td>21.466942</td>\n",
       "      <td>7.912885</td>\n",
       "      <td>0.185887</td>\n",
       "      <td>0.161322</td>\n",
       "      <td>79449.93216</td>\n",
       "    </tr>\n",
       "    <tr>\n",
       "      <th>min</th>\n",
       "      <td>0.000000</td>\n",
       "      <td>0.000000</td>\n",
       "      <td>0.000000</td>\n",
       "      <td>0.000000</td>\n",
       "      <td>0.000026</td>\n",
       "      <td>0.000000</td>\n",
       "      <td>-52.243000</td>\n",
       "      <td>0.000000</td>\n",
       "      <td>0.000000</td>\n",
       "      <td>0.000000</td>\n",
       "      <td>...</td>\n",
       "      <td>0.000000</td>\n",
       "      <td>0.000000</td>\n",
       "      <td>0.000000</td>\n",
       "      <td>2.027000e+03</td>\n",
       "      <td>0.000000</td>\n",
       "      <td>0.000000</td>\n",
       "      <td>0.000000</td>\n",
       "      <td>-1.000000</td>\n",
       "      <td>0.000000</td>\n",
       "      <td>0.00000</td>\n",
       "    </tr>\n",
       "    <tr>\n",
       "      <th>25%</th>\n",
       "      <td>0.000000</td>\n",
       "      <td>0.000000</td>\n",
       "      <td>7.000000</td>\n",
       "      <td>0.455000</td>\n",
       "      <td>0.464000</td>\n",
       "      <td>2.000000</td>\n",
       "      <td>-11.361000</td>\n",
       "      <td>0.000000</td>\n",
       "      <td>0.033000</td>\n",
       "      <td>0.024400</td>\n",
       "      <td>...</td>\n",
       "      <td>0.092900</td>\n",
       "      <td>0.352000</td>\n",
       "      <td>99.063000</td>\n",
       "      <td>1.792000e+05</td>\n",
       "      <td>4.000000</td>\n",
       "      <td>34.000000</td>\n",
       "      <td>0.000000</td>\n",
       "      <td>0.000000</td>\n",
       "      <td>0.427978</td>\n",
       "      <td>609.00000</td>\n",
       "    </tr>\n",
       "    <tr>\n",
       "      <th>50%</th>\n",
       "      <td>0.000000</td>\n",
       "      <td>1.000000</td>\n",
       "      <td>21.000000</td>\n",
       "      <td>0.578000</td>\n",
       "      <td>0.648000</td>\n",
       "      <td>5.000000</td>\n",
       "      <td>-8.339000</td>\n",
       "      <td>1.000000</td>\n",
       "      <td>0.043200</td>\n",
       "      <td>0.165000</td>\n",
       "      <td>...</td>\n",
       "      <td>0.132000</td>\n",
       "      <td>0.569000</td>\n",
       "      <td>119.949000</td>\n",
       "      <td>2.213600e+05</td>\n",
       "      <td>4.000000</td>\n",
       "      <td>51.000000</td>\n",
       "      <td>0.000000</td>\n",
       "      <td>0.096096</td>\n",
       "      <td>0.500000</td>\n",
       "      <td>1135.00000</td>\n",
       "    </tr>\n",
       "    <tr>\n",
       "      <th>75%</th>\n",
       "      <td>0.000000</td>\n",
       "      <td>1.000000</td>\n",
       "      <td>42.000000</td>\n",
       "      <td>0.689000</td>\n",
       "      <td>0.813000</td>\n",
       "      <td>9.000000</td>\n",
       "      <td>-5.898000</td>\n",
       "      <td>1.000000</td>\n",
       "      <td>0.072300</td>\n",
       "      <td>0.522000</td>\n",
       "      <td>...</td>\n",
       "      <td>0.262000</td>\n",
       "      <td>0.771000</td>\n",
       "      <td>137.886000</td>\n",
       "      <td>2.662930e+05</td>\n",
       "      <td>4.000000</td>\n",
       "      <td>65.000000</td>\n",
       "      <td>4.000000</td>\n",
       "      <td>0.220000</td>\n",
       "      <td>0.574489</td>\n",
       "      <td>2077.00000</td>\n",
       "    </tr>\n",
       "    <tr>\n",
       "      <th>max</th>\n",
       "      <td>1.000000</td>\n",
       "      <td>1.000000</td>\n",
       "      <td>85.000000</td>\n",
       "      <td>0.988000</td>\n",
       "      <td>1.000000</td>\n",
       "      <td>11.000000</td>\n",
       "      <td>4.072000</td>\n",
       "      <td>1.000000</td>\n",
       "      <td>0.962000</td>\n",
       "      <td>0.996000</td>\n",
       "      <td>...</td>\n",
       "      <td>0.999000</td>\n",
       "      <td>0.990000</td>\n",
       "      <td>241.009000</td>\n",
       "      <td>3.079158e+06</td>\n",
       "      <td>5.000000</td>\n",
       "      <td>100.000000</td>\n",
       "      <td>93.000000</td>\n",
       "      <td>1.000000</td>\n",
       "      <td>1.000000</td>\n",
       "      <td>824082.00000</td>\n",
       "    </tr>\n",
       "  </tbody>\n",
       "</table>\n",
       "<p>8 rows × 21 columns</p>\n",
       "</div>"
      ],
      "text/plain": [
       "           explicit           hit  current_popularity  danceability  \\\n",
       "count  34129.000000  34129.000000        34129.000000  34129.000000   \n",
       "mean       0.050895      0.514958           25.798265      0.567016   \n",
       "std        0.219787      0.499784           21.179935      0.168909   \n",
       "min        0.000000      0.000000            0.000000      0.000000   \n",
       "25%        0.000000      0.000000            7.000000      0.455000   \n",
       "50%        0.000000      1.000000           21.000000      0.578000   \n",
       "75%        0.000000      1.000000           42.000000      0.689000   \n",
       "max        1.000000      1.000000           85.000000      0.988000   \n",
       "\n",
       "             energy           key      loudness          mode   speechiness  \\\n",
       "count  34129.000000  34129.000000  34129.000000  34129.000000  34129.000000   \n",
       "mean       0.625231      5.300185     -8.989901      0.699962      0.076110   \n",
       "std        0.227075      3.574362      4.175198      0.458281      0.092491   \n",
       "min        0.000026      0.000000    -52.243000      0.000000      0.000000   \n",
       "25%        0.464000      2.000000    -11.361000      0.000000      0.033000   \n",
       "50%        0.648000      5.000000     -8.339000      1.000000      0.043200   \n",
       "75%        0.813000      9.000000     -5.898000      1.000000      0.072300   \n",
       "max        1.000000     11.000000      4.072000      1.000000      0.962000   \n",
       "\n",
       "       acousticness  ...      liveness       valence         tempo  \\\n",
       "count  34129.000000  ...  34129.000000  34129.000000  34129.000000   \n",
       "mean       0.290651  ...      0.200764      0.556518    120.897675   \n",
       "std        0.304564  ...      0.171735      0.256254     28.685350   \n",
       "min        0.000000  ...      0.000000      0.000000      0.000000   \n",
       "25%        0.024400  ...      0.092900      0.352000     99.063000   \n",
       "50%        0.165000  ...      0.132000      0.569000    119.949000   \n",
       "75%        0.522000  ...      0.262000      0.771000    137.886000   \n",
       "max        0.996000  ...      0.999000      0.990000    241.009000   \n",
       "\n",
       "        duration_ms  time_signature  artist_popularity  artist_num_hits  \\\n",
       "count  3.412900e+04    34129.000000       34129.000000     34129.000000   \n",
       "mean   2.326789e+05        3.911805          48.318527         3.875267   \n",
       "std    9.084049e+04        0.386895          21.466942         7.912885   \n",
       "min    2.027000e+03        0.000000           0.000000         0.000000   \n",
       "25%    1.792000e+05        4.000000          34.000000         0.000000   \n",
       "50%    2.213600e+05        4.000000          51.000000         0.000000   \n",
       "75%    2.662930e+05        4.000000          65.000000         4.000000   \n",
       "max    3.079158e+06        5.000000         100.000000        93.000000   \n",
       "\n",
       "           polarity  subjectivity  lyric_length  \n",
       "count  28100.000000  28100.000000   34129.00000  \n",
       "mean       0.112348      0.487829   18473.60664  \n",
       "std        0.185887      0.161322   79449.93216  \n",
       "min       -1.000000      0.000000       0.00000  \n",
       "25%        0.000000      0.427978     609.00000  \n",
       "50%        0.096096      0.500000    1135.00000  \n",
       "75%        0.220000      0.574489    2077.00000  \n",
       "max        1.000000      1.000000  824082.00000  \n",
       "\n",
       "[8 rows x 21 columns]"
      ]
     },
     "metadata": {},
     "execution_count": 53
    }
   ],
   "metadata": {}
  },
  {
   "cell_type": "code",
   "execution_count": 54,
   "source": [
    "#%pip install seaborn\n",
    "import seaborn as sns\n",
    "\n",
    "data_df = df.groupby(['year']).mean().reset_index()\n",
    "data_df = data_df[data_df['year'].astype(int) > 1960]\n",
    "sns_plot = sns.regplot(data_df['year'].astype(int), data_df['polarity'], order=1, ci=None)\n",
    "# sns_plot.figure.savefig('polarity.pdf')"
   ],
   "outputs": [
    {
     "output_type": "stream",
     "name": "stderr",
     "text": [
      "/usr/local/lib/python3.7/site-packages/seaborn/_decorators.py:43: FutureWarning: Pass the following variables as keyword args: x, y. From version 0.12, the only valid positional argument will be `data`, and passing other arguments without an explicit keyword will result in an error or misinterpretation.\n",
      "  FutureWarning\n"
     ]
    },
    {
     "output_type": "display_data",
     "data": {
      "image/png": "[encoded data removed]",
      "text/plain": [
       "<Figure size 432x288 with 1 Axes>"
      ]
     },
     "metadata": {
      "needs_background": "light"
     }
    }
   ],
   "metadata": {}
  },
  {
   "cell_type": "markdown",
   "source": [
    "# Data Preparation\n",
    "\n",
    "We extract our target variable (hit or not) from the dataset. Then, we drop irrelevant and non-numerical columns from the dataset to form our x inputs.\n",
    "\n",
    "The dataset is then split into training and validation sets. The new datasets are not shuffled to ensure that the lyrics correspond to the correct auxiliary variables."
   ],
   "metadata": {}
  },
  {
   "cell_type": "code",
   "execution_count": 55,
   "source": [
    "import sklearn as sk\n",
    "from sklearn.model_selection import train_test_split\n",
    "\n",
    "y_data = df['hit']\n",
    "x_data = df.drop(['hit', 'artist', 'artist_id', 'isrc', 'lyrics', 'song', 'id', 'spotify_track_id', 'spotify_track_album', 'analysis_url', 'uri', 'track_href', 'type', 'current_popularity'], axis=1, inplace=False)\n",
    "print(x_data.columns)\n",
    "x_data_train, x_data_test, y_data_train, y_data_test = train_test_split(\n",
    "    x_data, y_data, test_size=0.2, shuffle=False\n",
    ")\n",
    "\n",
    "lyrics_train, lyrics_eval = train_test_split(df['lyrics'], test_size=0.2, shuffle=False)\n",
    "print(len(y_data_train))\n",
    "print(len(lyrics_train))\n",
    "print(len(x_data_train))\n",
    "print(y_data_train.describe())"
   ],
   "outputs": [
    {
     "output_type": "stream",
     "name": "stdout",
     "text": [
      "Index(['year', 'explicit', 'danceability', 'energy', 'key', 'loudness', 'mode',\n",
      "       'speechiness', 'acousticness', 'instrumentalness', 'liveness',\n",
      "       'valence', 'tempo', 'duration_ms', 'time_signature',\n",
      "       'artist_popularity', 'artist_num_hits', 'polarity', 'subjectivity',\n",
      "       'lyric_length'],\n",
      "      dtype='object')\n",
      "27303\n",
      "27303\n",
      "27303\n",
      "count    27303.000000\n",
      "mean         0.516647\n",
      "std          0.499732\n",
      "min          0.000000\n",
      "25%          0.000000\n",
      "50%          1.000000\n",
      "75%          1.000000\n",
      "max          1.000000\n",
      "Name: hit, dtype: float64\n"
     ]
    }
   ],
   "metadata": {}
  },
  {
   "cell_type": "code",
   "execution_count": 56,
   "source": [
    "polarity_mean = x_data_train['polarity'].mean()\n",
    "subjectivity_mean = x_data_train['subjectivity'].mean()\n",
    "\n",
    "pd.options.mode.chained_assignment = None  # default='warn'\n",
    "\n",
    "x_data_train['polarity'] = x_data_train['polarity'].fillna(polarity_mean)\n",
    "x_data_test['polarity'] = x_data_test['polarity'].fillna(polarity_mean)\n",
    "x_data_train['subjectivity'] = x_data_train['subjectivity'].fillna(subjectivity_mean)\n",
    "x_data_test['subjectivity'] = x_data_test['subjectivity'].fillna(subjectivity_mean)"
   ],
   "outputs": [],
   "metadata": {}
  },
  {
   "cell_type": "markdown",
   "source": [
    "We then scale our auxiliary input variables using the StandardScaler."
   ],
   "metadata": {}
  },
  {
   "cell_type": "code",
   "execution_count": 57,
   "source": [
    "from sklearn.preprocessing import StandardScaler\n",
    "\n",
    "scaler_model = StandardScaler()\n",
    "\n",
    "x_data_train = pd.DataFrame(\n",
    "    scaler_model.fit_transform(x_data_train),\n",
    "    columns=x_data_train.columns,\n",
    "    index=x_data_train.index\n",
    ")\n",
    "x_data_test = pd.DataFrame(\n",
    "    scaler_model.transform(x_data_test),\n",
    "    columns=x_data_test.columns,\n",
    "    index=x_data_test.index\n",
    ")"
   ],
   "outputs": [],
   "metadata": {}
  },
  {
   "cell_type": "markdown",
   "source": [
    "# Simple Classification Models\n",
    "\n",
    "The below code blocks show the results of the classification task using the auxiliary variables alone as inputs into various classifier models."
   ],
   "metadata": {}
  },
  {
   "cell_type": "code",
   "execution_count": 58,
   "source": [
    "from sklearn.linear_model import LogisticRegression\n",
    "\n",
    "LR = LogisticRegression(random_state=0).fit(x_data_train, y_data_train)\n",
    "print(round(LR.score(x_data_test, y_data_test), 4))\n",
    "lr_preds = LR.predict(x_data_test)\n",
    "print(sk.metrics.precision_recall_fscore_support(y_data_test, lr_preds, average='binary'))\n",
    "print(sk.metrics.confusion_matrix(y_data_test, lr_preds))"
   ],
   "outputs": [
    {
     "output_type": "stream",
     "name": "stdout",
     "text": [
      "0.8175\n",
      "(0.8391821788220933, 0.7927356586912655, 0.8152979543433146, None)\n",
      "[[2830  527]\n",
      " [ 719 2750]]\n"
     ]
    }
   ],
   "metadata": {}
  },
  {
   "cell_type": "code",
   "execution_count": 59,
   "source": [
    "SVM = sk.svm.SVC()\n",
    "SVM.fit(x_data_train, y_data_train)\n",
    "print(round(SVM.score(x_data_test, y_data_test), 4))\n",
    "svm_preds = SVM.predict(x_data_test)\n",
    "print(sk.metrics.precision_recall_fscore_support(y_data_test, svm_preds, average='binary'))\n",
    "print(sk.metrics.confusion_matrix(y_data_test, svm_preds))"
   ],
   "outputs": [
    {
     "output_type": "stream",
     "name": "stdout",
     "text": [
      "0.8276\n",
      "(0.8394549763033176, 0.8169501297203805, 0.8280496712929145, None)\n",
      "[[2815  542]\n",
      " [ 635 2834]]\n"
     ]
    }
   ],
   "metadata": {}
  },
  {
   "cell_type": "code",
   "execution_count": 60,
   "source": [
    "from sklearn.ensemble import RandomForestClassifier\n",
    "\n",
    "RF = RandomForestClassifier(n_estimators=500, max_depth=100, random_state=0)\n",
    "RF.fit(x_data_train, y_data_train)\n",
    "print(round(RF.score(x_data_test, y_data_test), 4))\n",
    "rf_preds = RF.predict(x_data_test)\n",
    "print(sk.metrics.precision_recall_fscore_support(y_data_test, rf_preds, average='binary'))\n",
    "print(sk.metrics.confusion_matrix(y_data_test, rf_preds))"
   ],
   "outputs": [
    {
     "output_type": "stream",
     "name": "stdout",
     "text": [
      "0.8554\n",
      "(0.842439293598234, 0.8800807149034304, 0.8608487240941773, None)\n",
      "[[2786  571]\n",
      " [ 416 3053]]\n"
     ]
    }
   ],
   "metadata": {}
  },
  {
   "cell_type": "code",
   "execution_count": 61,
   "source": [
    "from sklearn.neural_network import MLPClassifier\n",
    "\n",
    "NN = MLPClassifier(solver='adam', alpha=0.01, hidden_layer_sizes=(30, 10, 10), random_state=1, activation='relu')\n",
    "NN.fit(x_data_train, y_data_train)\n",
    "print(round(NN.score(x_data_test, y_data_test), 4))\n",
    "nn_preds = NN.predict(x_data_test)\n",
    "print(sk.metrics.precision_recall_fscore_support(y_data_test, nn_preds, average='binary'))\n",
    "print(sk.metrics.confusion_matrix(y_data_test, nn_preds))"
   ],
   "outputs": [
    {
     "output_type": "stream",
     "name": "stdout",
     "text": [
      "0.8444\n",
      "(0.8385372714486639, 0.8593254540213318, 0.8488041002277904, None)\n",
      "[[2783  574]\n",
      " [ 488 2981]]\n"
     ]
    }
   ],
   "metadata": {}
  },
  {
   "cell_type": "code",
   "execution_count": 62,
   "source": [
    "from sklearn.naive_bayes import BernoulliNB\n",
    "\n",
    "NB = BernoulliNB()\n",
    "NB.fit(x_data_train, y_data_train)\n",
    "print(round(NB.score(x_data_test, y_data_test), 4))\n",
    "nb_preds = NB.predict(x_data_test)\n",
    "print(sk.metrics.precision_recall_fscore_support(y_data_test, nb_preds, average='binary'))\n",
    "print(sk.metrics.confusion_matrix(y_data_test, nb_preds))"
   ],
   "outputs": [
    {
     "output_type": "stream",
     "name": "stdout",
     "text": [
      "0.7885\n",
      "(0.8043282236248873, 0.7714038627846642, 0.7875220718069453, None)\n",
      "[[2706  651]\n",
      " [ 793 2676]]\n"
     ]
    }
   ],
   "metadata": {}
  },
  {
   "cell_type": "code",
   "execution_count": null,
   "source": [
    "from embeddings import EmbeddingGenerator\n",
    "\n",
    "embedding = EmbeddingGenerator(\n",
    "    max_sequence_len=300,\n",
    "    filename='glove.840B.300d.txt'\n",
    ")\n",
    "\n",
    "print('Pretrained embedding loaded')\n",
    "print('Embedding dimension:', embedding.embedding_dimension)\n",
    "\n",
    "embedding.generate_word_index(texts=lyrics_train)  # Fits Tokenizer on words in X training data\n",
    "print('Word index:', len(embedding.word_index))\n",
    "\n",
    "# The below generate_sequences lines converts the words into integers,\n",
    "# using the word indexes from the training data\n",
    "seqs_train = embedding.generate_sequences(lyrics_train)\n",
    "seqs_eval = embedding.generate_sequences(lyrics_eval)\n",
    "\n",
    "print('Sequences created')\n",
    "\n",
    "embedding.generate_embedding_matrix()\n",
    "\n",
    "print('Vocab size:', embedding.vocab_size)\n",
    "print(embedding.embedding_matrix.shape)\n",
    "\n",
    "\n",
    "with open('embedding-year-300.pickle', 'wb') as f:\n",
    "    pickle.dump(embedding, f)"
   ],
   "outputs": [],
   "metadata": {}
  },
  {
   "cell_type": "code",
   "execution_count": 19,
   "source": [
    "with open('embedding-year-300.pickle', 'rb') as f:\n",
    "    embedding = pickle.load(f)\n",
    "    \n",
    "seqs_train = embedding.generate_sequences(lyrics_train)\n",
    "seqs_eval = embedding.generate_sequences(lyrics_eval)"
   ],
   "outputs": [],
   "metadata": {}
  },
  {
   "cell_type": "code",
   "execution_count": 20,
   "source": [
    "import tensorflow as tf\n",
    "from tensorflow import keras\n",
    "from tensorflow.keras.callbacks import EarlyStopping, ReduceLROnPlateau\n",
    "from tensorflow.keras.layers import BatchNormalization, Dense, Dropout, Embedding, \\\n",
    "    Input, Flatten, MaxPooling1D, Conv1D, concatenate, LSTM\n",
    "from tensorflow.keras.models import Model"
   ],
   "outputs": [],
   "metadata": {}
  },
  {
   "cell_type": "code",
   "execution_count": 35,
   "source": [
    "print('Building model...')\n",
    "\n",
    "lrelu = lambda x: tf.keras.activations.relu(x, alpha=0.00)\n",
    "\n",
    "# Branch 1\n",
    "aux_input = Input(shape=(len(x_data_train.columns),))\n",
    "aux = Dense(400, activation=lrelu)(aux_input)\n",
    "aux = BatchNormalization()(aux)\n",
    "aux = Model(inputs=aux_input, outputs=aux)\n",
    "\n",
    "# Branch 2\n",
    "emb_input = Input(shape=(embedding.max_sequence_len,))\n",
    "emb = Embedding(embedding.vocab_size, embedding.embedding_dimension,\n",
    "                input_length=embedding.max_sequence_len,\n",
    "                weights=[embedding.embedding_matrix],\n",
    "                trainable=True)(emb_input)\n",
    "emb = Conv1D(filters=16, kernel_size=4, activation=lrelu)(emb)\n",
    "emb = LSTM(50)(emb)\n",
    "emb = BatchNormalization()(emb)\n",
    "emb = Dropout(.2)(emb)\n",
    "emb = Dense(200, activation=lrelu)(emb)\n",
    "emb = BatchNormalization()(emb)\n",
    "emb = Dropout(.2)(emb)\n",
    "emb = Dense(200, activation=lrelu)(emb)\n",
    "emb = BatchNormalization()(emb)\n",
    "emb = Dropout(.2)(emb)\n",
    "emb = Dense(200, activation=lrelu)(emb)\n",
    "emb = BatchNormalization()(emb)\n",
    "emb = Dropout(.2)(emb)\n",
    "emb = Dense(200, activation=lrelu)(emb)\n",
    "emb = BatchNormalization()(emb)\n",
    "emb = Dropout(.2)(emb)\n",
    "emb = Dense(200, activation=lrelu)(emb)\n",
    "emb = BatchNormalization()(emb)\n",
    "emb = Dropout(.2)(emb)\n",
    "emb = Dense(200, activation=lrelu)(emb)\n",
    "emb = BatchNormalization()(emb)\n",
    "emb = Model(inputs=emb_input, outputs=emb)\n",
    "\n",
    "# Combined\n",
    "combined = concatenate([aux.output, emb.output])\n",
    "z = Dense(100, activation=lrelu)(combined)\n",
    "z = BatchNormalization()(z)\n",
    "z = Dropout(.2)(z)\n",
    "z = Dense(100, activation=lrelu)(z)\n",
    "z = BatchNormalization()(z)\n",
    "z = Dropout(.2)(z)\n",
    "z = Dense(100, activation=lrelu)(z)\n",
    "z = BatchNormalization()(z)\n",
    "z = Dropout(.2)(z)\n",
    "z = Dense(100, activation=lrelu)(z)\n",
    "z = BatchNormalization()(z)\n",
    "z = Dropout(.2)(z)\n",
    "z = Dense(100, activation=lrelu)(z)\n",
    "z = BatchNormalization()(z)\n",
    "z = Dropout(.2)(z)\n",
    "z = Dense(100)(z)\n",
    "z = Dense(1, activation='sigmoid')(z)\n",
    "\n",
    "model = Model(inputs=[aux.input, emb.input], outputs=z)\n",
    "\n",
    "optimizer = keras.optimizers.SGD(0.01) # Try RMSprop too?\n",
    "\n",
    "model.compile(loss='binary_crossentropy', optimizer=optimizer, metrics=['acc', tf.keras.metrics.Precision(), tf.keras.metrics.Recall()])\n",
    "\n",
    "es = EarlyStopping(monitor='val_loss', mode='min', patience=20, verbose=1)\n",
    "rlr = ReduceLROnPlateau(monitor='val_loss', factor=0.2, patience=10, min_lr=0.0001, verbose=1)\n",
    "\n",
    "print(x_data_train.shape)\n",
    "print(seqs_train.shape)\n",
    "# print(model.summary())"
   ],
   "outputs": [
    {
     "output_type": "stream",
     "name": "stdout",
     "text": [
      "Building model...\n",
      "(27304, 20)\n",
      "(27304, 300)\n"
     ]
    }
   ],
   "metadata": {}
  },
  {
   "cell_type": "code",
   "execution_count": 36,
   "source": [
    "history = model.fit(\n",
    "    [x_data_train, seqs_train],\n",
    "    y_data_train,\n",
    "    validation_data=([x_data_test, seqs_eval], y_data_test),\n",
    "    batch_size=64,\n",
    "    epochs=200,\n",
    "    shuffle=True,\n",
    "    verbose=1,\n",
    "    callbacks=[es, rlr]\n",
    ")"
   ],
   "outputs": [
    {
     "output_type": "stream",
     "name": "stdout",
     "text": [
      "Epoch 1/200\n",
      "427/427 [==============================] - 16s 38ms/step - loss: 0.6041 - acc: 0.6835 - precision_6: 0.7004 - recall_6: 0.6767 - val_loss: 0.4996 - val_acc: 0.7691 - val_precision_6: 0.8416 - val_recall_6: 0.6722\n",
      "Epoch 2/200\n",
      "427/427 [==============================] - 15s 36ms/step - loss: 0.5058 - acc: 0.7674 - precision_6: 0.7741 - recall_6: 0.7763 - val_loss: 0.4512 - val_acc: 0.8021 - val_precision_6: 0.8275 - val_recall_6: 0.7714\n",
      "Epoch 3/200\n",
      "427/427 [==============================] - 16s 36ms/step - loss: 0.4784 - acc: 0.7886 - precision_6: 0.7927 - recall_6: 0.8001 - val_loss: 0.4361 - val_acc: 0.8106 - val_precision_6: 0.8303 - val_recall_6: 0.7884\n",
      "Epoch 4/200\n",
      "427/427 [==============================] - 16s 38ms/step - loss: 0.4612 - acc: 0.7984 - precision_6: 0.7997 - recall_6: 0.8136 - val_loss: 0.4204 - val_acc: 0.8236 - val_precision_6: 0.8332 - val_recall_6: 0.8164\n",
      "Epoch 5/200\n",
      "427/427 [==============================] - 15s 36ms/step - loss: 0.4480 - acc: 0.8072 - precision_6: 0.8101 - recall_6: 0.8186 - val_loss: 0.4098 - val_acc: 0.8280 - val_precision_6: 0.8453 - val_recall_6: 0.8097\n",
      "Epoch 6/200\n",
      "427/427 [==============================] - 15s 36ms/step - loss: 0.4346 - acc: 0.8170 - precision_6: 0.8190 - recall_6: 0.8290 - val_loss: 0.3984 - val_acc: 0.8387 - val_precision_6: 0.8438 - val_recall_6: 0.8377\n",
      "Epoch 7/200\n",
      "427/427 [==============================] - 15s 36ms/step - loss: 0.4277 - acc: 0.8197 - precision_6: 0.8229 - recall_6: 0.8294 - val_loss: 0.3944 - val_acc: 0.8372 - val_precision_6: 0.8462 - val_recall_6: 0.8308\n",
      "Epoch 8/200\n",
      "427/427 [==============================] - 16s 36ms/step - loss: 0.4197 - acc: 0.8246 - precision_6: 0.8261 - recall_6: 0.8366 - val_loss: 0.3877 - val_acc: 0.8419 - val_precision_6: 0.8470 - val_recall_6: 0.8409\n",
      "Epoch 9/200\n",
      "427/427 [==============================] - 16s 37ms/step - loss: 0.4108 - acc: 0.8315 - precision_6: 0.8300 - recall_6: 0.8474 - val_loss: 0.3849 - val_acc: 0.8424 - val_precision_6: 0.8483 - val_recall_6: 0.8400\n",
      "Epoch 10/200\n",
      "427/427 [==============================] - 16s 37ms/step - loss: 0.4044 - acc: 0.8353 - precision_6: 0.8355 - recall_6: 0.8481 - val_loss: 0.3804 - val_acc: 0.8446 - val_precision_6: 0.8384 - val_recall_6: 0.8599\n",
      "Epoch 11/200\n",
      "427/427 [==============================] - 15s 36ms/step - loss: 0.4025 - acc: 0.8354 - precision_6: 0.8368 - recall_6: 0.8464 - val_loss: 0.3815 - val_acc: 0.8476 - val_precision_6: 0.8399 - val_recall_6: 0.8651\n",
      "Epoch 12/200\n",
      "427/427 [==============================] - 15s 36ms/step - loss: 0.3968 - acc: 0.8380 - precision_6: 0.8360 - recall_6: 0.8540 - val_loss: 0.3782 - val_acc: 0.8488 - val_precision_6: 0.8376 - val_recall_6: 0.8714\n",
      "Epoch 13/200\n",
      "427/427 [==============================] - 16s 37ms/step - loss: 0.3913 - acc: 0.8432 - precision_6: 0.8409 - recall_6: 0.8591 - val_loss: 0.3760 - val_acc: 0.8479 - val_precision_6: 0.8440 - val_recall_6: 0.8596\n",
      "Epoch 14/200\n",
      "427/427 [==============================] - 16s 37ms/step - loss: 0.3928 - acc: 0.8428 - precision_6: 0.8402 - recall_6: 0.8591 - val_loss: 0.3720 - val_acc: 0.8493 - val_precision_6: 0.8492 - val_recall_6: 0.8553\n",
      "Epoch 15/200\n",
      "427/427 [==============================] - 16s 37ms/step - loss: 0.3895 - acc: 0.8425 - precision_6: 0.8388 - recall_6: 0.8605 - val_loss: 0.3880 - val_acc: 0.8473 - val_precision_6: 0.8247 - val_recall_6: 0.8884\n",
      "Epoch 16/200\n",
      "427/427 [==============================] - 16s 38ms/step - loss: 0.3836 - acc: 0.8486 - precision_6: 0.8433 - recall_6: 0.8682 - val_loss: 0.3739 - val_acc: 0.8516 - val_precision_6: 0.8348 - val_recall_6: 0.8827\n",
      "Epoch 17/200\n",
      "427/427 [==============================] - 16s 37ms/step - loss: 0.3839 - acc: 0.8471 - precision_6: 0.8427 - recall_6: 0.8657 - val_loss: 0.3840 - val_acc: 0.8468 - val_precision_6: 0.8221 - val_recall_6: 0.8913\n",
      "Epoch 18/200\n",
      "427/427 [==============================] - 16s 38ms/step - loss: 0.3803 - acc: 0.8475 - precision_6: 0.8409 - recall_6: 0.8694 - val_loss: 0.3668 - val_acc: 0.8519 - val_precision_6: 0.8446 - val_recall_6: 0.8683\n",
      "Epoch 19/200\n",
      "427/427 [==============================] - 15s 36ms/step - loss: 0.3791 - acc: 0.8495 - precision_6: 0.8441 - recall_6: 0.8693 - val_loss: 0.3679 - val_acc: 0.8515 - val_precision_6: 0.8401 - val_recall_6: 0.8740\n",
      "Epoch 20/200\n",
      "427/427 [==============================] - 16s 36ms/step - loss: 0.3772 - acc: 0.8499 - precision_6: 0.8424 - recall_6: 0.8729 - val_loss: 0.3686 - val_acc: 0.8532 - val_precision_6: 0.8558 - val_recall_6: 0.8553\n",
      "Epoch 21/200\n",
      "427/427 [==============================] - 16s 38ms/step - loss: 0.3769 - acc: 0.8517 - precision_6: 0.8463 - recall_6: 0.8712 - val_loss: 0.3696 - val_acc: 0.8517 - val_precision_6: 0.8337 - val_recall_6: 0.8847\n",
      "Epoch 22/200\n",
      "427/427 [==============================] - 15s 36ms/step - loss: 0.3734 - acc: 0.8528 - precision_6: 0.8439 - recall_6: 0.8773 - val_loss: 0.3880 - val_acc: 0.8443 - val_precision_6: 0.8067 - val_recall_6: 0.9121\n",
      "Epoch 23/200\n",
      "427/427 [==============================] - 15s 36ms/step - loss: 0.3695 - acc: 0.8537 - precision_6: 0.8442 - recall_6: 0.8790 - val_loss: 0.3627 - val_acc: 0.8539 - val_precision_6: 0.8462 - val_recall_6: 0.8709\n",
      "Epoch 24/200\n",
      "427/427 [==============================] - 15s 36ms/step - loss: 0.3691 - acc: 0.8536 - precision_6: 0.8447 - recall_6: 0.8782 - val_loss: 0.3693 - val_acc: 0.8525 - val_precision_6: 0.8546 - val_recall_6: 0.8553\n",
      "Epoch 25/200\n",
      "427/427 [==============================] - 15s 36ms/step - loss: 0.3686 - acc: 0.8549 - precision_6: 0.8461 - recall_6: 0.8791 - val_loss: 0.3764 - val_acc: 0.8475 - val_precision_6: 0.8581 - val_recall_6: 0.8386\n",
      "Epoch 26/200\n",
      "427/427 [==============================] - 15s 36ms/step - loss: 0.3744 - acc: 0.8511 - precision_6: 0.8432 - recall_6: 0.8745 - val_loss: 0.3836 - val_acc: 0.8478 - val_precision_6: 0.8096 - val_recall_6: 0.9158\n",
      "Epoch 27/200\n",
      "427/427 [==============================] - 16s 36ms/step - loss: 0.3686 - acc: 0.8526 - precision_6: 0.8431 - recall_6: 0.8781 - val_loss: 0.3654 - val_acc: 0.8550 - val_precision_6: 0.8496 - val_recall_6: 0.8683\n",
      "Epoch 28/200\n",
      "427/427 [==============================] - 16s 37ms/step - loss: 0.3654 - acc: 0.8546 - precision_6: 0.8448 - recall_6: 0.8804 - val_loss: 0.3602 - val_acc: 0.8556 - val_precision_6: 0.8431 - val_recall_6: 0.8795\n",
      "Epoch 29/200\n",
      "427/427 [==============================] - 16s 36ms/step - loss: 0.3672 - acc: 0.8551 - precision_6: 0.8469 - recall_6: 0.8783 - val_loss: 0.3664 - val_acc: 0.8535 - val_precision_6: 0.8573 - val_recall_6: 0.8538\n",
      "Epoch 30/200\n",
      "427/427 [==============================] - 15s 36ms/step - loss: 0.3653 - acc: 0.8574 - precision_6: 0.8489 - recall_6: 0.8808 - val_loss: 0.3692 - val_acc: 0.8517 - val_precision_6: 0.8232 - val_recall_6: 0.9020\n",
      "Epoch 31/200\n",
      "427/427 [==============================] - 15s 36ms/step - loss: 0.3634 - acc: 0.8564 - precision_6: 0.8467 - recall_6: 0.8817 - val_loss: 0.3678 - val_acc: 0.8566 - val_precision_6: 0.8519 - val_recall_6: 0.8688\n",
      "Epoch 32/200\n",
      "427/427 [==============================] - 15s 36ms/step - loss: 0.3667 - acc: 0.8545 - precision_6: 0.8447 - recall_6: 0.8802 - val_loss: 0.3614 - val_acc: 0.8558 - val_precision_6: 0.8470 - val_recall_6: 0.8743\n",
      "Epoch 33/200\n",
      "427/427 [==============================] - 15s 36ms/step - loss: 0.3602 - acc: 0.8587 - precision_6: 0.8504 - recall_6: 0.8816 - val_loss: 0.3699 - val_acc: 0.8493 - val_precision_6: 0.8536 - val_recall_6: 0.8489\n",
      "Epoch 34/200\n",
      "427/427 [==============================] - 15s 36ms/step - loss: 0.3601 - acc: 0.8584 - precision_6: 0.8497 - recall_6: 0.8820 - val_loss: 0.3719 - val_acc: 0.8515 - val_precision_6: 0.8413 - val_recall_6: 0.8723\n",
      "Epoch 35/200\n",
      "427/427 [==============================] - 15s 36ms/step - loss: 0.3585 - acc: 0.8584 - precision_6: 0.8481 - recall_6: 0.8844 - val_loss: 0.3622 - val_acc: 0.8547 - val_precision_6: 0.8462 - val_recall_6: 0.8726\n",
      "Epoch 36/200\n",
      "427/427 [==============================] - 15s 36ms/step - loss: 0.3594 - acc: 0.8582 - precision_6: 0.8486 - recall_6: 0.8830 - val_loss: 0.3964 - val_acc: 0.8400 - val_precision_6: 0.8683 - val_recall_6: 0.8077\n",
      "Epoch 37/200\n",
      "427/427 [==============================] - 15s 36ms/step - loss: 0.3586 - acc: 0.8588 - precision_6: 0.8493 - recall_6: 0.8835 - val_loss: 0.3623 - val_acc: 0.8580 - val_precision_6: 0.8413 - val_recall_6: 0.8882\n",
      "Epoch 38/200\n",
      "427/427 [==============================] - ETA: 0s - loss: 0.3594 - acc: 0.8579 - precision_6: 0.8486 - recall_6: 0.8822\n",
      "Epoch 00038: ReduceLROnPlateau reducing learning rate to 0.0019999999552965165.\n",
      "427/427 [==============================] - 15s 36ms/step - loss: 0.3594 - acc: 0.8579 - precision_6: 0.8486 - recall_6: 0.8822 - val_loss: 0.3945 - val_acc: 0.8432 - val_precision_6: 0.8647 - val_recall_6: 0.8198\n",
      "Epoch 39/200\n",
      "427/427 [==============================] - 15s 36ms/step - loss: 0.3492 - acc: 0.8634 - precision_6: 0.8533 - recall_6: 0.8883 - val_loss: 0.3520 - val_acc: 0.8594 - val_precision_6: 0.8484 - val_recall_6: 0.8807\n",
      "Epoch 40/200\n",
      "427/427 [==============================] - 15s 36ms/step - loss: 0.3490 - acc: 0.8619 - precision_6: 0.8518 - recall_6: 0.8869 - val_loss: 0.3518 - val_acc: 0.8599 - val_precision_6: 0.8464 - val_recall_6: 0.8850\n",
      "Epoch 41/200\n",
      "427/427 [==============================] - 15s 36ms/step - loss: 0.3494 - acc: 0.8608 - precision_6: 0.8501 - recall_6: 0.8869 - val_loss: 0.3510 - val_acc: 0.8589 - val_precision_6: 0.8467 - val_recall_6: 0.8821\n",
      "Epoch 42/200\n",
      "427/427 [==============================] - 15s 36ms/step - loss: 0.3465 - acc: 0.8637 - precision_6: 0.8524 - recall_6: 0.8903 - val_loss: 0.3552 - val_acc: 0.8611 - val_precision_6: 0.8371 - val_recall_6: 0.9023\n",
      "Epoch 43/200\n",
      "427/427 [==============================] - 15s 36ms/step - loss: 0.3456 - acc: 0.8644 - precision_6: 0.8518 - recall_6: 0.8928 - val_loss: 0.3541 - val_acc: 0.8598 - val_precision_6: 0.8558 - val_recall_6: 0.8709\n",
      "Epoch 44/200\n",
      "427/427 [==============================] - 15s 36ms/step - loss: 0.3468 - acc: 0.8634 - precision_6: 0.8520 - recall_6: 0.8903 - val_loss: 0.3517 - val_acc: 0.8611 - val_precision_6: 0.8491 - val_recall_6: 0.8838\n",
      "Epoch 45/200\n",
      "427/427 [==============================] - 15s 36ms/step - loss: 0.3484 - acc: 0.8618 - precision_6: 0.8502 - recall_6: 0.8891 - val_loss: 0.3543 - val_acc: 0.8597 - val_precision_6: 0.8514 - val_recall_6: 0.8769\n",
      "Epoch 46/200\n",
      "427/427 [==============================] - 16s 36ms/step - loss: 0.3483 - acc: 0.8643 - precision_6: 0.8513 - recall_6: 0.8934 - val_loss: 0.3518 - val_acc: 0.8633 - val_precision_6: 0.8387 - val_recall_6: 0.9052\n",
      "Epoch 47/200\n",
      "427/427 [==============================] - 16s 37ms/step - loss: 0.3469 - acc: 0.8637 - precision_6: 0.8536 - recall_6: 0.8886 - val_loss: 0.3492 - val_acc: 0.8626 - val_precision_6: 0.8427 - val_recall_6: 0.8971\n",
      "Epoch 48/200\n",
      "427/427 [==============================] - 16s 37ms/step - loss: 0.3432 - acc: 0.8641 - precision_6: 0.8508 - recall_6: 0.8937 - val_loss: 0.3515 - val_acc: 0.8623 - val_precision_6: 0.8463 - val_recall_6: 0.8907\n",
      "Epoch 49/200\n",
      "427/427 [==============================] - 16s 37ms/step - loss: 0.3464 - acc: 0.8628 - precision_6: 0.8507 - recall_6: 0.8908 - val_loss: 0.3501 - val_acc: 0.8627 - val_precision_6: 0.8358 - val_recall_6: 0.9083\n",
      "Epoch 50/200\n",
      "427/427 [==============================] - 15s 36ms/step - loss: 0.3438 - acc: 0.8670 - precision_6: 0.8547 - recall_6: 0.8946 - val_loss: 0.3499 - val_acc: 0.8620 - val_precision_6: 0.8372 - val_recall_6: 0.9043\n",
      "Epoch 51/200\n",
      "427/427 [==============================] - 15s 36ms/step - loss: 0.3440 - acc: 0.8636 - precision_6: 0.8493 - recall_6: 0.8949 - val_loss: 0.3717 - val_acc: 0.8544 - val_precision_6: 0.8654 - val_recall_6: 0.8449\n",
      "Epoch 52/200\n",
      "427/427 [==============================] - 15s 36ms/step - loss: 0.3432 - acc: 0.8650 - precision_6: 0.8537 - recall_6: 0.8915 - val_loss: 0.3499 - val_acc: 0.8626 - val_precision_6: 0.8462 - val_recall_6: 0.8916\n",
      "Epoch 53/200\n",
      "427/427 [==============================] - 15s 36ms/step - loss: 0.3429 - acc: 0.8658 - precision_6: 0.8529 - recall_6: 0.8945 - val_loss: 0.3730 - val_acc: 0.8512 - val_precision_6: 0.8101 - val_recall_6: 0.9236\n",
      "Epoch 54/200\n",
      "427/427 [==============================] - 15s 36ms/step - loss: 0.3445 - acc: 0.8648 - precision_6: 0.8527 - recall_6: 0.8925 - val_loss: 0.3683 - val_acc: 0.8558 - val_precision_6: 0.8636 - val_recall_6: 0.8507\n",
      "Epoch 55/200\n",
      "427/427 [==============================] - 15s 36ms/step - loss: 0.3439 - acc: 0.8655 - precision_6: 0.8529 - recall_6: 0.8938 - val_loss: 0.3554 - val_acc: 0.8597 - val_precision_6: 0.8532 - val_recall_6: 0.8743\n",
      "Epoch 56/200\n",
      "427/427 [==============================] - 15s 36ms/step - loss: 0.3430 - acc: 0.8652 - precision_6: 0.8534 - recall_6: 0.8923 - val_loss: 0.3509 - val_acc: 0.8633 - val_precision_6: 0.8354 - val_recall_6: 0.9103\n",
      "Epoch 57/200\n",
      "427/427 [==============================] - ETA: 0s - loss: 0.3439 - acc: 0.8649 - precision_6: 0.8540 - recall_6: 0.8906\n",
      "Epoch 00057: ReduceLROnPlateau reducing learning rate to 0.0003999999724328518.\n",
      "427/427 [==============================] - 15s 36ms/step - loss: 0.3439 - acc: 0.8649 - precision_6: 0.8540 - recall_6: 0.8906 - val_loss: 0.3755 - val_acc: 0.8510 - val_precision_6: 0.8653 - val_recall_6: 0.8371\n",
      "Epoch 58/200\n",
      "427/427 [==============================] - 15s 36ms/step - loss: 0.3413 - acc: 0.8665 - precision_6: 0.8542 - recall_6: 0.8942 - val_loss: 0.3482 - val_acc: 0.8638 - val_precision_6: 0.8489 - val_recall_6: 0.8905\n",
      "Epoch 59/200\n",
      "427/427 [==============================] - 15s 36ms/step - loss: 0.3379 - acc: 0.8663 - precision_6: 0.8537 - recall_6: 0.8946 - val_loss: 0.3511 - val_acc: 0.8611 - val_precision_6: 0.8524 - val_recall_6: 0.8789\n",
      "Epoch 60/200\n",
      "427/427 [==============================] - 15s 36ms/step - loss: 0.3403 - acc: 0.8669 - precision_6: 0.8543 - recall_6: 0.8952 - val_loss: 0.3486 - val_acc: 0.8624 - val_precision_6: 0.8498 - val_recall_6: 0.8858\n",
      "Epoch 61/200\n",
      "427/427 [==============================] - 15s 36ms/step - loss: 0.3405 - acc: 0.8665 - precision_6: 0.8542 - recall_6: 0.8943 - val_loss: 0.3484 - val_acc: 0.8630 - val_precision_6: 0.8483 - val_recall_6: 0.8896\n",
      "Epoch 62/200\n",
      "427/427 [==============================] - 16s 38ms/step - loss: 0.3396 - acc: 0.8668 - precision_6: 0.8548 - recall_6: 0.8941 - val_loss: 0.3490 - val_acc: 0.8620 - val_precision_6: 0.8509 - val_recall_6: 0.8833\n",
      "Epoch 63/200\n",
      "427/427 [==============================] - 15s 36ms/step - loss: 0.3378 - acc: 0.8684 - precision_6: 0.8562 - recall_6: 0.8956 - val_loss: 0.3479 - val_acc: 0.8640 - val_precision_6: 0.8429 - val_recall_6: 0.9003\n",
      "Epoch 64/200\n",
      "427/427 [==============================] - 16s 36ms/step - loss: 0.3380 - acc: 0.8686 - precision_6: 0.8555 - recall_6: 0.8971 - val_loss: 0.3475 - val_acc: 0.8632 - val_precision_6: 0.8491 - val_recall_6: 0.8887\n",
      "Epoch 65/200\n",
      "427/427 [==============================] - 16s 37ms/step - loss: 0.3363 - acc: 0.8689 - precision_6: 0.8565 - recall_6: 0.8965 - val_loss: 0.3473 - val_acc: 0.8633 - val_precision_6: 0.8459 - val_recall_6: 0.8939\n",
      "Epoch 66/200\n",
      "427/427 [==============================] - 16s 38ms/step - loss: 0.3401 - acc: 0.8674 - precision_6: 0.8535 - recall_6: 0.8974 - val_loss: 0.3479 - val_acc: 0.8635 - val_precision_6: 0.8492 - val_recall_6: 0.8893\n",
      "Epoch 67/200\n",
      "427/427 [==============================] - 16s 37ms/step - loss: 0.3398 - acc: 0.8662 - precision_6: 0.8528 - recall_6: 0.8957 - val_loss: 0.3475 - val_acc: 0.8639 - val_precision_6: 0.8504 - val_recall_6: 0.8884\n",
      "Epoch 68/200\n",
      "427/427 [==============================] - 15s 36ms/step - loss: 0.3381 - acc: 0.8676 - precision_6: 0.8551 - recall_6: 0.8956 - val_loss: 0.3466 - val_acc: 0.8652 - val_precision_6: 0.8451 - val_recall_6: 0.8997\n",
      "Epoch 69/200\n",
      "427/427 [==============================] - 16s 37ms/step - loss: 0.3388 - acc: 0.8674 - precision_6: 0.8551 - recall_6: 0.8951 - val_loss: 0.3480 - val_acc: 0.8630 - val_precision_6: 0.8382 - val_recall_6: 0.9052\n",
      "Epoch 70/200\n",
      "427/427 [==============================] - 16s 37ms/step - loss: 0.3419 - acc: 0.8662 - precision_6: 0.8536 - recall_6: 0.8945 - val_loss: 0.3508 - val_acc: 0.8611 - val_precision_6: 0.8534 - val_recall_6: 0.8775\n",
      "Epoch 71/200\n",
      "427/427 [==============================] - 16s 37ms/step - loss: 0.3419 - acc: 0.8653 - precision_6: 0.8516 - recall_6: 0.8953 - val_loss: 0.3516 - val_acc: 0.8624 - val_precision_6: 0.8541 - val_recall_6: 0.8795\n",
      "Epoch 72/200\n",
      "427/427 [==============================] - 15s 36ms/step - loss: 0.3373 - acc: 0.8659 - precision_6: 0.8534 - recall_6: 0.8941 - val_loss: 0.3509 - val_acc: 0.8614 - val_precision_6: 0.8505 - val_recall_6: 0.8824\n",
      "Epoch 73/200\n",
      "427/427 [==============================] - 16s 37ms/step - loss: 0.3363 - acc: 0.8672 - precision_6: 0.8544 - recall_6: 0.8955 - val_loss: 0.3485 - val_acc: 0.8613 - val_precision_6: 0.8487 - val_recall_6: 0.8847\n",
      "Epoch 74/200\n",
      "427/427 [==============================] - 16s 37ms/step - loss: 0.3403 - acc: 0.8677 - precision_6: 0.8542 - recall_6: 0.8972 - val_loss: 0.3469 - val_acc: 0.8629 - val_precision_6: 0.8433 - val_recall_6: 0.8968\n",
      "Epoch 75/200\n",
      "427/427 [==============================] - 15s 36ms/step - loss: 0.3386 - acc: 0.8671 - precision_6: 0.8541 - recall_6: 0.8959 - val_loss: 0.3485 - val_acc: 0.8621 - val_precision_6: 0.8452 - val_recall_6: 0.8922\n",
      "Epoch 76/200\n",
      "427/427 [==============================] - 16s 37ms/step - loss: 0.3378 - acc: 0.8669 - precision_6: 0.8539 - recall_6: 0.8955 - val_loss: 0.3486 - val_acc: 0.8642 - val_precision_6: 0.8507 - val_recall_6: 0.8887\n",
      "Epoch 77/200\n",
      "427/427 [==============================] - 16s 38ms/step - loss: 0.3402 - acc: 0.8662 - precision_6: 0.8527 - recall_6: 0.8959 - val_loss: 0.3489 - val_acc: 0.8624 - val_precision_6: 0.8516 - val_recall_6: 0.8833\n",
      "Epoch 78/200\n",
      "427/427 [==============================] - ETA: 0s - loss: 0.3406 - acc: 0.8660 - precision_6: 0.8538 - recall_6: 0.8936\n",
      "Epoch 00078: ReduceLROnPlateau reducing learning rate to 0.0001.\n",
      "427/427 [==============================] - 15s 36ms/step - loss: 0.3406 - acc: 0.8660 - precision_6: 0.8538 - recall_6: 0.8936 - val_loss: 0.3480 - val_acc: 0.8626 - val_precision_6: 0.8514 - val_recall_6: 0.8838\n",
      "Epoch 79/200\n",
      "427/427 [==============================] - 15s 36ms/step - loss: 0.3355 - acc: 0.8691 - precision_6: 0.8563 - recall_6: 0.8972 - val_loss: 0.3466 - val_acc: 0.8652 - val_precision_6: 0.8498 - val_recall_6: 0.8925\n",
      "Epoch 80/200\n",
      "427/427 [==============================] - 15s 36ms/step - loss: 0.3364 - acc: 0.8683 - precision_6: 0.8551 - recall_6: 0.8971 - val_loss: 0.3468 - val_acc: 0.8649 - val_precision_6: 0.8498 - val_recall_6: 0.8919\n",
      "Epoch 81/200\n",
      "427/427 [==============================] - 15s 36ms/step - loss: 0.3370 - acc: 0.8674 - precision_6: 0.8543 - recall_6: 0.8962 - val_loss: 0.3482 - val_acc: 0.8636 - val_precision_6: 0.8507 - val_recall_6: 0.8873\n",
      "Epoch 82/200\n",
      "427/427 [==============================] - 15s 36ms/step - loss: 0.3380 - acc: 0.8659 - precision_6: 0.8539 - recall_6: 0.8932 - val_loss: 0.3480 - val_acc: 0.8629 - val_precision_6: 0.8507 - val_recall_6: 0.8856\n",
      "Epoch 83/200\n",
      "427/427 [==============================] - 16s 37ms/step - loss: 0.3363 - acc: 0.8690 - precision_6: 0.8565 - recall_6: 0.8967 - val_loss: 0.3495 - val_acc: 0.8623 - val_precision_6: 0.8521 - val_recall_6: 0.8821\n",
      "Epoch 84/200\n",
      "427/427 [==============================] - 15s 36ms/step - loss: 0.3357 - acc: 0.8682 - precision_6: 0.8560 - recall_6: 0.8954 - val_loss: 0.3494 - val_acc: 0.8620 - val_precision_6: 0.8513 - val_recall_6: 0.8827\n",
      "Epoch 85/200\n",
      "427/427 [==============================] - 16s 37ms/step - loss: 0.3353 - acc: 0.8701 - precision_6: 0.8559 - recall_6: 0.9001 - val_loss: 0.3475 - val_acc: 0.8648 - val_precision_6: 0.8501 - val_recall_6: 0.8910\n",
      "Epoch 86/200\n",
      "427/427 [==============================] - 16s 37ms/step - loss: 0.3352 - acc: 0.8693 - precision_6: 0.8574 - recall_6: 0.8960 - val_loss: 0.3482 - val_acc: 0.8624 - val_precision_6: 0.8500 - val_recall_6: 0.8856\n",
      "Epoch 87/200\n",
      "427/427 [==============================] - 15s 36ms/step - loss: 0.3368 - acc: 0.8685 - precision_6: 0.8555 - recall_6: 0.8971 - val_loss: 0.3485 - val_acc: 0.8629 - val_precision_6: 0.8523 - val_recall_6: 0.8833\n",
      "Epoch 88/200\n",
      "427/427 [==============================] - 15s 36ms/step - loss: 0.3370 - acc: 0.8683 - precision_6: 0.8558 - recall_6: 0.8959 - val_loss: 0.3488 - val_acc: 0.8624 - val_precision_6: 0.8522 - val_recall_6: 0.8824\n",
      "Epoch 00088: early stopping\n"
     ]
    }
   ],
   "metadata": {}
  },
  {
   "cell_type": "code",
   "execution_count": 73,
   "source": [
    "pred_train = model.evaluate([x_data_train, seqs_train], y_data_train)\n",
    "pred_test = model.evaluate([x_data_test, seqs_eval], y_data_test)\n",
    "y_pred_train = model.predict([x_data_train, seqs_train]).astype('int').flatten()\n",
    "y_pred = model.predict([x_data_test, seqs_eval]).astype('int').flatten()"
   ],
   "outputs": [
    {
     "output_type": "stream",
     "name": "stdout",
     "text": [
      "854/854 [==============================] - 7s 9ms/step - loss: 0.3077 - acc: 0.8802 - precision_6: 0.8634 - recall_6: 0.9126\n",
      "214/214 [==============================] - 2s 9ms/step - loss: 0.3509 - acc: 0.8639 - precision_6: 0.8440 - recall_6: 0.8982\n"
     ]
    }
   ],
   "metadata": {}
  },
  {
   "cell_type": "code",
   "execution_count": 39,
   "source": [
    "#%pip install matplotlib\n",
    "import matplotlib.pyplot as plt\n",
    "\n",
    "plt.plot(history.history['loss'])\n",
    "plt.plot(history.history['val_loss'])\n",
    "plt.title('Model loss')\n",
    "plt.ylabel('Loss')\n",
    "plt.xlabel('Epoch')\n",
    "plt.legend(['Train', 'Test'], loc='upper left')\n",
    "plt.show()"
   ],
   "outputs": [
    {
     "output_type": "display_data",
     "data": {
      "image/png": "[encoded data removed]",
      "text/plain": [
       "<Figure size 432x288 with 1 Axes>"
      ]
     },
     "metadata": {
      "needs_background": "light"
     }
    }
   ],
   "metadata": {}
  },
  {
   "cell_type": "code",
   "execution_count": 40,
   "source": [
    "plt.plot(history.history['acc'])\n",
    "plt.plot(history.history['val_acc'])\n",
    "plt.title('Model Accuracy')\n",
    "plt.ylabel('Accuracy')\n",
    "plt.xlabel('Epoch')\n",
    "plt.legend(['Train', 'Test'], loc='upper left')\n",
    "plt.show()"
   ],
   "outputs": [
    {
     "output_type": "display_data",
     "data": {
      "image/png": "[encoded data removed]",
      "text/plain": [
       "<Figure size 432x288 with 1 Axes>"
      ]
     },
     "metadata": {
      "needs_background": "light"
     }
    }
   ],
   "metadata": {}
  },
  {
   "cell_type": "code",
   "execution_count": null,
   "source": [
    "# %pip install seaborn\n",
    "import seaborn as sns\n",
    "from scipy.stats import pearsonr\n",
    "from matplotlib import pyplot as plt\n",
    "\n",
    "df_corr = pd.DataFrame() # Correlation matrix\n",
    "df_p = pd.DataFrame()  # Matrix of p-values\n",
    "for x in x_data.columns:\n",
    "    # for y in full_df.columns:\n",
    "    corr = pearsonr(x_data[x].astype(float), y_data)\n",
    "    df_corr.loc[x,0] = corr[0]\n",
    "    df_p.loc[x,0] = corr[1]\n",
    "\n",
    "\n",
    "# mask = np.triu(np.ones_like(df_corr, dtype=np.bool))\n",
    "cmap = sns.diverging_palette(240, 10, as_cmap=True)\n",
    "\n",
    "f = plt.figure(figsize=(8, 7))\n",
    "# plt.rc('xtick', labelsize=10)\n",
    "# plt.rc('ytick', labelsize=10)\n",
    "ax = sns.heatmap(df_corr, cmap=cmap, center=0, square=True, linewidths=.5, cbar_kws={\"shrink\": .6})\n",
    "ax.set_title('Pearson Correlation Matrix')\n",
    "bottom, top = ax.get_ylim()\n",
    "ax.set_ylim(bottom + 0.5, top - 0.5)\n",
    "plt.tight_layout()\n",
    "plt.show()\n",
    "\n",
    "f = plt.figure(figsize=(8, 7))\n",
    "# plt.rc('xtick', labelsize=10)\n",
    "# plt.rc('ytick', labelsize=10)\n",
    "ax = sns.heatmap(df_p, cmap=cmap, center=0, square=True, linewidths=.5, cbar_kws={\"shrink\": .6})\n",
    "ax.set_title('P-Value Matrix from Pearson Correlation')\n",
    "bottom, top = ax.get_ylim()\n",
    "ax.set_ylim(bottom + 0.5, top - 0.5)\n",
    "plt.tight_layout()\n",
    "plt.show()"
   ],
   "outputs": [],
   "metadata": {}
  },
  {
   "cell_type": "code",
   "execution_count": null,
   "source": [],
   "outputs": [],
   "metadata": {}
  }
 ],
 "metadata": {
  "instance_type": "ml.g4dn.xlarge",
  "kernelspec": {
   "display_name": "Python 3 (TensorFlow 2.3 Python 3.7 GPU Optimized)",
   "language": "python",
   "name": "python3__SAGEMAKER_INTERNAL__arn:aws:sagemaker:us-east-2:429704687514:image/tensorflow-2.3-gpu-py37-cu110-ubuntu18.04-v3"
  },
  "language_info": {
   "codemirror_mode": {
    "name": "ipython",
    "version": 3
   },
   "file_extension": ".py",
   "mimetype": "text/x-python",
   "name": "python",
   "nbconvert_exporter": "python",
   "pygments_lexer": "ipython3",
   "version": "3.7.10"
  }
 },
 "nbformat": 4,
 "nbformat_minor": 5
}