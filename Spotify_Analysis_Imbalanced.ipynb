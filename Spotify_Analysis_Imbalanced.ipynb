{
  "nbformat": 4,
  "nbformat_minor": 5,
  "metadata": {
    "instance_type": "ml.g4dn.xlarge",
    "kernelspec": {
      "name": "python3",
      "display_name": "Python 3.9.6 64-bit"
    },
    "language_info": {
      "codemirror_mode": {
        "name": "ipython",
        "version": 3
      },
      "file_extension": ".py",
      "mimetype": "text/x-python",
      "name": "python",
      "nbconvert_exporter": "python",
      "pygments_lexer": "ipython3",
      "version": "3.9.6"
    },
    "interpreter": {
      "hash": "aee8b7b246df8f9039afb4144a1f6fd8d2ca17a180786b69acc140d282b71a49"
    },
    "colab": {
      "name": "Spotify Analysis Big Data.ipynb",
      "provenance": [],
      "collapsed_sections": [
        "9m4ZgRxUE9Tw"
      ],
      "machine_shape": "hm"
    },
    "accelerator": "TPU"
  },
  "cells": [
    {
      "cell_type": "code",
      "execution_count": 2,
      "source": [
        "import tensorflow as tf\n",
        "import os\n",
        "resolver = tf.distribute.cluster_resolver.TPUClusterResolver(tpu='grpc://' + os.environ['COLAB_TPU_ADDR']) #Connect to the TPU handle and initialise it\n",
        "tf.config.experimental_connect_to_cluster(resolver)\n",
        "tf.tpu.experimental.initialize_tpu_system(resolver)\n",
        "strategy = tf.distribute.experimental.TPUStrategy(resolver)"
      ],
      "outputs": [
        {
          "output_type": "stream",
          "name": "stdout",
          "text": [
            "INFO:tensorflow:Clearing out eager caches\n"
          ]
        },
        {
          "output_type": "stream",
          "name": "stderr",
          "text": [
            "INFO:tensorflow:Clearing out eager caches\n"
          ]
        },
        {
          "output_type": "stream",
          "name": "stdout",
          "text": [
            "INFO:tensorflow:Initializing the TPU system: grpc://10.115.2.50:8470\n"
          ]
        },
        {
          "output_type": "stream",
          "name": "stderr",
          "text": [
            "INFO:tensorflow:Initializing the TPU system: grpc://10.115.2.50:8470\n"
          ]
        },
        {
          "output_type": "stream",
          "name": "stdout",
          "text": [
            "INFO:tensorflow:Finished initializing TPU system.\n"
          ]
        },
        {
          "output_type": "stream",
          "name": "stderr",
          "text": [
            "INFO:tensorflow:Finished initializing TPU system.\n",
            "WARNING:absl:`tf.distribute.experimental.TPUStrategy` is deprecated, please use  the non experimental symbol `tf.distribute.TPUStrategy` instead.\n"
          ]
        },
        {
          "output_type": "stream",
          "name": "stdout",
          "text": [
            "INFO:tensorflow:Found TPU system:\n"
          ]
        },
        {
          "output_type": "stream",
          "name": "stderr",
          "text": [
            "INFO:tensorflow:Found TPU system:\n"
          ]
        },
        {
          "output_type": "stream",
          "name": "stdout",
          "text": [
            "INFO:tensorflow:*** Num TPU Cores: 8\n"
          ]
        },
        {
          "output_type": "stream",
          "name": "stderr",
          "text": [
            "INFO:tensorflow:*** Num TPU Cores: 8\n"
          ]
        },
        {
          "output_type": "stream",
          "name": "stdout",
          "text": [
            "INFO:tensorflow:*** Num TPU Workers: 1\n"
          ]
        },
        {
          "output_type": "stream",
          "name": "stderr",
          "text": [
            "INFO:tensorflow:*** Num TPU Workers: 1\n"
          ]
        },
        {
          "output_type": "stream",
          "name": "stdout",
          "text": [
            "INFO:tensorflow:*** Num TPU Cores Per Worker: 8\n"
          ]
        },
        {
          "output_type": "stream",
          "name": "stderr",
          "text": [
            "INFO:tensorflow:*** Num TPU Cores Per Worker: 8\n"
          ]
        },
        {
          "output_type": "stream",
          "name": "stdout",
          "text": [
            "INFO:tensorflow:*** Available Device: _DeviceAttributes(/job:localhost/replica:0/task:0/device:CPU:0, CPU, 0, 0)\n"
          ]
        },
        {
          "output_type": "stream",
          "name": "stderr",
          "text": [
            "INFO:tensorflow:*** Available Device: _DeviceAttributes(/job:localhost/replica:0/task:0/device:CPU:0, CPU, 0, 0)\n"
          ]
        },
        {
          "output_type": "stream",
          "name": "stdout",
          "text": [
            "INFO:tensorflow:*** Available Device: _DeviceAttributes(/job:worker/replica:0/task:0/device:CPU:0, CPU, 0, 0)\n"
          ]
        },
        {
          "output_type": "stream",
          "name": "stderr",
          "text": [
            "INFO:tensorflow:*** Available Device: _DeviceAttributes(/job:worker/replica:0/task:0/device:CPU:0, CPU, 0, 0)\n"
          ]
        },
        {
          "output_type": "stream",
          "name": "stdout",
          "text": [
            "INFO:tensorflow:*** Available Device: _DeviceAttributes(/job:worker/replica:0/task:0/device:TPU:0, TPU, 0, 0)\n"
          ]
        },
        {
          "output_type": "stream",
          "name": "stderr",
          "text": [
            "INFO:tensorflow:*** Available Device: _DeviceAttributes(/job:worker/replica:0/task:0/device:TPU:0, TPU, 0, 0)\n"
          ]
        },
        {
          "output_type": "stream",
          "name": "stdout",
          "text": [
            "INFO:tensorflow:*** Available Device: _DeviceAttributes(/job:worker/replica:0/task:0/device:TPU:1, TPU, 0, 0)\n"
          ]
        },
        {
          "output_type": "stream",
          "name": "stderr",
          "text": [
            "INFO:tensorflow:*** Available Device: _DeviceAttributes(/job:worker/replica:0/task:0/device:TPU:1, TPU, 0, 0)\n"
          ]
        },
        {
          "output_type": "stream",
          "name": "stdout",
          "text": [
            "INFO:tensorflow:*** Available Device: _DeviceAttributes(/job:worker/replica:0/task:0/device:TPU:2, TPU, 0, 0)\n"
          ]
        },
        {
          "output_type": "stream",
          "name": "stderr",
          "text": [
            "INFO:tensorflow:*** Available Device: _DeviceAttributes(/job:worker/replica:0/task:0/device:TPU:2, TPU, 0, 0)\n"
          ]
        },
        {
          "output_type": "stream",
          "name": "stdout",
          "text": [
            "INFO:tensorflow:*** Available Device: _DeviceAttributes(/job:worker/replica:0/task:0/device:TPU:3, TPU, 0, 0)\n"
          ]
        },
        {
          "output_type": "stream",
          "name": "stderr",
          "text": [
            "INFO:tensorflow:*** Available Device: _DeviceAttributes(/job:worker/replica:0/task:0/device:TPU:3, TPU, 0, 0)\n"
          ]
        },
        {
          "output_type": "stream",
          "name": "stdout",
          "text": [
            "INFO:tensorflow:*** Available Device: _DeviceAttributes(/job:worker/replica:0/task:0/device:TPU:4, TPU, 0, 0)\n"
          ]
        },
        {
          "output_type": "stream",
          "name": "stderr",
          "text": [
            "INFO:tensorflow:*** Available Device: _DeviceAttributes(/job:worker/replica:0/task:0/device:TPU:4, TPU, 0, 0)\n"
          ]
        },
        {
          "output_type": "stream",
          "name": "stdout",
          "text": [
            "INFO:tensorflow:*** Available Device: _DeviceAttributes(/job:worker/replica:0/task:0/device:TPU:5, TPU, 0, 0)\n"
          ]
        },
        {
          "output_type": "stream",
          "name": "stderr",
          "text": [
            "INFO:tensorflow:*** Available Device: _DeviceAttributes(/job:worker/replica:0/task:0/device:TPU:5, TPU, 0, 0)\n"
          ]
        },
        {
          "output_type": "stream",
          "name": "stdout",
          "text": [
            "INFO:tensorflow:*** Available Device: _DeviceAttributes(/job:worker/replica:0/task:0/device:TPU:6, TPU, 0, 0)\n"
          ]
        },
        {
          "output_type": "stream",
          "name": "stderr",
          "text": [
            "INFO:tensorflow:*** Available Device: _DeviceAttributes(/job:worker/replica:0/task:0/device:TPU:6, TPU, 0, 0)\n"
          ]
        },
        {
          "output_type": "stream",
          "name": "stdout",
          "text": [
            "INFO:tensorflow:*** Available Device: _DeviceAttributes(/job:worker/replica:0/task:0/device:TPU:7, TPU, 0, 0)\n"
          ]
        },
        {
          "output_type": "stream",
          "name": "stderr",
          "text": [
            "INFO:tensorflow:*** Available Device: _DeviceAttributes(/job:worker/replica:0/task:0/device:TPU:7, TPU, 0, 0)\n"
          ]
        },
        {
          "output_type": "stream",
          "name": "stdout",
          "text": [
            "INFO:tensorflow:*** Available Device: _DeviceAttributes(/job:worker/replica:0/task:0/device:TPU_SYSTEM:0, TPU_SYSTEM, 0, 0)\n"
          ]
        },
        {
          "output_type": "stream",
          "name": "stderr",
          "text": [
            "INFO:tensorflow:*** Available Device: _DeviceAttributes(/job:worker/replica:0/task:0/device:TPU_SYSTEM:0, TPU_SYSTEM, 0, 0)\n"
          ]
        },
        {
          "output_type": "stream",
          "name": "stdout",
          "text": [
            "INFO:tensorflow:*** Available Device: _DeviceAttributes(/job:worker/replica:0/task:0/device:XLA_CPU:0, XLA_CPU, 0, 0)\n"
          ]
        },
        {
          "output_type": "stream",
          "name": "stderr",
          "text": [
            "INFO:tensorflow:*** Available Device: _DeviceAttributes(/job:worker/replica:0/task:0/device:XLA_CPU:0, XLA_CPU, 0, 0)\n"
          ]
        }
      ],
      "metadata": {
        "colab": {
          "base_uri": "https://localhost:8080/"
        },
        "id": "JuE7nsoKF9IL",
        "outputId": "50651974-4fa1-42ba-ac28-709a2d7d4d40"
      }
    },
    {
      "cell_type": "code",
      "execution_count": 1,
      "source": [
        "%pip install spotipy --upgrade\n",
        "%pip install lyricsgenius\n",
        "%pip install textblob"
      ],
      "outputs": [
        {
          "output_type": "stream",
          "name": "stdout",
          "text": [
            "\u001b[33mDEPRECATION: Configuring installation scheme with distutils config files is deprecated and will no longer work in the near future. If you are using a Homebrew or Linuxbrew Python, please see discussion at https://github.com/Homebrew/homebrew-core/issues/76621\u001b[0m\n",
            "Requirement already satisfied: spotipy in /usr/local/lib/python3.9/site-packages (2.19.0)\n",
            "Requirement already satisfied: six>=1.15.0 in /usr/local/lib/python3.9/site-packages (from spotipy) (1.15.0)\n",
            "Requirement already satisfied: urllib3>=1.26.0 in /usr/local/lib/python3.9/site-packages (from spotipy) (1.26.6)\n",
            "Requirement already satisfied: requests>=2.25.0 in /usr/local/lib/python3.9/site-packages (from spotipy) (2.26.0)\n",
            "Requirement already satisfied: certifi>=2017.4.17 in /usr/local/lib/python3.9/site-packages (from requests>=2.25.0->spotipy) (2021.5.30)\n",
            "Requirement already satisfied: charset-normalizer~=2.0.0 in /usr/local/lib/python3.9/site-packages (from requests>=2.25.0->spotipy) (2.0.4)\n",
            "Requirement already satisfied: idna<4,>=2.5 in /usr/local/lib/python3.9/site-packages (from requests>=2.25.0->spotipy) (3.2)\n",
            "Note: you may need to restart the kernel to use updated packages.\n",
            "\u001b[33mDEPRECATION: Configuring installation scheme with distutils config files is deprecated and will no longer work in the near future. If you are using a Homebrew or Linuxbrew Python, please see discussion at https://github.com/Homebrew/homebrew-core/issues/76621\u001b[0m\n",
            "Requirement already satisfied: lyricsgenius in /usr/local/lib/python3.9/site-packages (3.0.1)\n",
            "Requirement already satisfied: beautifulsoup4>=4.6.0 in /usr/local/lib/python3.9/site-packages (from lyricsgenius) (4.9.3)\n",
            "Requirement already satisfied: requests>=2.20.0 in /usr/local/lib/python3.9/site-packages (from lyricsgenius) (2.26.0)\n",
            "Requirement already satisfied: soupsieve>1.2 in /usr/local/lib/python3.9/site-packages (from beautifulsoup4>=4.6.0->lyricsgenius) (2.2.1)\n",
            "Requirement already satisfied: certifi>=2017.4.17 in /usr/local/lib/python3.9/site-packages (from requests>=2.20.0->lyricsgenius) (2021.5.30)\n",
            "Requirement already satisfied: charset-normalizer~=2.0.0 in /usr/local/lib/python3.9/site-packages (from requests>=2.20.0->lyricsgenius) (2.0.4)\n",
            "Requirement already satisfied: idna<4,>=2.5 in /usr/local/lib/python3.9/site-packages (from requests>=2.20.0->lyricsgenius) (3.2)\n",
            "Requirement already satisfied: urllib3<1.27,>=1.21.1 in /usr/local/lib/python3.9/site-packages (from requests>=2.20.0->lyricsgenius) (1.26.6)\n",
            "Note: you may need to restart the kernel to use updated packages.\n",
            "\u001b[33mDEPRECATION: Configuring installation scheme with distutils config files is deprecated and will no longer work in the near future. If you are using a Homebrew or Linuxbrew Python, please see discussion at https://github.com/Homebrew/homebrew-core/issues/76621\u001b[0m\n",
            "Requirement already satisfied: textblob in /usr/local/lib/python3.9/site-packages (0.15.3)\n",
            "Requirement already satisfied: nltk>=3.1 in /usr/local/lib/python3.9/site-packages (from textblob) (3.6.2)\n",
            "Requirement already satisfied: regex in /usr/local/lib/python3.9/site-packages (from nltk>=3.1->textblob) (2021.8.21)\n",
            "Requirement already satisfied: tqdm in /usr/local/lib/python3.9/site-packages (from nltk>=3.1->textblob) (4.62.1)\n",
            "Requirement already satisfied: joblib in /usr/local/lib/python3.9/site-packages (from nltk>=3.1->textblob) (1.0.1)\n",
            "Requirement already satisfied: click in /usr/local/lib/python3.9/site-packages (from nltk>=3.1->textblob) (7.1.2)\n",
            "Note: you may need to restart the kernel to use updated packages.\n"
          ]
        }
      ],
      "metadata": {
        "collapsed": true,
        "jupyter": {
          "outputs_hidden": true
        },
        "id": "vRaqLGNWE9SP",
        "colab": {
          "base_uri": "https://localhost:8080/",
          "height": 822
        },
        "outputId": "87c31a35-baf0-43ff-f812-585bc57cb041"
      }
    },
    {
      "cell_type": "code",
      "execution_count": 2,
      "source": [
        "import os\n",
        "import pandas as pd\n",
        "import spotipy\n",
        "from spotipy.oauth2 import SpotifyClientCredentials\n",
        "from spotipy.cache_handler import CacheFileHandler\n",
        "\n",
        "spotify = spotipy.Spotify(client_credentials_manager=SpotifyClientCredentials(client_id=os.environ['SPOTIFY_CLIENT_ID'], client_secret=os.environ['SPOTIFY_CLIENT_SECRET'], cache_handler=CacheFileHandler(username='keatonconrad')))"
      ],
      "outputs": [],
      "metadata": {
        "id": "cKEsDSQqE9Sn",
        "colab": {
          "base_uri": "https://localhost:8080/",
          "height": 526
        },
        "outputId": "a3567cb0-b2c9-4ad8-f5d9-5098e9f35e59"
      }
    },
    {
      "cell_type": "markdown",
      "source": [
        "# Importing Data\n",
        "\n",
        "## Million Song Dataset\n",
        "\n",
        "To start, we import a subset of the [Million Song Dataset](http://millionsongdataset.com/) and read it into a DataFrame with pandas for easy processing. The dataset contains random songs of various genres from 1922 to 2011. We'll use this to collect non-hit songs.\n",
        "\n",
        "The DataFrame is shuffled to mitigate any bias in the order."
      ],
      "metadata": {
        "id": "HX2B1tIOE9S6"
      }
    },
    {
      "cell_type": "code",
      "execution_count": 3,
      "source": [
        "song_data = pd.read_csv('./song-list.txt', sep='<SEP>', engine='python')\n",
        "song_data = song_data.sample(frac=1)\n",
        "song_data.describe()"
      ],
      "outputs": [
        {
          "output_type": "execute_result",
          "data": {
            "text/html": [
              "<div>\n",
              "<style scoped>\n",
              "    .dataframe tbody tr th:only-of-type {\n",
              "        vertical-align: middle;\n",
              "    }\n",
              "\n",
              "    .dataframe tbody tr th {\n",
              "        vertical-align: top;\n",
              "    }\n",
              "\n",
              "    .dataframe thead th {\n",
              "        text-align: right;\n",
              "    }\n",
              "</style>\n",
              "<table border=\"1\" class=\"dataframe\">\n",
              "  <thead>\n",
              "    <tr style=\"text-align: right;\">\n",
              "      <th></th>\n",
              "      <th>Year</th>\n",
              "    </tr>\n",
              "  </thead>\n",
              "  <tbody>\n",
              "    <tr>\n",
              "      <th>count</th>\n",
              "      <td>515576.000000</td>\n",
              "    </tr>\n",
              "    <tr>\n",
              "      <th>mean</th>\n",
              "      <td>1998.397233</td>\n",
              "    </tr>\n",
              "    <tr>\n",
              "      <th>std</th>\n",
              "      <td>10.930534</td>\n",
              "    </tr>\n",
              "    <tr>\n",
              "      <th>min</th>\n",
              "      <td>1922.000000</td>\n",
              "    </tr>\n",
              "    <tr>\n",
              "      <th>25%</th>\n",
              "      <td>1994.000000</td>\n",
              "    </tr>\n",
              "    <tr>\n",
              "      <th>50%</th>\n",
              "      <td>2002.000000</td>\n",
              "    </tr>\n",
              "    <tr>\n",
              "      <th>75%</th>\n",
              "      <td>2006.000000</td>\n",
              "    </tr>\n",
              "    <tr>\n",
              "      <th>max</th>\n",
              "      <td>2011.000000</td>\n",
              "    </tr>\n",
              "  </tbody>\n",
              "</table>\n",
              "</div>"
            ],
            "text/plain": [
              "                Year\n",
              "count  515576.000000\n",
              "mean     1998.397233\n",
              "std        10.930534\n",
              "min      1922.000000\n",
              "25%      1994.000000\n",
              "50%      2002.000000\n",
              "75%      2006.000000\n",
              "max      2011.000000"
            ]
          },
          "metadata": {},
          "execution_count": 3
        }
      ],
      "metadata": {
        "id": "ydn2c7keE9TK",
        "colab": {
          "base_uri": "https://localhost:8080/",
          "height": 300
        },
        "outputId": "9393ed74-f71b-4a91-f46b-01f9fa8503ac"
      }
    },
    {
      "cell_type": "markdown",
      "source": [
        "## Spotify and Billboard Data\n",
        "\n",
        "We import a dataset that contains historical Billboard Hot 100 data mapped to each song's Spotify ID. This is incredibly useful as it helps us collect the audio features later. This dataset will be used to collect features from hit songs.\n",
        "\n",
        "Like the previous dataset, we shuffle it to avoid any ordering bias."
      ],
      "metadata": {
        "id": "9G2vJcoOE9TO"
      }
    },
    {
      "cell_type": "code",
      "execution_count": 4,
      "source": [
        "spotify_billboard_data = pd.read_csv('./spotify-billboard-data.csv')\n",
        "spotify_billboard_data = spotify_billboard_data.sample(frac=1)\n",
        "print(spotify_billboard_data.columns)\n",
        "hit_track_ids = spotify_billboard_data['spotify_track_id'].tolist()\n",
        "spotify_billboard_data.describe()"
      ],
      "outputs": [
        {
          "output_type": "stream",
          "name": "stdout",
          "text": [
            "Index(['spotify_track_id', 'songid', 'performer', 'song',\n",
            "       'spotify_track_album', 'spotify_track_explicit',\n",
            "       'first_chart_appearance', 'peak_position', 'weeks_on_chart'],\n",
            "      dtype='object')\n"
          ]
        },
        {
          "output_type": "execute_result",
          "data": {
            "text/html": [
              "<div>\n",
              "<style scoped>\n",
              "    .dataframe tbody tr th:only-of-type {\n",
              "        vertical-align: middle;\n",
              "    }\n",
              "\n",
              "    .dataframe tbody tr th {\n",
              "        vertical-align: top;\n",
              "    }\n",
              "\n",
              "    .dataframe thead th {\n",
              "        text-align: right;\n",
              "    }\n",
              "</style>\n",
              "<table border=\"1\" class=\"dataframe\">\n",
              "  <thead>\n",
              "    <tr style=\"text-align: right;\">\n",
              "      <th></th>\n",
              "      <th>peak_position</th>\n",
              "      <th>weeks_on_chart</th>\n",
              "    </tr>\n",
              "  </thead>\n",
              "  <tbody>\n",
              "    <tr>\n",
              "      <th>count</th>\n",
              "      <td>23521.000000</td>\n",
              "      <td>23521.000000</td>\n",
              "    </tr>\n",
              "    <tr>\n",
              "      <th>mean</th>\n",
              "      <td>81.205774</td>\n",
              "      <td>11.803877</td>\n",
              "    </tr>\n",
              "    <tr>\n",
              "      <th>std</th>\n",
              "      <td>17.969314</td>\n",
              "      <td>8.309004</td>\n",
              "    </tr>\n",
              "    <tr>\n",
              "      <th>min</th>\n",
              "      <td>1.000000</td>\n",
              "      <td>1.000000</td>\n",
              "    </tr>\n",
              "    <tr>\n",
              "      <th>25%</th>\n",
              "      <td>75.000000</td>\n",
              "      <td>5.000000</td>\n",
              "    </tr>\n",
              "    <tr>\n",
              "      <th>50%</th>\n",
              "      <td>86.000000</td>\n",
              "      <td>11.000000</td>\n",
              "    </tr>\n",
              "    <tr>\n",
              "      <th>75%</th>\n",
              "      <td>94.000000</td>\n",
              "      <td>17.000000</td>\n",
              "    </tr>\n",
              "    <tr>\n",
              "      <th>max</th>\n",
              "      <td>100.000000</td>\n",
              "      <td>87.000000</td>\n",
              "    </tr>\n",
              "  </tbody>\n",
              "</table>\n",
              "</div>"
            ],
            "text/plain": [
              "       peak_position  weeks_on_chart\n",
              "count   23521.000000    23521.000000\n",
              "mean       81.205774       11.803877\n",
              "std        17.969314        8.309004\n",
              "min         1.000000        1.000000\n",
              "25%        75.000000        5.000000\n",
              "50%        86.000000       11.000000\n",
              "75%        94.000000       17.000000\n",
              "max       100.000000       87.000000"
            ]
          },
          "metadata": {},
          "execution_count": 4
        }
      ],
      "metadata": {
        "scrolled": true,
        "id": "ha-AvzVKE9TP",
        "colab": {
          "base_uri": "https://localhost:8080/",
          "height": 373
        },
        "outputId": "8fde9aeb-c95f-41ee-f6b4-2543c2cddebd"
      }
    },
    {
      "cell_type": "markdown",
      "source": [
        "# Data Enrichment"
      ],
      "metadata": {
        "id": "CRpSuJCcE9TR"
      }
    },
    {
      "cell_type": "code",
      "execution_count": 5,
      "source": [
        "def get_track_info(track, hit):\n",
        "    # Helper function to clean up code later\n",
        "    \n",
        "    explicit = 1 if track['explicit'] else 0\n",
        "    try:\n",
        "        isrc = track['external_ids']['isrc']\n",
        "    except KeyError:\n",
        "        isrc = None\n",
        "        \n",
        "    return {\n",
        "        'spotify_track_id': track['id'],\n",
        "        'isrc': isrc,\n",
        "        'artist': track['artists'][0]['name'],\n",
        "        'artist_id': track['artists'][0]['id'],\n",
        "        'song': track['name'],\n",
        "        'spotify_track_album': track['album']['name'],\n",
        "        'year': track['album']['release_date'][:4],\n",
        "        'explicit': explicit,\n",
        "        'hit': hit,\n",
        "        'current_popularity': track['popularity'] # As of 4/20/21\n",
        "    }"
      ],
      "outputs": [],
      "metadata": {
        "id": "eHXOCaLNE9TT"
      }
    },
    {
      "cell_type": "markdown",
      "source": [
        "## Non-Hit Songs\n",
        "\n",
        "We can't do much with just the song title and artist, as given in the Million Song Dataset. Here, we do a search on Spotify to find the closest matching song and retrieve the track ID, album, and explicit information, among other data.\n",
        "\n",
        "It should be noted that this step has some inherent inaccuracy due to its reliance on Spotify's search feature. There is no guarantee the correct song will be returned."
      ],
      "metadata": {
        "id": "9z_tmHtPE9TV"
      }
    },
    {
      "cell_type": "code",
      "execution_count": 7,
      "source": [
        "from tqdm import tqdm\n",
        "\n",
        "no_hit_arr = []\n",
        "song_data_sample = song_data.head(len(spotify_billboard_data)*5)\n",
        "\n",
        "for i, song in tqdm(song_data_sample.iterrows(), total=song_data_sample.shape[0]):\n",
        "    artist = song['Performer'].replace('Featuring ', '').replace('feat. ', '').replace('feat ', '').replace('& ', '')\n",
        "    search_results = spotify.search(q=song['Song'] + ' ' + artist, limit=1, type='track', market='US')\n",
        "    try:\n",
        "        track = search_results['tracks']['items'][0]\n",
        "    except IndexError: # If search didn't return anything\n",
        "        continue\n",
        "        \n",
        "    if track['id'] not in hit_track_ids:\n",
        "        no_hit_arr.append(get_track_info(track, hit=0))"
      ],
      "outputs": [
        {
          "output_type": "stream",
          "name": "stderr",
          "text": [
            "  0%|          | 77/117605 [00:18<7:48:40,  4.18it/s]"
          ]
        }
      ],
      "metadata": {
        "id": "iyq2wWV7E9TY",
        "colab": {
          "base_uri": "https://localhost:8080/",
          "height": 432
        },
        "outputId": "48d7a4fe-9206-432a-ae51-95548dbb553a"
      }
    },
    {
      "cell_type": "markdown",
      "source": [
        "The data is consolidated into a DataFrame for ease of processing."
      ],
      "metadata": {
        "id": "hjzNlb2YE9Ta"
      }
    },
    {
      "cell_type": "code",
      "execution_count": null,
      "source": [
        "no_hit_basic_song_data_df = pd.DataFrame(no_hit_arr)\n",
        "no_hit_basic_song_data_df.describe()"
      ],
      "outputs": [],
      "metadata": {
        "id": "0xctDOmXE9Tc"
      }
    },
    {
      "cell_type": "markdown",
      "source": [
        "## Hit Songs\n",
        "\n",
        "While the Spotify and Billboard dataset provides more data than the Million Song Dataset we are using, we still collect more information from Spotify about the album and release year.\n",
        "\n",
        "This step isn't necessarily required, as the album name isn't used for much. However, it is quick due to already having the track IDs."
      ],
      "metadata": {
        "id": "W_0iCiD3E9Td"
      }
    },
    {
      "cell_type": "code",
      "execution_count": null,
      "source": [
        "hit_arr = []\n",
        "track_ids = []\n",
        "\n",
        "for i, song in tqdm(spotify_billboard_data.iterrows(), total=spotify_billboard_data.shape[0]):\n",
        "    track_ids.append(song['spotify_track_id'])\n",
        "    \n",
        "    if len(track_ids) == 50 or i == spotify_billboard_data.shape[0]:\n",
        "        results = spotify.tracks(tracks=track_ids)['tracks']\n",
        "        for track in results:            \n",
        "            hit_arr.append(get_track_info(track, hit=1))\n",
        "        track_ids.clear()"
      ],
      "outputs": [],
      "metadata": {
        "id": "CKxYi9zvE9Te"
      }
    },
    {
      "cell_type": "markdown",
      "source": [
        "As before, the data is turned into a DataFrame."
      ],
      "metadata": {
        "id": "YMSX-1w6E9Tf"
      }
    },
    {
      "cell_type": "code",
      "execution_count": null,
      "source": [
        "hit_basic_song_data_df = pd.DataFrame(hit_arr)\n",
        "hit_basic_song_data_df.describe()"
      ],
      "outputs": [],
      "metadata": {
        "id": "whDnxx2oE9Tf"
      }
    },
    {
      "cell_type": "markdown",
      "source": [
        "Now that we have basic information (and more importantly, the Spotify track IDs) from our dataset, we concatenate both the non-hits and the hits together into one larger dataset."
      ],
      "metadata": {
        "id": "3HBLFjSxE9Tg"
      }
    },
    {
      "cell_type": "code",
      "execution_count": null,
      "source": [
        "basic_song_data_df = pd.concat([no_hit_basic_song_data_df, hit_basic_song_data_df])\n",
        "basic_song_data_df = basic_song_data_df.sample(frac=1)\n",
        "basic_song_data_df.head()"
      ],
      "outputs": [],
      "metadata": {
        "id": "6T5wofoHE9Ti"
      }
    },
    {
      "cell_type": "markdown",
      "source": [
        "## Feature Collection\n",
        "\n",
        "We collect the audio features for each track using the Spotify API and the track IDs from the newly created DataFrame.\n",
        "\n",
        "Due to how the code makes API calls in batches of 100, it will ignore the last few tracks."
      ],
      "metadata": {
        "id": "DbLWcwrmE9Ti"
      }
    },
    {
      "cell_type": "code",
      "execution_count": null,
      "source": [
        "features = []\n",
        "track_ids = []\n",
        "\n",
        "for track_id in tqdm(basic_song_data_df['spotify_track_id']):\n",
        "    track_ids.append(track_id)\n",
        "    if len(track_ids) == 100:\n",
        "        results = spotify.audio_features(tracks=track_ids)\n",
        "        for result in results:\n",
        "            if result is None:\n",
        "                # Sometimes it returns None, this sets a default so we can still add it to a df\n",
        "                features.append({\n",
        "                    'danceability': None,\n",
        "                    'energy': None,\n",
        "                    'key': None,\n",
        "                    'loudness': None,\n",
        "                    'mode': None,\n",
        "                    'speechiness': None,\n",
        "                    'acousticness': None,\n",
        "                    'instrumentalness': None,\n",
        "                    'liveness': None,\n",
        "                    'valence': None,\n",
        "                    'tempo': None,\n",
        "                    'type': None,\n",
        "                    'id': None,\n",
        "                    'uri': None,\n",
        "                    'track_href': None,\n",
        "                    'analysis_url': None,\n",
        "                    'duration_ms': None,\n",
        "                    'time_signature': None\n",
        "                })\n",
        "            else:\n",
        "                features.append(result)\n",
        "        track_ids.clear()"
      ],
      "outputs": [],
      "metadata": {
        "id": "V8AeL2eWE9Tj"
      }
    },
    {
      "cell_type": "code",
      "execution_count": null,
      "source": [
        "features_df = pd.DataFrame(features)\n",
        "features_df.describe()"
      ],
      "outputs": [],
      "metadata": {
        "id": "TQFdj4JsE9Tk"
      }
    },
    {
      "cell_type": "markdown",
      "source": [
        "Due to the rounding-off of the last few songs as mentioned above, we ensure both the `basic_song_data_df` and the `features_df` are of equal length.\n",
        "\n",
        "Finally, we concatenate them, forming one DataFrame with basic song information and the audio features of each track."
      ],
      "metadata": {
        "id": "KYXf6oYPE9Tk"
      }
    },
    {
      "cell_type": "code",
      "execution_count": null,
      "source": [
        "print(len(basic_song_data_df))\n",
        "print(len(features_df))\n",
        "\n",
        "# features_df.drop(features_df.tail(24).index, inplace=True)\n",
        "\n",
        "print(len(basic_song_data_df))\n",
        "print(len(features_df))\n",
        "\n",
        "basic_data = basic_song_data_df.reset_index(drop=True, inplace=False)\n",
        "feature_data = features_df.reset_index(drop=True, inplace=False)\n",
        "\n",
        "full_df = pd.concat([basic_data, feature_data], axis=1)\n",
        "full_df.head()"
      ],
      "outputs": [],
      "metadata": {
        "id": "bgNps7bRE9Tl"
      }
    },
    {
      "cell_type": "code",
      "execution_count": null,
      "source": [
        "from scipy.stats import ttest_ind\n",
        "\n",
        "\"\"\"\n",
        "for column in full_df.columns:\n",
        "    try:\n",
        "        t = ttest_ind(hit_df[column].astype(float), no_hit_df[column].astype(float))\n",
        "        print(column + ' - T: ' + str(t[0]) + ', p: ' + str(t[1]))\n",
        "    except ValueError:\n",
        "        continue\n",
        "\"\"\""
      ],
      "outputs": [],
      "metadata": {
        "id": "x0NOVFI-E9Tm"
      }
    },
    {
      "cell_type": "markdown",
      "source": [
        "For sanity's sake, we save the DataFrame for easy loading later."
      ],
      "metadata": {
        "id": "taCWrbNLE9To"
      }
    },
    {
      "cell_type": "code",
      "execution_count": null,
      "source": [
        "import pickle\n",
        "\n",
        "df = full_df\n",
        "with open('drive/MyDrive/spotify-analysis/all_song_data_new.pickle', 'wb') as f:\n",
        "    pickle.dump(pd.DataFrame(df), f)"
      ],
      "outputs": [],
      "metadata": {
        "id": "iM0P5fOpE9To"
      }
    },
    {
      "cell_type": "code",
      "execution_count": 1,
      "source": [
        "import pickle\n",
        "with open('all_song_data_new_imbalanced.pickle', 'rb') as f:\n",
        "    df = pickle.load(f)"
      ],
      "outputs": [],
      "metadata": {
        "id": "pCxCBSljE9Tp"
      }
    },
    {
      "cell_type": "markdown",
      "source": [
        "## Lyric Collection\n",
        "\n",
        "Using the Genius API, we collect the lyrics of every song in our dataset. The polarity and subjectivity of the lyrics are also saved to an array.\n",
        "\n",
        "Similar to above, this step has inherent inaccuracies due to its reliance on Genius's search feature.\n",
        "\n",
        "The polariy, subjectivity, and lyrics are pickled and saved for easy loading later."
      ],
      "metadata": {
        "id": "RpKs5ofIE9Tq"
      }
    },
    {
      "cell_type": "code",
      "execution_count": 2,
      "source": [
        "import lyricsgenius\n",
        "genius = lyricsgenius.Genius(os.environ['GENIUS_TOKEN'], verbose=False, remove_section_headers=False)"
      ],
      "outputs": [],
      "metadata": {
        "id": "bUZO2y9ZE9Tr"
      }
    },
    {
      "cell_type": "code",
      "execution_count": 3,
      "source": [
        "import pickle\n",
        "from tqdm import tqdm\n",
        "\n",
        "lyrics = []\n",
        "\n",
        "for i, song in tqdm(df.iterrows(), total=df.shape[0]):\n",
        "    try:\n",
        "        song = genius.search_song(song['song'], song['artist'], get_full_info=False)\n",
        "        song_lyrics = song.lyrics.replace('\\n', ' ')\n",
        "        lyrics.append(song_lyrics)\n",
        "    except:\n",
        "        lyrics.append(None)\n",
        "        \n",
        "with open('lyrics_imbalanced.pickle', 'wb') as f:\n",
        "    pickle.dump(lyrics, f)"
      ],
      "outputs": [
        {
          "output_type": "stream",
          "name": "stderr",
          "text": [
            "  5%|▍         | 3637/79556 [00:12<04:16, 295.60it/s]"
          ]
        }
      ],
      "metadata": {
        "scrolled": true,
        "id": "Q16ygGLIE9Tr"
      }
    },
    {
      "cell_type": "code",
      "execution_count": null,
      "source": [
        "#%pip install demoji\n",
        "import pickle\n",
        "import utils\n",
        "from tqdm import tqdm\n",
        "\n",
        "with open('lyrics.pickle', 'rb') as f:\n",
        "    lyrics = pickle.load(f)\n",
        "\n",
        "# lyrics = [utils.strip_stop_words(lyric) for lyric in tqdm(lyrics)]"
      ],
      "outputs": [],
      "metadata": {
        "id": "01PPskwpE9Ts"
      }
    },
    {
      "cell_type": "code",
      "execution_count": null,
      "source": [
        "from textblob import TextBlob\n",
        "\n",
        "polarity = []\n",
        "subjectivity = []\n",
        "\n",
        "for lyric in tqdm(lyrics):\n",
        "    try:\n",
        "        blob = TextBlob(lyric)\n",
        "        polarity.append(blob.sentiment[0])\n",
        "        subjectivity.append(blob.sentiment[1])\n",
        "    except:\n",
        "        polarity.append(None)\n",
        "        subjectivity.append(None)\n",
        "\n",
        "with open('drive/MyDrive/spotify-analysis/polarity.pickle', 'wb') as f:\n",
        "    pickle.dump(polarity, f)\n",
        "with open('drive/MyDrive/spotify-analysis/subjectivity.pickle', 'wb') as f:\n",
        "    pickle.dump(subjectivity, f)"
      ],
      "outputs": [],
      "metadata": {
        "id": "aCSOALdPE9Tt"
      }
    },
    {
      "cell_type": "code",
      "execution_count": null,
      "source": [
        "import pickle\n",
        "\n",
        "with open('drive/MyDrive/spotify-analysis/polarity.pickle', 'rb') as f:\n",
        "    polarity = pickle.load(f)\n",
        "with open('drive/MyDrive/spotify-analysis/subjectivity.pickle', 'rb') as f:\n",
        "    subjectivity = pickle.load(f)"
      ],
      "outputs": [],
      "metadata": {
        "id": "kIFKh80AE9Tv"
      }
    },
    {
      "cell_type": "markdown",
      "source": [
        "## Artist Popularity\n",
        "\n",
        "This gets the popularity of every artist"
      ],
      "metadata": {
        "id": "9m4ZgRxUE9Tw"
      }
    },
    {
      "cell_type": "code",
      "execution_count": null,
      "source": [
        "popularities = []\n",
        "artist_ids = []\n",
        "\n",
        "for i, artist_id in tqdm(enumerate(df['artist_id']), total=len(df['artist_id'])):\n",
        "    artist_ids.append(artist_id)\n",
        "    if len(artist_ids) == 50 or i == len(df[['artist_id']]):\n",
        "        results = spotify.artists(artist_ids)\n",
        "        for result in results['artists']:\n",
        "            popularities.append(result['popularity'])\n",
        "        artist_ids.clear()"
      ],
      "outputs": [],
      "metadata": {
        "id": "sXceKMX3E9Tw"
      }
    },
    {
      "cell_type": "code",
      "execution_count": null,
      "source": [
        "df_backup = df.copy()\n",
        "df.drop(df.tail(26).index, inplace=True)\n",
        "df['artist_popularity'] = popularities"
      ],
      "outputs": [],
      "metadata": {
        "id": "T4_FWtDPE9Tx"
      }
    },
    {
      "cell_type": "markdown",
      "source": [
        "## Previous Artist Hits\n",
        "\n",
        "This gets an artist's previous hits. It adds up all the artist's hit songs in the dataset that are in the same year or previous years, not counting that song, if it's a hit."
      ],
      "metadata": {
        "id": "4kES1lf7E9Ty"
      }
    },
    {
      "cell_type": "code",
      "execution_count": null,
      "source": [
        "num_hits = []\n",
        "\n",
        "# NOTE: This is an incredibly inefficient way to do this\n",
        "\n",
        "for i, row in tqdm(df.iterrows(), total=df.shape[0]):\n",
        "    subset_df = df[df['year'] <= row['year']]\n",
        "    artist_hits = subset_df.groupby(['artist_id'])['hit'].agg('sum').reset_index()\n",
        "    hits = artist_hits.loc[artist_hits.artist_id==row['artist_id'], 'hit'].values[0]\n",
        "    if hits > 0 and row['hit'] == 1: # Don't count this song if it's a hit\n",
        "        hits-=1\n",
        "    num_hits.append(hits)\n",
        "    \n",
        "df['artist_num_hits'] = num_hits"
      ],
      "outputs": [],
      "metadata": {
        "id": "NO2xg1M4E9Ty"
      }
    },
    {
      "cell_type": "markdown",
      "source": [
        "The polarity, subjectivity, and lyric arrays are added to our dataset as columns. Rows with incomplete data are dropped."
      ],
      "metadata": {
        "id": "w-rMYqrcE9Tz"
      }
    },
    {
      "cell_type": "code",
      "execution_count": null,
      "source": [
        "df['polarity'] = polarity[:-26]\n",
        "df['subjectivity'] = subjectivity[:-26]\n",
        "df['lyrics'] = lyrics[:-26]\n",
        "df['lyric_length'] = df['lyrics'].str.len()"
      ],
      "outputs": [],
      "metadata": {
        "id": "MMi5hlVpE9T0"
      }
    },
    {
      "cell_type": "code",
      "execution_count": null,
      "source": [
        "dupl_df = df[df.duplicated(subset='id')].sort_values(by='id', axis=0)\n",
        "print(len(set(df['id'].tolist())))\n",
        "print(len(df['id'].tolist()))\n",
        "df.drop_duplicates(subset='id', inplace=True)"
      ],
      "outputs": [],
      "metadata": {
        "id": "vr5nrJzgE9T1"
      }
    },
    {
      "cell_type": "code",
      "execution_count": null,
      "source": [
        "with open('drive/MyDrive/spotify-analysis/all_data_imbalanced.pickle', 'wb') as f:\n",
        "    pickle.dump(df, f)"
      ],
      "outputs": [],
      "metadata": {
        "id": "7WFe4OOpE9T2"
      }
    },
    {
      "cell_type": "code",
      "execution_count": null,
      "source": [
        "import pickle\n",
        "\n",
        "with open('drive/MyDrive/spotify-analysis/all_data_imbalanced.pickle', 'rb') as f:\n",
        "    df = pickle.load(f)[:-1]"
      ],
      "outputs": [],
      "metadata": {
        "id": "fJ4AHJWUE9T3"
      }
    },
    {
      "cell_type": "code",
      "execution_count": null,
      "source": [
        "# This drops rows without every value (drops rows that don't have lyrics)\n",
        "# This is necessary for doing embeddings\n",
        "\n",
        "df.dropna(subset=[n for n in df if n != 'isrc'], inplace=True)"
      ],
      "outputs": [],
      "metadata": {
        "id": "pV5YxBv2E9T3"
      }
    },
    {
      "cell_type": "code",
      "execution_count": null,
      "source": [
        "df['lyric_length'] = df['lyric_length'].fillna(0)\n",
        "df['lyrics'] = df['lyrics'].fillna('')\n",
        "df.dropna(subset=['danceability'], inplace=True) # Drops all rows that don't have basic features for whatever reason"
      ],
      "outputs": [],
      "metadata": {
        "id": "LKSoJk72E9T4"
      }
    },
    {
      "cell_type": "code",
      "execution_count": null,
      "source": [
        "df = df[(df.year.astype(int) < 2011) & (df.year.astype(int) > 1957)]"
      ],
      "outputs": [],
      "metadata": {
        "id": "zgO5Iav4E9T5"
      }
    },
    {
      "cell_type": "markdown",
      "source": [
        "We now have our completed dataset."
      ],
      "metadata": {
        "id": "GUpDnAJsE9T6"
      }
    },
    {
      "cell_type": "code",
      "execution_count": null,
      "source": [
        "df.describe()"
      ],
      "outputs": [
        {
          "output_type": "execute_result",
          "data": {
            "text/html": [
              "<div>\n",
              "<style scoped>\n",
              "    .dataframe tbody tr th:only-of-type {\n",
              "        vertical-align: middle;\n",
              "    }\n",
              "\n",
              "    .dataframe tbody tr th {\n",
              "        vertical-align: top;\n",
              "    }\n",
              "\n",
              "    .dataframe thead th {\n",
              "        text-align: right;\n",
              "    }\n",
              "</style>\n",
              "<table border=\"1\" class=\"dataframe\">\n",
              "  <thead>\n",
              "    <tr style=\"text-align: right;\">\n",
              "      <th></th>\n",
              "      <th>explicit</th>\n",
              "      <th>hit</th>\n",
              "      <th>current_popularity</th>\n",
              "      <th>danceability</th>\n",
              "      <th>energy</th>\n",
              "      <th>key</th>\n",
              "      <th>loudness</th>\n",
              "      <th>mode</th>\n",
              "      <th>speechiness</th>\n",
              "      <th>acousticness</th>\n",
              "      <th>instrumentalness</th>\n",
              "      <th>liveness</th>\n",
              "      <th>valence</th>\n",
              "      <th>tempo</th>\n",
              "      <th>duration_ms</th>\n",
              "      <th>time_signature</th>\n",
              "      <th>artist_popularity</th>\n",
              "      <th>artist_num_hits</th>\n",
              "      <th>polarity</th>\n",
              "      <th>subjectivity</th>\n",
              "      <th>lyric_length</th>\n",
              "    </tr>\n",
              "  </thead>\n",
              "  <tbody>\n",
              "    <tr>\n",
              "      <th>count</th>\n",
              "      <td>28100.000000</td>\n",
              "      <td>28100.000000</td>\n",
              "      <td>28100.000000</td>\n",
              "      <td>28100.000000</td>\n",
              "      <td>28100.000000</td>\n",
              "      <td>28100.000000</td>\n",
              "      <td>28100.000000</td>\n",
              "      <td>28100.000000</td>\n",
              "      <td>28100.000000</td>\n",
              "      <td>28100.000000</td>\n",
              "      <td>28100.000000</td>\n",
              "      <td>28100.000000</td>\n",
              "      <td>28100.000000</td>\n",
              "      <td>28100.000000</td>\n",
              "      <td>2.810000e+04</td>\n",
              "      <td>28100.000000</td>\n",
              "      <td>28100.000000</td>\n",
              "      <td>28100.000000</td>\n",
              "      <td>28100.000000</td>\n",
              "      <td>28100.000000</td>\n",
              "      <td>28100.000000</td>\n",
              "    </tr>\n",
              "    <tr>\n",
              "      <th>mean</th>\n",
              "      <td>0.055552</td>\n",
              "      <td>0.559110</td>\n",
              "      <td>27.780641</td>\n",
              "      <td>0.567359</td>\n",
              "      <td>0.625323</td>\n",
              "      <td>5.302883</td>\n",
              "      <td>-8.994787</td>\n",
              "      <td>0.701495</td>\n",
              "      <td>0.076120</td>\n",
              "      <td>0.289709</td>\n",
              "      <td>0.111462</td>\n",
              "      <td>0.201157</td>\n",
              "      <td>0.557285</td>\n",
              "      <td>120.815416</td>\n",
              "      <td>2.325679e+05</td>\n",
              "      <td>3.911210</td>\n",
              "      <td>50.040249</td>\n",
              "      <td>4.164057</td>\n",
              "      <td>0.112348</td>\n",
              "      <td>0.487829</td>\n",
              "      <td>22437.214270</td>\n",
              "    </tr>\n",
              "    <tr>\n",
              "      <th>std</th>\n",
              "      <td>0.229058</td>\n",
              "      <td>0.496503</td>\n",
              "      <td>21.255192</td>\n",
              "      <td>0.168881</td>\n",
              "      <td>0.226850</td>\n",
              "      <td>3.577102</td>\n",
              "      <td>4.185046</td>\n",
              "      <td>0.457610</td>\n",
              "      <td>0.092369</td>\n",
              "      <td>0.303947</td>\n",
              "      <td>0.259465</td>\n",
              "      <td>0.171746</td>\n",
              "      <td>0.255941</td>\n",
              "      <td>28.644537</td>\n",
              "      <td>9.137447e+04</td>\n",
              "      <td>0.388245</td>\n",
              "      <td>21.012866</td>\n",
              "      <td>8.013085</td>\n",
              "      <td>0.185887</td>\n",
              "      <td>0.161322</td>\n",
              "      <td>87050.210805</td>\n",
              "    </tr>\n",
              "    <tr>\n",
              "      <th>min</th>\n",
              "      <td>0.000000</td>\n",
              "      <td>0.000000</td>\n",
              "      <td>0.000000</td>\n",
              "      <td>0.000000</td>\n",
              "      <td>0.000026</td>\n",
              "      <td>0.000000</td>\n",
              "      <td>-52.243000</td>\n",
              "      <td>0.000000</td>\n",
              "      <td>0.000000</td>\n",
              "      <td>0.000000</td>\n",
              "      <td>0.000000</td>\n",
              "      <td>0.000000</td>\n",
              "      <td>0.000000</td>\n",
              "      <td>0.000000</td>\n",
              "      <td>2.027000e+03</td>\n",
              "      <td>0.000000</td>\n",
              "      <td>0.000000</td>\n",
              "      <td>0.000000</td>\n",
              "      <td>-1.000000</td>\n",
              "      <td>0.000000</td>\n",
              "      <td>5.000000</td>\n",
              "    </tr>\n",
              "    <tr>\n",
              "      <th>25%</th>\n",
              "      <td>0.000000</td>\n",
              "      <td>0.000000</td>\n",
              "      <td>9.000000</td>\n",
              "      <td>0.456000</td>\n",
              "      <td>0.465000</td>\n",
              "      <td>2.000000</td>\n",
              "      <td>-11.376250</td>\n",
              "      <td>0.000000</td>\n",
              "      <td>0.033000</td>\n",
              "      <td>0.024000</td>\n",
              "      <td>0.000000</td>\n",
              "      <td>0.093300</td>\n",
              "      <td>0.354000</td>\n",
              "      <td>99.048000</td>\n",
              "      <td>1.793168e+05</td>\n",
              "      <td>4.000000</td>\n",
              "      <td>36.000000</td>\n",
              "      <td>0.000000</td>\n",
              "      <td>0.000000</td>\n",
              "      <td>0.427978</td>\n",
              "      <td>906.000000</td>\n",
              "    </tr>\n",
              "    <tr>\n",
              "      <th>50%</th>\n",
              "      <td>0.000000</td>\n",
              "      <td>1.000000</td>\n",
              "      <td>24.000000</td>\n",
              "      <td>0.578000</td>\n",
              "      <td>0.648000</td>\n",
              "      <td>5.000000</td>\n",
              "      <td>-8.328000</td>\n",
              "      <td>1.000000</td>\n",
              "      <td>0.043200</td>\n",
              "      <td>0.164000</td>\n",
              "      <td>0.000046</td>\n",
              "      <td>0.132000</td>\n",
              "      <td>0.570000</td>\n",
              "      <td>119.929500</td>\n",
              "      <td>2.214270e+05</td>\n",
              "      <td>4.000000</td>\n",
              "      <td>52.000000</td>\n",
              "      <td>1.000000</td>\n",
              "      <td>0.096096</td>\n",
              "      <td>0.500000</td>\n",
              "      <td>1344.500000</td>\n",
              "    </tr>\n",
              "    <tr>\n",
              "      <th>75%</th>\n",
              "      <td>0.000000</td>\n",
              "      <td>1.000000</td>\n",
              "      <td>44.000000</td>\n",
              "      <td>0.690000</td>\n",
              "      <td>0.812000</td>\n",
              "      <td>9.000000</td>\n",
              "      <td>-5.901500</td>\n",
              "      <td>1.000000</td>\n",
              "      <td>0.072300</td>\n",
              "      <td>0.519000</td>\n",
              "      <td>0.013800</td>\n",
              "      <td>0.264000</td>\n",
              "      <td>0.772000</td>\n",
              "      <td>137.823500</td>\n",
              "      <td>2.658432e+05</td>\n",
              "      <td>4.000000</td>\n",
              "      <td>66.000000</td>\n",
              "      <td>5.000000</td>\n",
              "      <td>0.220000</td>\n",
              "      <td>0.574489</td>\n",
              "      <td>2678.250000</td>\n",
              "    </tr>\n",
              "    <tr>\n",
              "      <th>max</th>\n",
              "      <td>1.000000</td>\n",
              "      <td>1.000000</td>\n",
              "      <td>85.000000</td>\n",
              "      <td>0.988000</td>\n",
              "      <td>1.000000</td>\n",
              "      <td>11.000000</td>\n",
              "      <td>4.072000</td>\n",
              "      <td>1.000000</td>\n",
              "      <td>0.962000</td>\n",
              "      <td>0.996000</td>\n",
              "      <td>0.999000</td>\n",
              "      <td>0.999000</td>\n",
              "      <td>0.990000</td>\n",
              "      <td>241.009000</td>\n",
              "      <td>3.079158e+06</td>\n",
              "      <td>5.000000</td>\n",
              "      <td>100.000000</td>\n",
              "      <td>93.000000</td>\n",
              "      <td>1.000000</td>\n",
              "      <td>1.000000</td>\n",
              "      <td>824082.000000</td>\n",
              "    </tr>\n",
              "  </tbody>\n",
              "</table>\n",
              "</div>"
            ],
            "text/plain": [
              "           explicit           hit  ...  subjectivity   lyric_length\n",
              "count  28100.000000  28100.000000  ...  28100.000000   28100.000000\n",
              "mean       0.055552      0.559110  ...      0.487829   22437.214270\n",
              "std        0.229058      0.496503  ...      0.161322   87050.210805\n",
              "min        0.000000      0.000000  ...      0.000000       5.000000\n",
              "25%        0.000000      0.000000  ...      0.427978     906.000000\n",
              "50%        0.000000      1.000000  ...      0.500000    1344.500000\n",
              "75%        0.000000      1.000000  ...      0.574489    2678.250000\n",
              "max        1.000000      1.000000  ...      1.000000  824082.000000\n",
              "\n",
              "[8 rows x 21 columns]"
            ]
          },
          "metadata": {},
          "execution_count": 7
        }
      ],
      "metadata": {
        "colab": {
          "base_uri": "https://localhost:8080/",
          "height": 320
        },
        "id": "S-tLZN0XE9T6",
        "outputId": "d5d3f98d-aa96-4016-ee6f-4b976b1f301f"
      }
    },
    {
      "cell_type": "code",
      "execution_count": null,
      "source": [
        "#%pip install seaborn\n",
        "import seaborn as sns\n",
        "\n",
        "data_df = df.groupby(['year']).mean().reset_index()\n",
        "data_df = data_df[data_df['year'].astype(int) > 1960]\n",
        "sns_plot = sns.regplot(data_df['year'].astype(int), data_df['polarity'], order=1, ci=None)\n",
        "# sns_plot.figure.savefig('polarity.pdf')"
      ],
      "outputs": [
        {
          "output_type": "stream",
          "name": "stderr",
          "text": [
            "/usr/local/lib/python3.7/dist-packages/seaborn/_decorators.py:43: FutureWarning: Pass the following variables as keyword args: x, y. From version 0.12, the only valid positional argument will be `data`, and passing other arguments without an explicit keyword will result in an error or misinterpretation.\n",
            "  FutureWarning\n"
          ]
        },
        {
          "output_type": "display_data",
          "data": {
            "image/png": "[encoded data removed]",
            "text/plain": [
              "<Figure size 432x288 with 1 Axes>"
            ]
          },
          "metadata": {
            "needs_background": "light"
          }
        }
      ],
      "metadata": {
        "colab": {
          "base_uri": "https://localhost:8080/",
          "height": 335
        },
        "id": "aXGBpNbSE9T8",
        "outputId": "535b5415-1858-490e-ce57-c19a98822ac8"
      }
    },
    {
      "cell_type": "markdown",
      "source": [
        "# Data Preparation\n",
        "\n",
        "We extract our target variable (hit or not) from the dataset. Then, we drop irrelevant and non-numerical columns from the dataset to form our x inputs.\n",
        "\n",
        "The dataset is then split into training and validation sets. The new datasets are not shuffled to ensure that the lyrics correspond to the correct auxiliary variables."
      ],
      "metadata": {
        "id": "TykJBsyfE9T-"
      }
    },
    {
      "cell_type": "code",
      "execution_count": null,
      "source": [
        "import sklearn as sk\n",
        "from sklearn.model_selection import train_test_split\n",
        "\n",
        "y_data = df['hit']\n",
        "x_data = df.drop(['hit', 'artist', 'artist_id', 'isrc', 'lyrics', 'song', 'id', 'spotify_track_id', 'spotify_track_album', 'analysis_url', 'uri', 'track_href', 'type', 'current_popularity'], axis=1, inplace=False)\n",
        "print(x_data.columns)\n",
        "x_data_train, x_data_test, y_data_train, y_data_test = train_test_split(\n",
        "    x_data, y_data, test_size=0.2, shuffle=False\n",
        ")\n",
        "\n",
        "lyrics_train, lyrics_eval = train_test_split(df['lyrics'], test_size=0.2, shuffle=False)\n",
        "print(len(y_data_train))\n",
        "print(len(lyrics_train))\n",
        "print(len(x_data_train))\n",
        "print(y_data_train.describe())"
      ],
      "outputs": [
        {
          "output_type": "stream",
          "name": "stdout",
          "text": [
            "Index(['year', 'explicit', 'danceability', 'energy', 'key', 'loudness', 'mode',\n",
            "       'speechiness', 'acousticness', 'instrumentalness', 'liveness',\n",
            "       'valence', 'tempo', 'duration_ms', 'time_signature',\n",
            "       'artist_popularity', 'artist_num_hits', 'polarity', 'subjectivity',\n",
            "       'lyric_length'],\n",
            "      dtype='object')\n",
            "22480\n",
            "22480\n",
            "22480\n",
            "count    22480.000000\n",
            "mean         0.561432\n",
            "std          0.496223\n",
            "min          0.000000\n",
            "25%          0.000000\n",
            "50%          1.000000\n",
            "75%          1.000000\n",
            "max          1.000000\n",
            "Name: hit, dtype: float64\n"
          ]
        }
      ],
      "metadata": {
        "colab": {
          "base_uri": "https://localhost:8080/"
        },
        "id": "4LZVl3ePE9T-",
        "outputId": "e999888f-d56d-4ad3-b3bd-08006a4c5e42"
      }
    },
    {
      "cell_type": "code",
      "execution_count": null,
      "source": [
        "polarity_mean = x_data_train['polarity'].mean()\n",
        "subjectivity_mean = x_data_train['subjectivity'].mean()\n",
        "\n",
        "pd.options.mode.chained_assignment = None  # default='warn'\n",
        "\n",
        "x_data_train['polarity'] = x_data_train['polarity'].fillna(polarity_mean)\n",
        "x_data_test['polarity'] = x_data_test['polarity'].fillna(polarity_mean)\n",
        "x_data_train['subjectivity'] = x_data_train['subjectivity'].fillna(subjectivity_mean)\n",
        "x_data_test['subjectivity'] = x_data_test['subjectivity'].fillna(subjectivity_mean)"
      ],
      "outputs": [],
      "metadata": {
        "id": "WWq1-FhXE9T_"
      }
    },
    {
      "cell_type": "markdown",
      "source": [
        "We then scale our auxiliary input variables using the StandardScaler."
      ],
      "metadata": {
        "id": "F18g8gqaE9UB"
      }
    },
    {
      "cell_type": "code",
      "execution_count": null,
      "source": [
        "from sklearn.preprocessing import StandardScaler\n",
        "\n",
        "scaler_model = StandardScaler()\n",
        "\n",
        "x_data_train = pd.DataFrame(\n",
        "    scaler_model.fit_transform(x_data_train),\n",
        "    columns=x_data_train.columns,\n",
        "    index=x_data_train.index\n",
        ")\n",
        "x_data_test = pd.DataFrame(\n",
        "    scaler_model.transform(x_data_test),\n",
        "    columns=x_data_test.columns,\n",
        "    index=x_data_test.index\n",
        ")"
      ],
      "outputs": [],
      "metadata": {
        "id": "b9ROxcl7E9UB"
      }
    },
    {
      "cell_type": "markdown",
      "source": [
        "# Simple Classification Models\n",
        "\n",
        "The below code blocks show the results of the classification task using the auxiliary variables alone as inputs into various classifier models."
      ],
      "metadata": {
        "id": "b9ftnOyfE9UC"
      }
    },
    {
      "cell_type": "code",
      "execution_count": null,
      "source": [
        "from sklearn.linear_model import LogisticRegression\n",
        "\n",
        "LR = LogisticRegression(random_state=0).fit(x_data_train, y_data_train)\n",
        "print(round(LR.score(x_data_test, y_data_test), 4))\n",
        "lr_preds = LR.predict(x_data_test)\n",
        "print(sk.metrics.precision_recall_fscore_support(y_data_test, lr_preds, average='binary'))\n",
        "print(sk.metrics.confusion_matrix(y_data_test, lr_preds))"
      ],
      "outputs": [
        {
          "output_type": "error",
          "ename": "NameError",
          "evalue": "ignored",
          "traceback": [
            "\u001b[0;31m---------------------------------------------------------------------------\u001b[0m",
            "\u001b[0;31mNameError\u001b[0m                                 Traceback (most recent call last)",
            "\u001b[0;32m<ipython-input-3-676fb22f4cf9>\u001b[0m in \u001b[0;36m<module>\u001b[0;34m()\u001b[0m\n\u001b[1;32m      1\u001b[0m \u001b[0;32mfrom\u001b[0m \u001b[0msklearn\u001b[0m\u001b[0;34m.\u001b[0m\u001b[0mlinear_model\u001b[0m \u001b[0;32mimport\u001b[0m \u001b[0mLogisticRegression\u001b[0m\u001b[0;34m\u001b[0m\u001b[0;34m\u001b[0m\u001b[0m\n\u001b[1;32m      2\u001b[0m \u001b[0;34m\u001b[0m\u001b[0m\n\u001b[0;32m----> 3\u001b[0;31m \u001b[0mLR\u001b[0m \u001b[0;34m=\u001b[0m \u001b[0mLogisticRegression\u001b[0m\u001b[0;34m(\u001b[0m\u001b[0mrandom_state\u001b[0m\u001b[0;34m=\u001b[0m\u001b[0;36m0\u001b[0m\u001b[0;34m)\u001b[0m\u001b[0;34m.\u001b[0m\u001b[0mfit\u001b[0m\u001b[0;34m(\u001b[0m\u001b[0mx_data_train\u001b[0m\u001b[0;34m,\u001b[0m \u001b[0my_data_train\u001b[0m\u001b[0;34m)\u001b[0m\u001b[0;34m\u001b[0m\u001b[0;34m\u001b[0m\u001b[0m\n\u001b[0m\u001b[1;32m      4\u001b[0m \u001b[0mprint\u001b[0m\u001b[0;34m(\u001b[0m\u001b[0mround\u001b[0m\u001b[0;34m(\u001b[0m\u001b[0mLR\u001b[0m\u001b[0;34m.\u001b[0m\u001b[0mscore\u001b[0m\u001b[0;34m(\u001b[0m\u001b[0mx_data_test\u001b[0m\u001b[0;34m,\u001b[0m \u001b[0my_data_test\u001b[0m\u001b[0;34m)\u001b[0m\u001b[0;34m,\u001b[0m \u001b[0;36m4\u001b[0m\u001b[0;34m)\u001b[0m\u001b[0;34m)\u001b[0m\u001b[0;34m\u001b[0m\u001b[0;34m\u001b[0m\u001b[0m\n\u001b[1;32m      5\u001b[0m \u001b[0mlr_preds\u001b[0m \u001b[0;34m=\u001b[0m \u001b[0mLR\u001b[0m\u001b[0;34m.\u001b[0m\u001b[0mpredict\u001b[0m\u001b[0;34m(\u001b[0m\u001b[0mx_data_test\u001b[0m\u001b[0;34m)\u001b[0m\u001b[0;34m\u001b[0m\u001b[0;34m\u001b[0m\u001b[0m\n",
            "\u001b[0;31mNameError\u001b[0m: name 'x_data_train' is not defined"
          ]
        }
      ],
      "metadata": {
        "colab": {
          "base_uri": "https://localhost:8080/",
          "height": 248
        },
        "id": "7u7ISDaJE9UD",
        "outputId": "0515eeeb-7a77-4059-fd0b-2aa0ffff67e6"
      }
    },
    {
      "cell_type": "code",
      "execution_count": null,
      "source": [
        "SVM = sk.svm.SVC()\n",
        "SVM.fit(x_data_train, y_data_train)\n",
        "print(round(SVM.score(x_data_test, y_data_test), 4))\n",
        "svm_preds = SVM.predict(x_data_test)\n",
        "print(sk.metrics.precision_recall_fscore_support(y_data_test, svm_preds, average='binary'))\n",
        "print(sk.metrics.confusion_matrix(y_data_test, svm_preds))"
      ],
      "outputs": [
        {
          "output_type": "stream",
          "name": "stdout",
          "text": [
            "0.8176\n",
            "(0.8353361481000324, 0.8323624595469256, 0.8338466526179283, None)\n",
            "[[2023  507]\n",
            " [ 518 2572]]\n"
          ]
        }
      ],
      "metadata": {
        "id": "IIdXv9FjE9UE",
        "outputId": "6faaba20-bf52-402b-a4bc-2a425eada613"
      }
    },
    {
      "cell_type": "code",
      "execution_count": null,
      "source": [
        "from sklearn.ensemble import RandomForestClassifier\n",
        "\n",
        "RF = RandomForestClassifier(n_estimators=500, max_depth=100, random_state=0)\n",
        "RF.fit(x_data_train, y_data_train)\n",
        "print(round(RF.score(x_data_test, y_data_test), 4))\n",
        "rf_preds = RF.predict(x_data_test)\n",
        "print(sk.metrics.precision_recall_fscore_support(y_data_test, rf_preds, average='binary'))\n",
        "print(sk.metrics.confusion_matrix(y_data_test, rf_preds))"
      ],
      "outputs": [
        {
          "output_type": "stream",
          "name": "stdout",
          "text": [
            "0.8491\n",
            "(0.8466295609152752, 0.886084142394822, 0.8659076533839343, None)\n",
            "[[2034  496]\n",
            " [ 352 2738]]\n"
          ]
        }
      ],
      "metadata": {
        "id": "sIc-993RE9UG",
        "colab": {
          "base_uri": "https://localhost:8080/"
        },
        "outputId": "65cd0cec-2d1c-4459-8b7b-a880f95ea0d8"
      }
    },
    {
      "cell_type": "code",
      "execution_count": null,
      "source": [
        "from sklearn.neural_network import MLPClassifier\n",
        "\n",
        "NN = MLPClassifier(solver='adam', alpha=0.01, hidden_layer_sizes=(30, 10, 10), random_state=1, activation='relu')\n",
        "NN.fit(x_data_train, y_data_train)\n",
        "print(round(NN.score(x_data_test, y_data_test), 4))\n",
        "nn_preds = NN.predict(x_data_test)\n",
        "print(sk.metrics.precision_recall_fscore_support(y_data_test, nn_preds, average='binary'))\n",
        "print(sk.metrics.confusion_matrix(y_data_test, nn_preds))"
      ],
      "outputs": [
        {
          "output_type": "stream",
          "name": "stdout",
          "text": [
            "0.8444\n",
            "(0.8385372714486639, 0.8593254540213318, 0.8488041002277904, None)\n",
            "[[2783  574]\n",
            " [ 488 2981]]\n"
          ]
        }
      ],
      "metadata": {
        "id": "aiYS_c1bE9UH",
        "outputId": "8688ebf4-8d6b-4f34-9a9b-9b59065dce95"
      }
    },
    {
      "cell_type": "code",
      "execution_count": null,
      "source": [
        "from sklearn.naive_bayes import BernoulliNB\n",
        "\n",
        "NB = BernoulliNB()\n",
        "NB.fit(x_data_train, y_data_train)\n",
        "print(round(NB.score(x_data_test, y_data_test), 4))\n",
        "nb_preds = NB.predict(x_data_test)\n",
        "print(sk.metrics.precision_recall_fscore_support(y_data_test, nb_preds, average='binary'))\n",
        "print(sk.metrics.confusion_matrix(y_data_test, nb_preds))"
      ],
      "outputs": [
        {
          "output_type": "stream",
          "name": "stdout",
          "text": [
            "0.7762\n",
            "(0.8061497326203209, 0.7805825242718447, 0.7931601446892469, None)\n",
            "[[1950  580]\n",
            " [ 678 2412]]\n"
          ]
        }
      ],
      "metadata": {
        "id": "x8FqdCkFE9UI",
        "colab": {
          "base_uri": "https://localhost:8080/"
        },
        "outputId": "67cbd378-7e3f-42a9-977b-128449f3378a"
      }
    },
    {
      "cell_type": "code",
      "execution_count": null,
      "source": [
        "from tqdm import tqdm\n",
        "import nltk\n",
        "nltk.download('stopwords')\n",
        "import utils\n",
        "import string\n",
        "\n",
        "lyrics_train_cleaned = pd.Series([utils.strip_stop_words(utils.remove_contractions(l)).translate(str.maketrans('', '', string.punctuation)) for l in tqdm(lyrics_train)])\n",
        "lyrics_eval_cleaned = pd.Series([utils.strip_stop_words(utils.remove_contractions(l)).translate(str.maketrans('', '', string.punctuation)) for l in tqdm(lyrics_eval)])"
      ],
      "outputs": [
        {
          "output_type": "stream",
          "name": "stdout",
          "text": [
            "[nltk_data] Downloading package stopwords to /root/nltk_data...\n",
            "[nltk_data]   Package stopwords is already up-to-date!\n"
          ]
        },
        {
          "output_type": "stream",
          "name": "stderr",
          "text": [
            "100%|██████████| 22480/22480 [04:51<00:00, 77.07it/s]\n",
            "100%|██████████| 5620/5620 [01:07<00:00, 83.11it/s] \n"
          ]
        }
      ],
      "metadata": {
        "id": "7HEnUB5TCNi5",
        "colab": {
          "base_uri": "https://localhost:8080/"
        },
        "outputId": "1c8ab840-e899-4e68-ecca-465f0b6059e0"
      }
    },
    {
      "cell_type": "code",
      "execution_count": null,
      "source": [
        "from tensorflow.keras.layers import TextVectorization\n",
        "\n",
        "count = lyrics_train_cleaned.str.count(' ').add(1)\n",
        "print(count.describe())\n",
        "\n",
        "maxlen = 256\n",
        "vocab_size = 1000\n",
        "\n",
        "seqs_train_vectorization = TextVectorization(\n",
        "    max_tokens=vocab_size, output_mode=\"int\", output_sequence_length=maxlen\n",
        ")\n",
        "seqs_train_vectorization.adapt(lyrics_train_cleaned)\n",
        "seqs_train = seqs_train_vectorization(lyrics_train_cleaned)\n",
        "\n",
        "seqs_eval_vectorization = TextVectorization(\n",
        "    max_tokens=vocab_size, output_mode=\"int\", output_sequence_length=maxlen\n",
        ")\n",
        "seqs_eval_vectorization.adapt(lyrics_eval_cleaned)\n",
        "seqs_eval = seqs_eval_vectorization(lyrics_eval_cleaned)"
      ],
      "outputs": [
        {
          "output_type": "stream",
          "name": "stdout",
          "text": [
            "count    22480.000000\n",
            "mean      2305.106317\n",
            "std       8355.731283\n",
            "min          1.000000\n",
            "25%         93.000000\n",
            "50%        142.000000\n",
            "75%        309.000000\n",
            "max      85837.000000\n",
            "dtype: float64\n"
          ]
        }
      ],
      "metadata": {
        "id": "Q4U6hXVOE9UJ",
        "colab": {
          "base_uri": "https://localhost:8080/"
        },
        "outputId": "ff3aaaee-019b-4eec-9a2c-bed9f8b4bef0"
      }
    },
    {
      "cell_type": "code",
      "execution_count": null,
      "source": [
        "import tensorflow as tf\n",
        "from tensorflow import keras\n",
        "from tensorflow.keras.callbacks import EarlyStopping, ReduceLROnPlateau\n",
        "from tensorflow.keras.layers import BatchNormalization, Dense, Dropout, Embedding, \\\n",
        "    Input, Flatten, MaxPooling1D, Conv1D, concatenate, LSTM\n",
        "from tensorflow.keras.models import Model"
      ],
      "outputs": [],
      "metadata": {
        "id": "sQYpZwbGE9UK"
      }
    },
    {
      "cell_type": "code",
      "execution_count": null,
      "source": [
        "from tensorflow.keras import layers\n",
        "\n",
        "class TransformerBlock(layers.Layer):\n",
        "    def __init__(self, embed_dim, num_heads, ff_dim, rate=0.1):\n",
        "        super(TransformerBlock, self).__init__()\n",
        "        self.att = layers.MultiHeadAttention(num_heads=num_heads, key_dim=embed_dim)\n",
        "        self.ffn = keras.Sequential(\n",
        "            [layers.Dense(ff_dim, activation=\"relu\"), layers.Dense(embed_dim),]\n",
        "        )\n",
        "        self.layernorm1 = layers.LayerNormalization(epsilon=1e-6)\n",
        "        self.layernorm2 = layers.LayerNormalization(epsilon=1e-6)\n",
        "        self.dropout1 = layers.Dropout(rate)\n",
        "        self.dropout2 = layers.Dropout(rate)\n",
        "\n",
        "    def call(self, inputs, training):\n",
        "        attn_output = self.att(inputs, inputs)\n",
        "        attn_output = self.dropout1(attn_output, training=training)\n",
        "        out1 = self.layernorm1(inputs + attn_output)\n",
        "        ffn_output = self.ffn(out1)\n",
        "        ffn_output = self.dropout2(ffn_output, training=training)\n",
        "        return self.layernorm2(out1 + ffn_output)\n",
        "\n",
        "class TokenAndPositionEmbedding(layers.Layer):\n",
        "    def __init__(self, maxlen, vocab_size, embed_dim):\n",
        "        super(TokenAndPositionEmbedding, self).__init__()\n",
        "        self.token_emb = layers.Embedding(input_dim=vocab_size, output_dim=embed_dim)\n",
        "        self.pos_emb = layers.Embedding(input_dim=maxlen, output_dim=embed_dim)\n",
        "\n",
        "    def call(self, x):\n",
        "        maxlen = tf.shape(x)[-1]\n",
        "        positions = tf.range(start=0, limit=maxlen, delta=1)\n",
        "        positions = self.pos_emb(positions)\n",
        "        x = self.token_emb(x)\n",
        "        return x + positions"
      ],
      "outputs": [],
      "metadata": {
        "id": "AVqwuXOEiTCa"
      }
    },
    {
      "cell_type": "code",
      "execution_count": null,
      "source": [
        "print('Building model...')\n",
        "\n",
        "with strategy.scope():\n",
        "\n",
        "  lrelu = lambda x: tf.keras.activations.relu(x, alpha=0.00)\n",
        "\n",
        "  # Branch 1\n",
        "  aux_input = Input(shape=(len(x_data_train.columns),))\n",
        "  aux = Dense(400, activation=lrelu)(aux_input)\n",
        "  aux = BatchNormalization()(aux)\n",
        "  aux = Model(inputs=aux_input, outputs=aux)\n",
        "\n",
        "  # Branch 2\n",
        "  embed_dim = 256  # Embedding size for each token\n",
        "  num_heads = 2  # Number of attention heads\n",
        "  ff_dim = 128  # Hidden layer size in feed forward network inside transformer\n",
        "\n",
        "  emb_input = layers.Input(shape=(maxlen,))\n",
        "  x = TokenAndPositionEmbedding(maxlen, vocab_size, embed_dim)(emb_input)\n",
        "  x = TransformerBlock(embed_dim, num_heads, ff_dim)(x)\n",
        "  x = TransformerBlock(embed_dim, num_heads, ff_dim)(x)\n",
        "  x = TransformerBlock(embed_dim, num_heads, ff_dim)(x)\n",
        "  x = TransformerBlock(embed_dim, num_heads, ff_dim)(x)\n",
        "  x = layers.GlobalAveragePooling1D()(x)\n",
        "  x = Dropout(0.1)(x)\n",
        "  emb = Model(inputs=emb_input, outputs=x)\n",
        "\n",
        "  # Combined\n",
        "  combined = concatenate([aux.output, emb.output])\n",
        "  z = Dense(64, activation=lrelu)(combined)\n",
        "  z = BatchNormalization()(z)\n",
        "  z = Dropout(.2)(z)\n",
        "  z = Dense(64, activation=lrelu)(z)\n",
        "  z = Dense(1, activation='sigmoid')(z)\n",
        "\n",
        "  model = Model(inputs=[aux.input, emb.input], outputs=z)\n",
        "\n",
        "  optimizer = keras.optimizers.SGD(0.01)\n",
        "\n",
        "  model.compile(loss='binary_crossentropy', optimizer=optimizer, metrics=['acc', tf.keras.metrics.Precision(), tf.keras.metrics.Recall()])\n",
        "\n",
        "es = EarlyStopping(monitor='val_loss', mode='min', patience=20, verbose=1)\n",
        "rlr = ReduceLROnPlateau(monitor='val_loss', factor=0.2, patience=10, min_lr=0.0001, verbose=1)\n",
        "\n",
        "print(x_data_train.shape)\n",
        "print(seqs_train.shape)\n",
        "# print(model.summary())"
      ],
      "outputs": [
        {
          "output_type": "stream",
          "name": "stdout",
          "text": [
            "Building model...\n",
            "(22480, 20)\n",
            "(22480, 256)\n"
          ]
        }
      ],
      "metadata": {
        "colab": {
          "base_uri": "https://localhost:8080/"
        },
        "id": "FaiCl4CQE9UN",
        "outputId": "134c2489-c44e-4d70-9aea-306e4357fdaa"
      }
    },
    {
      "cell_type": "code",
      "execution_count": null,
      "source": [
        "history = model.fit(\n",
        "    [x_data_train, seqs_train],\n",
        "    y_data_train,\n",
        "    validation_data=([x_data_test, seqs_eval], y_data_test),\n",
        "    batch_size=32,\n",
        "    epochs=200,\n",
        "    shuffle=True,\n",
        "    verbose=1,\n",
        "    callbacks=[es, rlr]\n",
        ")"
      ],
      "outputs": [
        {
          "output_type": "stream",
          "name": "stdout",
          "text": [
            "Epoch 1/200\n",
            "703/703 [==============================] - 62s 54ms/step - loss: 0.5500 - acc: 0.7200 - precision_26: 0.7447 - recall_26: 0.7626 - val_loss: 0.4809 - val_acc: 0.7639 - val_precision_26: 0.8727 - val_recall_26: 0.6680\n",
            "Epoch 2/200\n",
            "703/703 [==============================] - 17s 25ms/step - loss: 0.5136 - acc: 0.7531 - precision_26: 0.7782 - recall_26: 0.7835 - val_loss: 0.4868 - val_acc: 0.7897 - val_precision_26: 0.7495 - val_recall_26: 0.9275\n",
            "Epoch 3/200\n",
            "703/703 [==============================] - 18s 25ms/step - loss: 0.4946 - acc: 0.7668 - precision_26: 0.7892 - recall_26: 0.7978 - val_loss: 0.4274 - val_acc: 0.8162 - val_precision_26: 0.8521 - val_recall_26: 0.8055\n",
            "Epoch 4/200\n",
            "703/703 [==============================] - 18s 25ms/step - loss: 0.4825 - acc: 0.7738 - precision_26: 0.7916 - recall_26: 0.8106 - val_loss: 0.4259 - val_acc: 0.8219 - val_precision_26: 0.8428 - val_recall_26: 0.8311\n",
            "Epoch 5/200\n",
            "703/703 [==============================] - 18s 25ms/step - loss: 0.4732 - acc: 0.7853 - precision_26: 0.7994 - recall_26: 0.8243 - val_loss: 0.4188 - val_acc: 0.8308 - val_precision_26: 0.8284 - val_recall_26: 0.8731\n",
            "Epoch 6/200\n",
            "703/703 [==============================] - 18s 25ms/step - loss: 0.4620 - acc: 0.7934 - precision_26: 0.8074 - recall_26: 0.8300 - val_loss: 0.4233 - val_acc: 0.8237 - val_precision_26: 0.8451 - val_recall_26: 0.8317\n",
            "Epoch 7/200\n",
            "703/703 [==============================] - 18s 25ms/step - loss: 0.4554 - acc: 0.7985 - precision_26: 0.8118 - recall_26: 0.8345 - val_loss: 0.4091 - val_acc: 0.8308 - val_precision_26: 0.8401 - val_recall_26: 0.8550\n",
            "Epoch 8/200\n",
            "703/703 [==============================] - 18s 25ms/step - loss: 0.4464 - acc: 0.8044 - precision_26: 0.8167 - recall_26: 0.8401 - val_loss: 0.4050 - val_acc: 0.8299 - val_precision_26: 0.8533 - val_recall_26: 0.8340\n",
            "Epoch 9/200\n",
            "703/703 [==============================] - 18s 25ms/step - loss: 0.4475 - acc: 0.8057 - precision_26: 0.8187 - recall_26: 0.8399 - val_loss: 0.4004 - val_acc: 0.8349 - val_precision_26: 0.8296 - val_recall_26: 0.8806\n",
            "Epoch 10/200\n",
            "703/703 [==============================] - 18s 25ms/step - loss: 0.4402 - acc: 0.8073 - precision_26: 0.8189 - recall_26: 0.8431 - val_loss: 0.4070 - val_acc: 0.8281 - val_precision_26: 0.8498 - val_recall_26: 0.8350\n",
            "Epoch 11/200\n",
            "703/703 [==============================] - 18s 25ms/step - loss: 0.4340 - acc: 0.8114 - precision_26: 0.8233 - recall_26: 0.8456 - val_loss: 0.3988 - val_acc: 0.8349 - val_precision_26: 0.8312 - val_recall_26: 0.8780\n",
            "Epoch 12/200\n",
            "703/703 [==============================] - 17s 25ms/step - loss: 0.4320 - acc: 0.8154 - precision_26: 0.8266 - recall_26: 0.8494 - val_loss: 0.3955 - val_acc: 0.8409 - val_precision_26: 0.8395 - val_recall_26: 0.8786\n",
            "Epoch 13/200\n",
            "703/703 [==============================] - 17s 25ms/step - loss: 0.4286 - acc: 0.8153 - precision_26: 0.8248 - recall_26: 0.8520 - val_loss: 0.3980 - val_acc: 0.8367 - val_precision_26: 0.8443 - val_recall_26: 0.8618\n",
            "Epoch 14/200\n",
            "703/703 [==============================] - 17s 25ms/step - loss: 0.4197 - acc: 0.8219 - precision_26: 0.8316 - recall_26: 0.8563 - val_loss: 0.3916 - val_acc: 0.8415 - val_precision_26: 0.8441 - val_recall_26: 0.8728\n",
            "Epoch 15/200\n",
            "703/703 [==============================] - 18s 25ms/step - loss: 0.4206 - acc: 0.8206 - precision_26: 0.8294 - recall_26: 0.8565 - val_loss: 0.3923 - val_acc: 0.8342 - val_precision_26: 0.8461 - val_recall_26: 0.8537\n",
            "Epoch 16/200\n",
            "703/703 [==============================] - 17s 25ms/step - loss: 0.4176 - acc: 0.8246 - precision_26: 0.8338 - recall_26: 0.8588 - val_loss: 0.3901 - val_acc: 0.8431 - val_precision_26: 0.8317 - val_recall_26: 0.8958\n",
            "Epoch 17/200\n",
            "703/703 [==============================] - 18s 25ms/step - loss: 0.4128 - acc: 0.8248 - precision_26: 0.8309 - recall_26: 0.8637 - val_loss: 0.3875 - val_acc: 0.8441 - val_precision_26: 0.8427 - val_recall_26: 0.8809\n",
            "Epoch 18/200\n",
            "703/703 [==============================] - 18s 25ms/step - loss: 0.4058 - acc: 0.8313 - precision_26: 0.8368 - recall_26: 0.8689 - val_loss: 0.3877 - val_acc: 0.8393 - val_precision_26: 0.8506 - val_recall_26: 0.8586\n",
            "Epoch 19/200\n",
            "703/703 [==============================] - 17s 25ms/step - loss: 0.4082 - acc: 0.8290 - precision_26: 0.8369 - recall_26: 0.8637 - val_loss: 0.3987 - val_acc: 0.8327 - val_precision_26: 0.8617 - val_recall_26: 0.8288\n",
            "Epoch 20/200\n",
            "703/703 [==============================] - 17s 25ms/step - loss: 0.4076 - acc: 0.8261 - precision_26: 0.8330 - recall_26: 0.8632 - val_loss: 0.3887 - val_acc: 0.8457 - val_precision_26: 0.8305 - val_recall_26: 0.9039\n",
            "Epoch 21/200\n",
            "703/703 [==============================] - 18s 25ms/step - loss: 0.4027 - acc: 0.8326 - precision_26: 0.8377 - recall_26: 0.8705 - val_loss: 0.4040 - val_acc: 0.8352 - val_precision_26: 0.8124 - val_recall_26: 0.9107\n",
            "Epoch 22/200\n",
            "703/703 [==============================] - 17s 25ms/step - loss: 0.4056 - acc: 0.8322 - precision_26: 0.8399 - recall_26: 0.8663 - val_loss: 0.3851 - val_acc: 0.8440 - val_precision_26: 0.8352 - val_recall_26: 0.8922\n",
            "Epoch 23/200\n",
            "703/703 [==============================] - 17s 25ms/step - loss: 0.4032 - acc: 0.8312 - precision_26: 0.8386 - recall_26: 0.8660 - val_loss: 0.3940 - val_acc: 0.8429 - val_precision_26: 0.8325 - val_recall_26: 0.8942\n",
            "Epoch 24/200\n",
            "703/703 [==============================] - 18s 25ms/step - loss: 0.4003 - acc: 0.8345 - precision_26: 0.8403 - recall_26: 0.8708 - val_loss: 0.3954 - val_acc: 0.8374 - val_precision_26: 0.8605 - val_recall_26: 0.8405\n",
            "Epoch 25/200\n",
            "703/703 [==============================] - 18s 25ms/step - loss: 0.4027 - acc: 0.8326 - precision_26: 0.8415 - recall_26: 0.8646 - val_loss: 0.3922 - val_acc: 0.8463 - val_precision_26: 0.8400 - val_recall_26: 0.8900\n",
            "Epoch 26/200\n",
            "703/703 [==============================] - 18s 25ms/step - loss: 0.4021 - acc: 0.8343 - precision_26: 0.8398 - recall_26: 0.8709 - val_loss: 0.3991 - val_acc: 0.8406 - val_precision_26: 0.8178 - val_recall_26: 0.9136\n",
            "Epoch 27/200\n",
            "703/703 [==============================] - 17s 25ms/step - loss: 0.3929 - acc: 0.8392 - precision_26: 0.8445 - recall_26: 0.8746 - val_loss: 0.3995 - val_acc: 0.8438 - val_precision_26: 0.8274 - val_recall_26: 0.9045\n",
            "Epoch 28/200\n",
            "703/703 [==============================] - 17s 25ms/step - loss: 0.3933 - acc: 0.8355 - precision_26: 0.8424 - recall_26: 0.8697 - val_loss: 0.3930 - val_acc: 0.8448 - val_precision_26: 0.8252 - val_recall_26: 0.9107\n",
            "Epoch 29/200\n",
            "703/703 [==============================] - 17s 25ms/step - loss: 0.3920 - acc: 0.8364 - precision_26: 0.8417 - recall_26: 0.8728 - val_loss: 0.3963 - val_acc: 0.8445 - val_precision_26: 0.8282 - val_recall_26: 0.9049\n",
            "Epoch 30/200\n",
            "703/703 [==============================] - 18s 25ms/step - loss: 0.3930 - acc: 0.8377 - precision_26: 0.8413 - recall_26: 0.8762 - val_loss: 0.3983 - val_acc: 0.8390 - val_precision_26: 0.8574 - val_recall_26: 0.8482\n",
            "Epoch 31/200\n",
            "703/703 [==============================] - 18s 25ms/step - loss: 0.3849 - acc: 0.8415 - precision_26: 0.8461 - recall_26: 0.8771 - val_loss: 0.4079 - val_acc: 0.8374 - val_precision_26: 0.8051 - val_recall_26: 0.9291\n",
            "Epoch 32/200\n",
            "703/703 [==============================] - 18s 25ms/step - loss: 0.3881 - acc: 0.8380 - precision_26: 0.8429 - recall_26: 0.8744 - val_loss: 0.4054 - val_acc: 0.8356 - val_precision_26: 0.8574 - val_recall_26: 0.8408\n",
            "\n",
            "Epoch 00032: ReduceLROnPlateau reducing learning rate to 0.0019999999552965165.\n",
            "Epoch 33/200\n",
            "703/703 [==============================] - 17s 25ms/step - loss: 0.3797 - acc: 0.8453 - precision_26: 0.8493 - recall_26: 0.8808 - val_loss: 0.3895 - val_acc: 0.8411 - val_precision_26: 0.8526 - val_recall_26: 0.8595\n",
            "Epoch 34/200\n",
            "703/703 [==============================] - 17s 25ms/step - loss: 0.3752 - acc: 0.8474 - precision_26: 0.8504 - recall_26: 0.8837 - val_loss: 0.3907 - val_acc: 0.8420 - val_precision_26: 0.8520 - val_recall_26: 0.8625\n",
            "Epoch 35/200\n",
            "703/703 [==============================] - 18s 25ms/step - loss: 0.3732 - acc: 0.8483 - precision_26: 0.8511 - recall_26: 0.8846 - val_loss: 0.3841 - val_acc: 0.8479 - val_precision_26: 0.8450 - val_recall_26: 0.8858\n",
            "Epoch 36/200\n",
            "703/703 [==============================] - 18s 25ms/step - loss: 0.3761 - acc: 0.8470 - precision_26: 0.8497 - recall_26: 0.8838 - val_loss: 0.3863 - val_acc: 0.8436 - val_precision_26: 0.8513 - val_recall_26: 0.8670\n",
            "Epoch 37/200\n",
            "703/703 [==============================] - 18s 26ms/step - loss: 0.3766 - acc: 0.8472 - precision_26: 0.8502 - recall_26: 0.8834 - val_loss: 0.3908 - val_acc: 0.8431 - val_precision_26: 0.8529 - val_recall_26: 0.8634\n",
            "Epoch 38/200\n",
            "703/703 [==============================] - 18s 25ms/step - loss: 0.3715 - acc: 0.8497 - precision_26: 0.8518 - recall_26: 0.8866 - val_loss: 0.3861 - val_acc: 0.8472 - val_precision_26: 0.8455 - val_recall_26: 0.8835\n",
            "Epoch 39/200\n",
            "703/703 [==============================] - 17s 25ms/step - loss: 0.3712 - acc: 0.8504 - precision_26: 0.8519 - recall_26: 0.8879 - val_loss: 0.3895 - val_acc: 0.8418 - val_precision_26: 0.8471 - val_recall_26: 0.8693\n",
            "Epoch 40/200\n",
            "403/703 [================>.............] - ETA: 6s - loss: 0.3667 - acc: 0.8488 - precision_26: 0.8515 - recall_26: 0.8838"
          ]
        },
        {
          "output_type": "error",
          "ename": "KeyboardInterrupt",
          "evalue": "ignored",
          "traceback": [
            "\u001b[0;31m---------------------------------------------------------------------------\u001b[0m",
            "\u001b[0;31mKeyboardInterrupt\u001b[0m                         Traceback (most recent call last)",
            "\u001b[0;32m<ipython-input-80-872222a27e72>\u001b[0m in \u001b[0;36m<module>\u001b[0;34m()\u001b[0m\n\u001b[1;32m      7\u001b[0m     \u001b[0mshuffle\u001b[0m\u001b[0;34m=\u001b[0m\u001b[0;32mTrue\u001b[0m\u001b[0;34m,\u001b[0m\u001b[0;34m\u001b[0m\u001b[0;34m\u001b[0m\u001b[0m\n\u001b[1;32m      8\u001b[0m     \u001b[0mverbose\u001b[0m\u001b[0;34m=\u001b[0m\u001b[0;36m1\u001b[0m\u001b[0;34m,\u001b[0m\u001b[0;34m\u001b[0m\u001b[0;34m\u001b[0m\u001b[0m\n\u001b[0;32m----> 9\u001b[0;31m     \u001b[0mcallbacks\u001b[0m\u001b[0;34m=\u001b[0m\u001b[0;34m[\u001b[0m\u001b[0mes\u001b[0m\u001b[0;34m,\u001b[0m \u001b[0mrlr\u001b[0m\u001b[0;34m]\u001b[0m\u001b[0;34m\u001b[0m\u001b[0;34m\u001b[0m\u001b[0m\n\u001b[0m\u001b[1;32m     10\u001b[0m )\n",
            "\u001b[0;32m/usr/local/lib/python3.7/dist-packages/keras/engine/training.py\u001b[0m in \u001b[0;36mfit\u001b[0;34m(self, x, y, batch_size, epochs, verbose, callbacks, validation_split, validation_data, shuffle, class_weight, sample_weight, initial_epoch, steps_per_epoch, validation_steps, validation_batch_size, validation_freq, max_queue_size, workers, use_multiprocessing)\u001b[0m\n\u001b[1;32m   1187\u001b[0m               \u001b[0mlogs\u001b[0m \u001b[0;34m=\u001b[0m \u001b[0mtmp_logs\u001b[0m  \u001b[0;31m# No error, now safe to assign to logs.\u001b[0m\u001b[0;34m\u001b[0m\u001b[0;34m\u001b[0m\u001b[0m\n\u001b[1;32m   1188\u001b[0m               \u001b[0mend_step\u001b[0m \u001b[0;34m=\u001b[0m \u001b[0mstep\u001b[0m \u001b[0;34m+\u001b[0m \u001b[0mdata_handler\u001b[0m\u001b[0;34m.\u001b[0m\u001b[0mstep_increment\u001b[0m\u001b[0;34m\u001b[0m\u001b[0;34m\u001b[0m\u001b[0m\n\u001b[0;32m-> 1189\u001b[0;31m               \u001b[0mcallbacks\u001b[0m\u001b[0;34m.\u001b[0m\u001b[0mon_train_batch_end\u001b[0m\u001b[0;34m(\u001b[0m\u001b[0mend_step\u001b[0m\u001b[0;34m,\u001b[0m \u001b[0mlogs\u001b[0m\u001b[0;34m)\u001b[0m\u001b[0;34m\u001b[0m\u001b[0;34m\u001b[0m\u001b[0m\n\u001b[0m\u001b[1;32m   1190\u001b[0m               \u001b[0;32mif\u001b[0m \u001b[0mself\u001b[0m\u001b[0;34m.\u001b[0m\u001b[0mstop_training\u001b[0m\u001b[0;34m:\u001b[0m\u001b[0;34m\u001b[0m\u001b[0;34m\u001b[0m\u001b[0m\n\u001b[1;32m   1191\u001b[0m                 \u001b[0;32mbreak\u001b[0m\u001b[0;34m\u001b[0m\u001b[0;34m\u001b[0m\u001b[0m\n",
            "\u001b[0;32m/usr/local/lib/python3.7/dist-packages/keras/callbacks.py\u001b[0m in \u001b[0;36mon_train_batch_end\u001b[0;34m(self, batch, logs)\u001b[0m\n\u001b[1;32m    433\u001b[0m     \"\"\"\n\u001b[1;32m    434\u001b[0m     \u001b[0;32mif\u001b[0m \u001b[0mself\u001b[0m\u001b[0;34m.\u001b[0m\u001b[0m_should_call_train_batch_hooks\u001b[0m\u001b[0;34m:\u001b[0m\u001b[0;34m\u001b[0m\u001b[0;34m\u001b[0m\u001b[0m\n\u001b[0;32m--> 435\u001b[0;31m       \u001b[0mself\u001b[0m\u001b[0;34m.\u001b[0m\u001b[0m_call_batch_hook\u001b[0m\u001b[0;34m(\u001b[0m\u001b[0mModeKeys\u001b[0m\u001b[0;34m.\u001b[0m\u001b[0mTRAIN\u001b[0m\u001b[0;34m,\u001b[0m \u001b[0;34m'end'\u001b[0m\u001b[0;34m,\u001b[0m \u001b[0mbatch\u001b[0m\u001b[0;34m,\u001b[0m \u001b[0mlogs\u001b[0m\u001b[0;34m=\u001b[0m\u001b[0mlogs\u001b[0m\u001b[0;34m)\u001b[0m\u001b[0;34m\u001b[0m\u001b[0;34m\u001b[0m\u001b[0m\n\u001b[0m\u001b[1;32m    436\u001b[0m \u001b[0;34m\u001b[0m\u001b[0m\n\u001b[1;32m    437\u001b[0m   \u001b[0;32mdef\u001b[0m \u001b[0mon_test_batch_begin\u001b[0m\u001b[0;34m(\u001b[0m\u001b[0mself\u001b[0m\u001b[0;34m,\u001b[0m \u001b[0mbatch\u001b[0m\u001b[0;34m,\u001b[0m \u001b[0mlogs\u001b[0m\u001b[0;34m=\u001b[0m\u001b[0;32mNone\u001b[0m\u001b[0;34m)\u001b[0m\u001b[0;34m:\u001b[0m\u001b[0;34m\u001b[0m\u001b[0;34m\u001b[0m\u001b[0m\n",
            "\u001b[0;32m/usr/local/lib/python3.7/dist-packages/keras/callbacks.py\u001b[0m in \u001b[0;36m_call_batch_hook\u001b[0;34m(self, mode, hook, batch, logs)\u001b[0m\n\u001b[1;32m    293\u001b[0m       \u001b[0mself\u001b[0m\u001b[0;34m.\u001b[0m\u001b[0m_call_batch_begin_hook\u001b[0m\u001b[0;34m(\u001b[0m\u001b[0mmode\u001b[0m\u001b[0;34m,\u001b[0m \u001b[0mbatch\u001b[0m\u001b[0;34m,\u001b[0m \u001b[0mlogs\u001b[0m\u001b[0;34m)\u001b[0m\u001b[0;34m\u001b[0m\u001b[0;34m\u001b[0m\u001b[0m\n\u001b[1;32m    294\u001b[0m     \u001b[0;32melif\u001b[0m \u001b[0mhook\u001b[0m \u001b[0;34m==\u001b[0m \u001b[0;34m'end'\u001b[0m\u001b[0;34m:\u001b[0m\u001b[0;34m\u001b[0m\u001b[0;34m\u001b[0m\u001b[0m\n\u001b[0;32m--> 295\u001b[0;31m       \u001b[0mself\u001b[0m\u001b[0;34m.\u001b[0m\u001b[0m_call_batch_end_hook\u001b[0m\u001b[0;34m(\u001b[0m\u001b[0mmode\u001b[0m\u001b[0;34m,\u001b[0m \u001b[0mbatch\u001b[0m\u001b[0;34m,\u001b[0m \u001b[0mlogs\u001b[0m\u001b[0;34m)\u001b[0m\u001b[0;34m\u001b[0m\u001b[0;34m\u001b[0m\u001b[0m\n\u001b[0m\u001b[1;32m    296\u001b[0m     \u001b[0;32melse\u001b[0m\u001b[0;34m:\u001b[0m\u001b[0;34m\u001b[0m\u001b[0;34m\u001b[0m\u001b[0m\n\u001b[1;32m    297\u001b[0m       \u001b[0;32mraise\u001b[0m \u001b[0mValueError\u001b[0m\u001b[0;34m(\u001b[0m\u001b[0;34m'Unrecognized hook: {}'\u001b[0m\u001b[0;34m.\u001b[0m\u001b[0mformat\u001b[0m\u001b[0;34m(\u001b[0m\u001b[0mhook\u001b[0m\u001b[0;34m)\u001b[0m\u001b[0;34m)\u001b[0m\u001b[0;34m\u001b[0m\u001b[0;34m\u001b[0m\u001b[0m\n",
            "\u001b[0;32m/usr/local/lib/python3.7/dist-packages/keras/callbacks.py\u001b[0m in \u001b[0;36m_call_batch_end_hook\u001b[0;34m(self, mode, batch, logs)\u001b[0m\n\u001b[1;32m    313\u001b[0m       \u001b[0mself\u001b[0m\u001b[0;34m.\u001b[0m\u001b[0m_batch_times\u001b[0m\u001b[0;34m.\u001b[0m\u001b[0mappend\u001b[0m\u001b[0;34m(\u001b[0m\u001b[0mbatch_time\u001b[0m\u001b[0;34m)\u001b[0m\u001b[0;34m\u001b[0m\u001b[0;34m\u001b[0m\u001b[0m\n\u001b[1;32m    314\u001b[0m \u001b[0;34m\u001b[0m\u001b[0m\n\u001b[0;32m--> 315\u001b[0;31m     \u001b[0mself\u001b[0m\u001b[0;34m.\u001b[0m\u001b[0m_call_batch_hook_helper\u001b[0m\u001b[0;34m(\u001b[0m\u001b[0mhook_name\u001b[0m\u001b[0;34m,\u001b[0m \u001b[0mbatch\u001b[0m\u001b[0;34m,\u001b[0m \u001b[0mlogs\u001b[0m\u001b[0;34m)\u001b[0m\u001b[0;34m\u001b[0m\u001b[0;34m\u001b[0m\u001b[0m\n\u001b[0m\u001b[1;32m    316\u001b[0m \u001b[0;34m\u001b[0m\u001b[0m\n\u001b[1;32m    317\u001b[0m     \u001b[0;32mif\u001b[0m \u001b[0mlen\u001b[0m\u001b[0;34m(\u001b[0m\u001b[0mself\u001b[0m\u001b[0;34m.\u001b[0m\u001b[0m_batch_times\u001b[0m\u001b[0;34m)\u001b[0m \u001b[0;34m>=\u001b[0m \u001b[0mself\u001b[0m\u001b[0;34m.\u001b[0m\u001b[0m_num_batches_for_timing_check\u001b[0m\u001b[0;34m:\u001b[0m\u001b[0;34m\u001b[0m\u001b[0;34m\u001b[0m\u001b[0m\n",
            "\u001b[0;32m/usr/local/lib/python3.7/dist-packages/keras/callbacks.py\u001b[0m in \u001b[0;36m_call_batch_hook_helper\u001b[0;34m(self, hook_name, batch, logs)\u001b[0m\n\u001b[1;32m    351\u001b[0m     \u001b[0;32mfor\u001b[0m \u001b[0mcallback\u001b[0m \u001b[0;32min\u001b[0m \u001b[0mself\u001b[0m\u001b[0;34m.\u001b[0m\u001b[0mcallbacks\u001b[0m\u001b[0;34m:\u001b[0m\u001b[0;34m\u001b[0m\u001b[0;34m\u001b[0m\u001b[0m\n\u001b[1;32m    352\u001b[0m       \u001b[0mhook\u001b[0m \u001b[0;34m=\u001b[0m \u001b[0mgetattr\u001b[0m\u001b[0;34m(\u001b[0m\u001b[0mcallback\u001b[0m\u001b[0;34m,\u001b[0m \u001b[0mhook_name\u001b[0m\u001b[0;34m)\u001b[0m\u001b[0;34m\u001b[0m\u001b[0;34m\u001b[0m\u001b[0m\n\u001b[0;32m--> 353\u001b[0;31m       \u001b[0mhook\u001b[0m\u001b[0;34m(\u001b[0m\u001b[0mbatch\u001b[0m\u001b[0;34m,\u001b[0m \u001b[0mlogs\u001b[0m\u001b[0;34m)\u001b[0m\u001b[0;34m\u001b[0m\u001b[0;34m\u001b[0m\u001b[0m\n\u001b[0m\u001b[1;32m    354\u001b[0m \u001b[0;34m\u001b[0m\u001b[0m\n\u001b[1;32m    355\u001b[0m     \u001b[0;32mif\u001b[0m \u001b[0mself\u001b[0m\u001b[0;34m.\u001b[0m\u001b[0m_check_timing\u001b[0m\u001b[0;34m:\u001b[0m\u001b[0;34m\u001b[0m\u001b[0;34m\u001b[0m\u001b[0m\n",
            "\u001b[0;32m/usr/local/lib/python3.7/dist-packages/keras/callbacks.py\u001b[0m in \u001b[0;36mon_train_batch_end\u001b[0;34m(self, batch, logs)\u001b[0m\n\u001b[1;32m   1026\u001b[0m \u001b[0;34m\u001b[0m\u001b[0m\n\u001b[1;32m   1027\u001b[0m   \u001b[0;32mdef\u001b[0m \u001b[0mon_train_batch_end\u001b[0m\u001b[0;34m(\u001b[0m\u001b[0mself\u001b[0m\u001b[0;34m,\u001b[0m \u001b[0mbatch\u001b[0m\u001b[0;34m,\u001b[0m \u001b[0mlogs\u001b[0m\u001b[0;34m=\u001b[0m\u001b[0;32mNone\u001b[0m\u001b[0;34m)\u001b[0m\u001b[0;34m:\u001b[0m\u001b[0;34m\u001b[0m\u001b[0;34m\u001b[0m\u001b[0m\n\u001b[0;32m-> 1028\u001b[0;31m     \u001b[0mself\u001b[0m\u001b[0;34m.\u001b[0m\u001b[0m_batch_update_progbar\u001b[0m\u001b[0;34m(\u001b[0m\u001b[0mbatch\u001b[0m\u001b[0;34m,\u001b[0m \u001b[0mlogs\u001b[0m\u001b[0;34m)\u001b[0m\u001b[0;34m\u001b[0m\u001b[0;34m\u001b[0m\u001b[0m\n\u001b[0m\u001b[1;32m   1029\u001b[0m \u001b[0;34m\u001b[0m\u001b[0m\n\u001b[1;32m   1030\u001b[0m   \u001b[0;32mdef\u001b[0m \u001b[0mon_test_batch_end\u001b[0m\u001b[0;34m(\u001b[0m\u001b[0mself\u001b[0m\u001b[0;34m,\u001b[0m \u001b[0mbatch\u001b[0m\u001b[0;34m,\u001b[0m \u001b[0mlogs\u001b[0m\u001b[0;34m=\u001b[0m\u001b[0;32mNone\u001b[0m\u001b[0;34m)\u001b[0m\u001b[0;34m:\u001b[0m\u001b[0;34m\u001b[0m\u001b[0;34m\u001b[0m\u001b[0m\n",
            "\u001b[0;32m/usr/local/lib/python3.7/dist-packages/keras/callbacks.py\u001b[0m in \u001b[0;36m_batch_update_progbar\u001b[0;34m(self, batch, logs)\u001b[0m\n\u001b[1;32m   1098\u001b[0m     \u001b[0;32mif\u001b[0m \u001b[0mself\u001b[0m\u001b[0;34m.\u001b[0m\u001b[0mverbose\u001b[0m \u001b[0;34m==\u001b[0m \u001b[0;36m1\u001b[0m\u001b[0;34m:\u001b[0m\u001b[0;34m\u001b[0m\u001b[0;34m\u001b[0m\u001b[0m\n\u001b[1;32m   1099\u001b[0m       \u001b[0;31m# Only block async when verbose = 1.\u001b[0m\u001b[0;34m\u001b[0m\u001b[0;34m\u001b[0m\u001b[0;34m\u001b[0m\u001b[0m\n\u001b[0;32m-> 1100\u001b[0;31m       \u001b[0mlogs\u001b[0m \u001b[0;34m=\u001b[0m \u001b[0mtf_utils\u001b[0m\u001b[0;34m.\u001b[0m\u001b[0msync_to_numpy_or_python_type\u001b[0m\u001b[0;34m(\u001b[0m\u001b[0mlogs\u001b[0m\u001b[0;34m)\u001b[0m\u001b[0;34m\u001b[0m\u001b[0;34m\u001b[0m\u001b[0m\n\u001b[0m\u001b[1;32m   1101\u001b[0m       \u001b[0mself\u001b[0m\u001b[0;34m.\u001b[0m\u001b[0mprogbar\u001b[0m\u001b[0;34m.\u001b[0m\u001b[0mupdate\u001b[0m\u001b[0;34m(\u001b[0m\u001b[0mself\u001b[0m\u001b[0;34m.\u001b[0m\u001b[0mseen\u001b[0m\u001b[0;34m,\u001b[0m \u001b[0mlist\u001b[0m\u001b[0;34m(\u001b[0m\u001b[0mlogs\u001b[0m\u001b[0;34m.\u001b[0m\u001b[0mitems\u001b[0m\u001b[0;34m(\u001b[0m\u001b[0;34m)\u001b[0m\u001b[0;34m)\u001b[0m\u001b[0;34m,\u001b[0m \u001b[0mfinalize\u001b[0m\u001b[0;34m=\u001b[0m\u001b[0;32mFalse\u001b[0m\u001b[0;34m)\u001b[0m\u001b[0;34m\u001b[0m\u001b[0;34m\u001b[0m\u001b[0m\n\u001b[1;32m   1102\u001b[0m \u001b[0;34m\u001b[0m\u001b[0m\n",
            "\u001b[0;32m/usr/local/lib/python3.7/dist-packages/keras/utils/tf_utils.py\u001b[0m in \u001b[0;36msync_to_numpy_or_python_type\u001b[0;34m(tensors)\u001b[0m\n\u001b[1;32m    514\u001b[0m     \u001b[0;32mreturn\u001b[0m \u001b[0mt\u001b[0m  \u001b[0;31m# Don't turn ragged or sparse tensors to NumPy.\u001b[0m\u001b[0;34m\u001b[0m\u001b[0;34m\u001b[0m\u001b[0m\n\u001b[1;32m    515\u001b[0m \u001b[0;34m\u001b[0m\u001b[0m\n\u001b[0;32m--> 516\u001b[0;31m   \u001b[0;32mreturn\u001b[0m \u001b[0mtf\u001b[0m\u001b[0;34m.\u001b[0m\u001b[0mnest\u001b[0m\u001b[0;34m.\u001b[0m\u001b[0mmap_structure\u001b[0m\u001b[0;34m(\u001b[0m\u001b[0m_to_single_numpy_or_python_type\u001b[0m\u001b[0;34m,\u001b[0m \u001b[0mtensors\u001b[0m\u001b[0;34m)\u001b[0m\u001b[0;34m\u001b[0m\u001b[0;34m\u001b[0m\u001b[0m\n\u001b[0m\u001b[1;32m    517\u001b[0m \u001b[0;34m\u001b[0m\u001b[0m\n\u001b[1;32m    518\u001b[0m \u001b[0;34m\u001b[0m\u001b[0m\n",
            "\u001b[0;32m/usr/local/lib/python3.7/dist-packages/tensorflow/python/util/nest.py\u001b[0m in \u001b[0;36mmap_structure\u001b[0;34m(func, *structure, **kwargs)\u001b[0m\n\u001b[1;32m    867\u001b[0m \u001b[0;34m\u001b[0m\u001b[0m\n\u001b[1;32m    868\u001b[0m   return pack_sequence_as(\n\u001b[0;32m--> 869\u001b[0;31m       \u001b[0mstructure\u001b[0m\u001b[0;34m[\u001b[0m\u001b[0;36m0\u001b[0m\u001b[0;34m]\u001b[0m\u001b[0;34m,\u001b[0m \u001b[0;34m[\u001b[0m\u001b[0mfunc\u001b[0m\u001b[0;34m(\u001b[0m\u001b[0;34m*\u001b[0m\u001b[0mx\u001b[0m\u001b[0;34m)\u001b[0m \u001b[0;32mfor\u001b[0m \u001b[0mx\u001b[0m \u001b[0;32min\u001b[0m \u001b[0mentries\u001b[0m\u001b[0;34m]\u001b[0m\u001b[0;34m,\u001b[0m\u001b[0;34m\u001b[0m\u001b[0;34m\u001b[0m\u001b[0m\n\u001b[0m\u001b[1;32m    870\u001b[0m       expand_composites=expand_composites)\n\u001b[1;32m    871\u001b[0m \u001b[0;34m\u001b[0m\u001b[0m\n",
            "\u001b[0;32m/usr/local/lib/python3.7/dist-packages/tensorflow/python/util/nest.py\u001b[0m in \u001b[0;36m<listcomp>\u001b[0;34m(.0)\u001b[0m\n\u001b[1;32m    867\u001b[0m \u001b[0;34m\u001b[0m\u001b[0m\n\u001b[1;32m    868\u001b[0m   return pack_sequence_as(\n\u001b[0;32m--> 869\u001b[0;31m       \u001b[0mstructure\u001b[0m\u001b[0;34m[\u001b[0m\u001b[0;36m0\u001b[0m\u001b[0;34m]\u001b[0m\u001b[0;34m,\u001b[0m \u001b[0;34m[\u001b[0m\u001b[0mfunc\u001b[0m\u001b[0;34m(\u001b[0m\u001b[0;34m*\u001b[0m\u001b[0mx\u001b[0m\u001b[0;34m)\u001b[0m \u001b[0;32mfor\u001b[0m \u001b[0mx\u001b[0m \u001b[0;32min\u001b[0m \u001b[0mentries\u001b[0m\u001b[0;34m]\u001b[0m\u001b[0;34m,\u001b[0m\u001b[0;34m\u001b[0m\u001b[0;34m\u001b[0m\u001b[0m\n\u001b[0m\u001b[1;32m    870\u001b[0m       expand_composites=expand_composites)\n\u001b[1;32m    871\u001b[0m \u001b[0;34m\u001b[0m\u001b[0m\n",
            "\u001b[0;32m/usr/local/lib/python3.7/dist-packages/keras/utils/tf_utils.py\u001b[0m in \u001b[0;36m_to_single_numpy_or_python_type\u001b[0;34m(t)\u001b[0m\n\u001b[1;32m    510\u001b[0m   \u001b[0;32mdef\u001b[0m \u001b[0m_to_single_numpy_or_python_type\u001b[0m\u001b[0;34m(\u001b[0m\u001b[0mt\u001b[0m\u001b[0;34m)\u001b[0m\u001b[0;34m:\u001b[0m\u001b[0;34m\u001b[0m\u001b[0;34m\u001b[0m\u001b[0m\n\u001b[1;32m    511\u001b[0m     \u001b[0;32mif\u001b[0m \u001b[0misinstance\u001b[0m\u001b[0;34m(\u001b[0m\u001b[0mt\u001b[0m\u001b[0;34m,\u001b[0m \u001b[0mtf\u001b[0m\u001b[0;34m.\u001b[0m\u001b[0mTensor\u001b[0m\u001b[0;34m)\u001b[0m\u001b[0;34m:\u001b[0m\u001b[0;34m\u001b[0m\u001b[0;34m\u001b[0m\u001b[0m\n\u001b[0;32m--> 512\u001b[0;31m       \u001b[0mx\u001b[0m \u001b[0;34m=\u001b[0m \u001b[0mt\u001b[0m\u001b[0;34m.\u001b[0m\u001b[0mnumpy\u001b[0m\u001b[0;34m(\u001b[0m\u001b[0;34m)\u001b[0m\u001b[0;34m\u001b[0m\u001b[0;34m\u001b[0m\u001b[0m\n\u001b[0m\u001b[1;32m    513\u001b[0m       \u001b[0;32mreturn\u001b[0m \u001b[0mx\u001b[0m\u001b[0;34m.\u001b[0m\u001b[0mitem\u001b[0m\u001b[0;34m(\u001b[0m\u001b[0;34m)\u001b[0m \u001b[0;32mif\u001b[0m \u001b[0mnp\u001b[0m\u001b[0;34m.\u001b[0m\u001b[0mndim\u001b[0m\u001b[0;34m(\u001b[0m\u001b[0mx\u001b[0m\u001b[0;34m)\u001b[0m \u001b[0;34m==\u001b[0m \u001b[0;36m0\u001b[0m \u001b[0;32melse\u001b[0m \u001b[0mx\u001b[0m\u001b[0;34m\u001b[0m\u001b[0;34m\u001b[0m\u001b[0m\n\u001b[1;32m    514\u001b[0m     \u001b[0;32mreturn\u001b[0m \u001b[0mt\u001b[0m  \u001b[0;31m# Don't turn ragged or sparse tensors to NumPy.\u001b[0m\u001b[0;34m\u001b[0m\u001b[0;34m\u001b[0m\u001b[0m\n",
            "\u001b[0;32m/usr/local/lib/python3.7/dist-packages/tensorflow/python/framework/ops.py\u001b[0m in \u001b[0;36mnumpy\u001b[0;34m(self)\u001b[0m\n\u001b[1;32m   1092\u001b[0m     \"\"\"\n\u001b[1;32m   1093\u001b[0m     \u001b[0;31m# TODO(slebedev): Consider avoiding a copy for non-CPU or remote tensors.\u001b[0m\u001b[0;34m\u001b[0m\u001b[0;34m\u001b[0m\u001b[0;34m\u001b[0m\u001b[0m\n\u001b[0;32m-> 1094\u001b[0;31m     \u001b[0mmaybe_arr\u001b[0m \u001b[0;34m=\u001b[0m \u001b[0mself\u001b[0m\u001b[0;34m.\u001b[0m\u001b[0m_numpy\u001b[0m\u001b[0;34m(\u001b[0m\u001b[0;34m)\u001b[0m  \u001b[0;31m# pylint: disable=protected-access\u001b[0m\u001b[0;34m\u001b[0m\u001b[0;34m\u001b[0m\u001b[0m\n\u001b[0m\u001b[1;32m   1095\u001b[0m     \u001b[0;32mreturn\u001b[0m \u001b[0mmaybe_arr\u001b[0m\u001b[0;34m.\u001b[0m\u001b[0mcopy\u001b[0m\u001b[0;34m(\u001b[0m\u001b[0;34m)\u001b[0m \u001b[0;32mif\u001b[0m \u001b[0misinstance\u001b[0m\u001b[0;34m(\u001b[0m\u001b[0mmaybe_arr\u001b[0m\u001b[0;34m,\u001b[0m \u001b[0mnp\u001b[0m\u001b[0;34m.\u001b[0m\u001b[0mndarray\u001b[0m\u001b[0;34m)\u001b[0m \u001b[0;32melse\u001b[0m \u001b[0mmaybe_arr\u001b[0m\u001b[0;34m\u001b[0m\u001b[0;34m\u001b[0m\u001b[0m\n\u001b[1;32m   1096\u001b[0m \u001b[0;34m\u001b[0m\u001b[0m\n",
            "\u001b[0;32m/usr/local/lib/python3.7/dist-packages/tensorflow/python/framework/ops.py\u001b[0m in \u001b[0;36m_numpy\u001b[0;34m(self)\u001b[0m\n\u001b[1;32m   1058\u001b[0m   \u001b[0;32mdef\u001b[0m \u001b[0m_numpy\u001b[0m\u001b[0;34m(\u001b[0m\u001b[0mself\u001b[0m\u001b[0;34m)\u001b[0m\u001b[0;34m:\u001b[0m\u001b[0;34m\u001b[0m\u001b[0;34m\u001b[0m\u001b[0m\n\u001b[1;32m   1059\u001b[0m     \u001b[0;32mtry\u001b[0m\u001b[0;34m:\u001b[0m\u001b[0;34m\u001b[0m\u001b[0;34m\u001b[0m\u001b[0m\n\u001b[0;32m-> 1060\u001b[0;31m       \u001b[0;32mreturn\u001b[0m \u001b[0mself\u001b[0m\u001b[0;34m.\u001b[0m\u001b[0m_numpy_internal\u001b[0m\u001b[0;34m(\u001b[0m\u001b[0;34m)\u001b[0m\u001b[0;34m\u001b[0m\u001b[0;34m\u001b[0m\u001b[0m\n\u001b[0m\u001b[1;32m   1061\u001b[0m     \u001b[0;32mexcept\u001b[0m \u001b[0mcore\u001b[0m\u001b[0;34m.\u001b[0m\u001b[0m_NotOkStatusException\u001b[0m \u001b[0;32mas\u001b[0m \u001b[0me\u001b[0m\u001b[0;34m:\u001b[0m  \u001b[0;31m# pylint: disable=protected-access\u001b[0m\u001b[0;34m\u001b[0m\u001b[0;34m\u001b[0m\u001b[0m\n\u001b[1;32m   1062\u001b[0m       \u001b[0msix\u001b[0m\u001b[0;34m.\u001b[0m\u001b[0mraise_from\u001b[0m\u001b[0;34m(\u001b[0m\u001b[0mcore\u001b[0m\u001b[0;34m.\u001b[0m\u001b[0m_status_to_exception\u001b[0m\u001b[0;34m(\u001b[0m\u001b[0me\u001b[0m\u001b[0;34m.\u001b[0m\u001b[0mcode\u001b[0m\u001b[0;34m,\u001b[0m \u001b[0me\u001b[0m\u001b[0;34m.\u001b[0m\u001b[0mmessage\u001b[0m\u001b[0;34m)\u001b[0m\u001b[0;34m,\u001b[0m \u001b[0;32mNone\u001b[0m\u001b[0;34m)\u001b[0m  \u001b[0;31m# pylint: disable=protected-access\u001b[0m\u001b[0;34m\u001b[0m\u001b[0;34m\u001b[0m\u001b[0m\n",
            "\u001b[0;31mKeyboardInterrupt\u001b[0m: "
          ]
        }
      ],
      "metadata": {
        "colab": {
          "base_uri": "https://localhost:8080/",
          "height": 1000
        },
        "id": "dayZNLNlE9UO",
        "outputId": "29315a09-0a77-4aa4-e52d-a27ae081dec5"
      }
    },
    {
      "cell_type": "code",
      "execution_count": null,
      "source": [
        "pred_train = model.evaluate([x_data_train, seqs_train], y_data_train)\n",
        "pred_test = model.evaluate([x_data_test, seqs_eval], y_data_test)\n",
        "y_pred_train = model.predict([x_data_train, seqs_train]).astype('int').flatten()\n",
        "y_pred = model.predict([x_data_test, seqs_eval]).astype('int').flatten()"
      ],
      "outputs": [],
      "metadata": {
        "id": "ms_BWGvbE9UP"
      }
    },
    {
      "cell_type": "code",
      "execution_count": null,
      "source": [
        "#%pip install matplotlib\n",
        "import matplotlib.pyplot as plt\n",
        "\n",
        "plt.plot(history.history['loss'])\n",
        "plt.plot(history.history['val_loss'])\n",
        "plt.title('Model loss')\n",
        "plt.ylabel('Loss')\n",
        "plt.xlabel('Epoch')\n",
        "plt.legend(['Train', 'Test'], loc='upper left')\n",
        "plt.show()"
      ],
      "outputs": [
        {
          "output_type": "display_data",
          "data": {
            "image/png": "[encoded data removed]",
            "text/plain": [
              "<Figure size 432x288 with 1 Axes>"
            ]
          },
          "metadata": {
            "needs_background": "light"
          }
        }
      ],
      "metadata": {
        "id": "ngrh-y9fE9UQ",
        "outputId": "4582ca17-7562-4f57-ee1a-81053e4a4994"
      }
    },
    {
      "cell_type": "code",
      "execution_count": null,
      "source": [
        "plt.plot(history.history['acc'])\n",
        "plt.plot(history.history['val_acc'])\n",
        "plt.title('Model Accuracy')\n",
        "plt.ylabel('Accuracy')\n",
        "plt.xlabel('Epoch')\n",
        "plt.legend(['Train', 'Test'], loc='upper left')\n",
        "plt.show()"
      ],
      "outputs": [
        {
          "output_type": "display_data",
          "data": {
            "image/png": "[encoded data removed]",
            "text/plain": [
              "<Figure size 432x288 with 1 Axes>"
            ]
          },
          "metadata": {
            "needs_background": "light"
          }
        }
      ],
      "metadata": {
        "id": "5MMojcgpE9UR",
        "outputId": "7a403eb5-b4ba-4a26-c377-cac9cef35d17"
      }
    },
    {
      "cell_type": "code",
      "execution_count": null,
      "source": [
        "# %pip install seaborn\n",
        "import seaborn as sns\n",
        "from scipy.stats import pearsonr\n",
        "from matplotlib import pyplot as plt\n",
        "\n",
        "df_corr = pd.DataFrame() # Correlation matrix\n",
        "df_p = pd.DataFrame()  # Matrix of p-values\n",
        "for x in x_data.columns:\n",
        "    # for y in full_df.columns:\n",
        "    corr = pearsonr(x_data[x].astype(float), y_data)\n",
        "    df_corr.loc[x,0] = corr[0]\n",
        "    df_p.loc[x,0] = corr[1]\n",
        "\n",
        "\n",
        "# mask = np.triu(np.ones_like(df_corr, dtype=np.bool))\n",
        "cmap = sns.diverging_palette(240, 10, as_cmap=True)\n",
        "\n",
        "f = plt.figure(figsize=(8, 7))\n",
        "# plt.rc('xtick', labelsize=10)\n",
        "# plt.rc('ytick', labelsize=10)\n",
        "ax = sns.heatmap(df_corr, cmap=cmap, center=0, square=True, linewidths=.5, cbar_kws={\"shrink\": .6})\n",
        "ax.set_title('Pearson Correlation Matrix')\n",
        "bottom, top = ax.get_ylim()\n",
        "ax.set_ylim(bottom + 0.5, top - 0.5)\n",
        "plt.tight_layout()\n",
        "plt.show()\n",
        "\n",
        "f = plt.figure(figsize=(8, 7))\n",
        "# plt.rc('xtick', labelsize=10)\n",
        "# plt.rc('ytick', labelsize=10)\n",
        "ax = sns.heatmap(df_p, cmap=cmap, center=0, square=True, linewidths=.5, cbar_kws={\"shrink\": .6})\n",
        "ax.set_title('P-Value Matrix from Pearson Correlation')\n",
        "bottom, top = ax.get_ylim()\n",
        "ax.set_ylim(bottom + 0.5, top - 0.5)\n",
        "plt.tight_layout()\n",
        "plt.show()"
      ],
      "outputs": [],
      "metadata": {
        "id": "64aK4AeCE9US"
      }
    },
    {
      "cell_type": "code",
      "execution_count": null,
      "source": [],
      "outputs": [],
      "metadata": {
        "id": "5lh9ziq3E9UU"
      }
    }
  ]
}